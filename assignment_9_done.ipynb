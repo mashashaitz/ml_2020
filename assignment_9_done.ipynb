{
 "cells": [
  {
   "cell_type": "markdown",
   "metadata": {},
   "source": [
    "11 topics"
   ]
  },
  {
   "cell_type": "code",
   "execution_count": 427,
   "metadata": {},
   "outputs": [],
   "source": [
    "import numpy as np\n",
    "import pandas as pd\n",
    "import matplotlib.pyplot as plt\n",
    "from sklearn.decomposition import TruncatedSVD\n",
    "from sklearn.externals import joblib\n",
    "from sklearn import metrics\n",
    "from tqdm import tqdm\n",
    "\n",
    "%matplotlib inline\n",
    "plt.rcParams['figure.figsize'] = (10.0, 8.0) # set default size of plots\n",
    "plt.rcParams['image.interpolation'] = 'nearest'\n",
    "plt.rcParams['image.cmap'] = 'gray'"
   ]
  },
  {
   "cell_type": "code",
   "execution_count": 428,
   "metadata": {},
   "outputs": [
    {
     "name": "stdout",
     "output_type": "stream",
     "text": [
      "Read 4551 raw text documents\n"
     ]
    }
   ],
   "source": [
    "raw_documents = []\n",
    "snippets = []\n",
    "with open( \"data/data.txt\", \"r\") as f:\n",
    "    for line in f.readlines():\n",
    "        text = line.strip()\n",
    "        raw_documents.append( text.lower().replace('brexit', 'british exit').replace('lloyds', 'financial').replace('labour', 'work').replace('corbyn', 'opposition').replace('turnbull', 'bull') )\n",
    "        \n",
    "        snippets.append( text[0:min(len(text),100)] )\n",
    "print(\"Read %d raw text documents\" % len(raw_documents))"
   ]
  },
  {
   "cell_type": "code",
   "execution_count": 429,
   "metadata": {},
   "outputs": [
    {
     "name": "stdout",
     "output_type": "stream",
     "text": [
      "Stopword list has 350 entries\n"
     ]
    }
   ],
   "source": [
    "# custom stopwords\n",
    "custom_stop_words = []\n",
    "with open( \"data/stopwords.txt\", \"r\" ) as f:\n",
    "    for line in f.readlines():\n",
    "        custom_stop_words.append( line.strip().lower().replace('brexit', 'british exit').replace('lloyds', 'financial').replace('labour', 'work').replace('corbyn', 'opposition').replace('turnbull', 'bull') )\n",
    "        \n",
    "print(\"Stopword list has %d entries\" % len(custom_stop_words) )"
   ]
  },
  {
   "cell_type": "code",
   "execution_count": 430,
   "metadata": {},
   "outputs": [
    {
     "name": "stdout",
     "output_type": "stream",
     "text": [
      "Created 4551 X 10280 TF-IDF-normalized document-term matrix\n"
     ]
    }
   ],
   "source": [
    "# create BoW + tf-idf model\n",
    "from sklearn.feature_extraction.text import TfidfVectorizer\n",
    "\n",
    "\n",
    "vectorizer = TfidfVectorizer(stop_words=custom_stop_words, min_df = 20)\n",
    "A = vectorizer.fit_transform(raw_documents)\n",
    "print( \"Created %d X %d TF-IDF-normalized document-term matrix\" % (A.shape[0], A.shape[1]) )\n",
    "\n",
    "terms = vectorizer.get_feature_names() "
   ]
  },
  {
   "cell_type": "code",
   "execution_count": 431,
   "metadata": {},
   "outputs": [],
   "source": [
    "# create the model\n",
    "k = 11\n",
    "model = TruncatedSVD(n_components=k ) \n",
    "\n",
    "W = model.fit_transform( A )\n",
    "H = model.components_"
   ]
  },
  {
   "cell_type": "code",
   "execution_count": 432,
   "metadata": {},
   "outputs": [
    {
     "data": {
      "text/plain": [
       "(4551, 11)"
      ]
     },
     "execution_count": 432,
     "metadata": {},
     "output_type": "execute_result"
    }
   ],
   "source": [
    "W.shape"
   ]
  },
  {
   "cell_type": "code",
   "execution_count": 433,
   "metadata": {},
   "outputs": [
    {
     "data": {
      "text/plain": [
       "array([ 0.12, -0.06,  0.02, -0.05,  0.24, -0.1 ,  0.  , -0.04,  0.11,\n",
       "        0.02, -0.07])"
      ]
     },
     "execution_count": 433,
     "metadata": {},
     "output_type": "execute_result"
    }
   ],
   "source": [
    "W[0,:].round(2)"
   ]
  },
  {
   "cell_type": "code",
   "execution_count": 434,
   "metadata": {},
   "outputs": [
    {
     "data": {
      "text/plain": [
       "(11, 10280)"
      ]
     },
     "execution_count": 434,
     "metadata": {},
     "output_type": "execute_result"
    }
   ],
   "source": [
    "H.shape"
   ]
  },
  {
   "cell_type": "code",
   "execution_count": 435,
   "metadata": {},
   "outputs": [
    {
     "data": {
      "text/plain": [
       "array([ 0.1 , -0.12,  0.15,  0.03, -0.01, -0.03, -0.01,  0.04, -0.25,\n",
       "        0.02, -0.03])"
      ]
     },
     "execution_count": 435,
     "metadata": {},
     "output_type": "execute_result"
    }
   ],
   "source": [
    "H[:,terms.index('uk')].round(2)"
   ]
  },
  {
   "cell_type": "code",
   "execution_count": 436,
   "metadata": {},
   "outputs": [
    {
     "name": "stdout",
     "output_type": "stream",
     "text": [
      "Topic 01: trump, eu, people, british, clinton, uk, exit, campaign, work, time\n",
      "Topic 02: trump, clinton, republican, donald, hillary, cruz, president, sanders, presidential, campaign\n",
      "Topic 03: eu, british, exit, uk, britain, vote, referendum, leave, trump, european\n",
      "Topic 04: league, eu, season, leicester, premier, goal, united, liverpool, ball, city\n",
      "Topic 05: bank, banks, financial, banking, customers, rbs, shares, deutsche, barclays, hsbc\n",
      "Topic 06: health, nhs, care, mental, patients, doctors, hospital, people, social, services\n",
      "Topic 07: album, music, band, song, songs, pop, rock, bowie, sound, guitar\n",
      "Topic 08: facebook, internet, online, google, twitter, users, media, company, amazon, technology\n",
      "Topic 09: party, bank, cameron, work, opposition, campaign, voters, banks, johnson, mps\n",
      "Topic 10: women, mental, health, abortion, people, men, cancer, woman, children, bank\n",
      "Topic 11: clinton, sanders, vote, cruz, exit, voters, british, pound, growth, party\n"
     ]
    }
   ],
   "source": [
    "# show topic descriptors\n",
    "def get_descriptor( terms, H, topic_index, top ):\n",
    "    top_indices = np.argsort( H[topic_index,:] )[::-1]\n",
    "    top_terms = []\n",
    "    for term_index in top_indices[0:top]:\n",
    "        top_terms.append( terms[term_index] )\n",
    "    return top_terms\n",
    "\n",
    "descriptors = []\n",
    "for topic_index in range(k):\n",
    "    descriptors.append( get_descriptor( terms, H, topic_index, 10 ) )\n",
    "    str_descriptor = \", \".join( descriptors[topic_index] )\n",
    "    print(\"Topic %02d: %s\" % ( topic_index+1, str_descriptor ) )"
   ]
  },
  {
   "cell_type": "code",
   "execution_count": 437,
   "metadata": {},
   "outputs": [
    {
     "name": "stdout",
     "output_type": "stream",
     "text": [
      "01. Obama talks trans bathroom access as Trump defends business practices – as it happened Here are the \n",
      "02. Melania Trump defends husband's 'boy talk' in CNN interview – as it happened Speaking to CNN’s Ander\n",
      "03. Hillary Clinton: 'I'm sick of the Sanders campaign's lies' – as it happened One of the most importan\n",
      "04. Donald Trump hits delegate count needed for Republican nomination – as it happened On the one hand, \n",
      "05. Trump campaign reportedly vetting Christie, Gingrich as potential running mates – as it happened Don\n",
      "06. Clinton seizes on Trump tweets for day of campaigning in Florida – as it happened Donald Trump was a\n",
      "07. Trump wins Washington primary as protests erupt by Albuquerque rally – as it happened Donald Trump w\n",
      "08. DNC 2016, day three: emotional Obama passes baton to Clinton – as it happened The sun has set on day\n",
      "09. Donald Trump: money raised by Hillary Clinton is 'blood money' – as it happened Hillary Clinton deli\n",
      "10. Donald Trump: Hillary Clinton has 'no right to be running' – as it happened Deep antipathy to Hillar\n"
     ]
    }
   ],
   "source": [
    "def get_top_snippets( all_snippets, W, topic_index, top ):\n",
    "    top_indices = np.argsort( W[:,topic_index] )[::-1]\n",
    "    top_snippets = []\n",
    "    for doc_index in top_indices[0:top]:\n",
    "        top_snippets.append( all_snippets[doc_index] )\n",
    "    return top_snippets\n",
    "\n",
    "topic_snippets = get_top_snippets( snippets, W, 0, 10 )\n",
    "for i, snippet in enumerate(topic_snippets):\n",
    "    print(\"%02d. %s\" % ( (i+1), snippet ) )"
   ]
  },
  {
   "cell_type": "code",
   "execution_count": 438,
   "metadata": {},
   "outputs": [
    {
     "name": "stderr",
     "output_type": "stream",
     "text": [
      "100%|██████████| 12/12 [00:02<00:00,  4.51it/s]\n"
     ]
    }
   ],
   "source": [
    "kmin, kmax = 4, 15\n",
    "\n",
    "topic_models = []\n",
    "for k in tqdm(range(kmin,kmax+1)):\n",
    "    model = TruncatedSVD(n_components=k ) \n",
    "    W = model.fit_transform( A )\n",
    "    H = model.components_    \n",
    "    topic_models.append( (k,W,H) )"
   ]
  },
  {
   "cell_type": "code",
   "execution_count": 439,
   "metadata": {},
   "outputs": [
    {
     "name": "stdout",
     "output_type": "stream",
     "text": [
      "Requirement already up-to-date: gensim in /Library/Frameworks/Python.framework/Versions/3.8/lib/python3.8/site-packages (3.8.1)\n",
      "Requirement already satisfied, skipping upgrade: numpy>=1.11.3 in /Library/Frameworks/Python.framework/Versions/3.8/lib/python3.8/site-packages (from gensim) (1.18.2)\n",
      "Requirement already satisfied, skipping upgrade: scipy>=0.18.1 in /Library/Frameworks/Python.framework/Versions/3.8/lib/python3.8/site-packages (from gensim) (1.4.1)\n",
      "Requirement already satisfied, skipping upgrade: six>=1.5.0 in /Library/Frameworks/Python.framework/Versions/3.8/lib/python3.8/site-packages (from gensim) (1.14.0)\n",
      "Requirement already satisfied, skipping upgrade: smart_open>=1.8.1 in /Library/Frameworks/Python.framework/Versions/3.8/lib/python3.8/site-packages (from gensim) (1.10.0)\n",
      "Requirement already satisfied, skipping upgrade: requests in /Library/Frameworks/Python.framework/Versions/3.8/lib/python3.8/site-packages (from smart_open>=1.8.1->gensim) (2.23.0)\n",
      "Requirement already satisfied, skipping upgrade: boto3 in /Library/Frameworks/Python.framework/Versions/3.8/lib/python3.8/site-packages (from smart_open>=1.8.1->gensim) (1.12.23)\n",
      "Requirement already satisfied, skipping upgrade: google-cloud-storage in /Library/Frameworks/Python.framework/Versions/3.8/lib/python3.8/site-packages (from smart_open>=1.8.1->gensim) (1.26.0)\n",
      "Requirement already satisfied, skipping upgrade: urllib3!=1.25.0,!=1.25.1,<1.26,>=1.21.1 in /Library/Frameworks/Python.framework/Versions/3.8/lib/python3.8/site-packages (from requests->smart_open>=1.8.1->gensim) (1.25.8)\n",
      "Requirement already satisfied, skipping upgrade: chardet<4,>=3.0.2 in /Library/Frameworks/Python.framework/Versions/3.8/lib/python3.8/site-packages (from requests->smart_open>=1.8.1->gensim) (3.0.4)\n",
      "Requirement already satisfied, skipping upgrade: idna<3,>=2.5 in /Library/Frameworks/Python.framework/Versions/3.8/lib/python3.8/site-packages (from requests->smart_open>=1.8.1->gensim) (2.9)\n",
      "Requirement already satisfied, skipping upgrade: certifi>=2017.4.17 in /Library/Frameworks/Python.framework/Versions/3.8/lib/python3.8/site-packages (from requests->smart_open>=1.8.1->gensim) (2019.11.28)\n",
      "Requirement already satisfied, skipping upgrade: s3transfer<0.4.0,>=0.3.0 in /Library/Frameworks/Python.framework/Versions/3.8/lib/python3.8/site-packages (from boto3->smart_open>=1.8.1->gensim) (0.3.3)\n",
      "Requirement already satisfied, skipping upgrade: botocore<1.16.0,>=1.15.23 in /Library/Frameworks/Python.framework/Versions/3.8/lib/python3.8/site-packages (from boto3->smart_open>=1.8.1->gensim) (1.15.23)\n",
      "Requirement already satisfied, skipping upgrade: jmespath<1.0.0,>=0.7.1 in /Library/Frameworks/Python.framework/Versions/3.8/lib/python3.8/site-packages (from boto3->smart_open>=1.8.1->gensim) (0.9.5)\n",
      "Requirement already satisfied, skipping upgrade: google-resumable-media<0.6dev,>=0.5.0 in /Library/Frameworks/Python.framework/Versions/3.8/lib/python3.8/site-packages (from google-cloud-storage->smart_open>=1.8.1->gensim) (0.5.0)\n",
      "Requirement already satisfied, skipping upgrade: google-cloud-core<2.0dev,>=1.2.0 in /Library/Frameworks/Python.framework/Versions/3.8/lib/python3.8/site-packages (from google-cloud-storage->smart_open>=1.8.1->gensim) (1.3.0)\n",
      "Requirement already satisfied, skipping upgrade: google-auth<2.0dev,>=1.11.0 in /Library/Frameworks/Python.framework/Versions/3.8/lib/python3.8/site-packages (from google-cloud-storage->smart_open>=1.8.1->gensim) (1.11.3)\n",
      "Requirement already satisfied, skipping upgrade: docutils<0.16,>=0.10 in /Library/Frameworks/Python.framework/Versions/3.8/lib/python3.8/site-packages (from botocore<1.16.0,>=1.15.23->boto3->smart_open>=1.8.1->gensim) (0.15.2)\n",
      "Requirement already satisfied, skipping upgrade: python-dateutil<3.0.0,>=2.1 in /Library/Frameworks/Python.framework/Versions/3.8/lib/python3.8/site-packages (from botocore<1.16.0,>=1.15.23->boto3->smart_open>=1.8.1->gensim) (2.8.1)\n",
      "Requirement already satisfied, skipping upgrade: google-api-core<2.0.0dev,>=1.16.0 in /Library/Frameworks/Python.framework/Versions/3.8/lib/python3.8/site-packages (from google-cloud-core<2.0dev,>=1.2.0->google-cloud-storage->smart_open>=1.8.1->gensim) (1.16.0)\n",
      "Requirement already satisfied, skipping upgrade: rsa<4.1,>=3.1.4 in /Library/Frameworks/Python.framework/Versions/3.8/lib/python3.8/site-packages (from google-auth<2.0dev,>=1.11.0->google-cloud-storage->smart_open>=1.8.1->gensim) (4.0)\n",
      "Requirement already satisfied, skipping upgrade: pyasn1-modules>=0.2.1 in /Library/Frameworks/Python.framework/Versions/3.8/lib/python3.8/site-packages (from google-auth<2.0dev,>=1.11.0->google-cloud-storage->smart_open>=1.8.1->gensim) (0.2.8)\n",
      "Requirement already satisfied, skipping upgrade: cachetools<5.0,>=2.0.0 in /Library/Frameworks/Python.framework/Versions/3.8/lib/python3.8/site-packages (from google-auth<2.0dev,>=1.11.0->google-cloud-storage->smart_open>=1.8.1->gensim) (4.0.0)\n",
      "Requirement already satisfied, skipping upgrade: setuptools>=40.3.0 in /Library/Frameworks/Python.framework/Versions/3.8/lib/python3.8/site-packages (from google-auth<2.0dev,>=1.11.0->google-cloud-storage->smart_open>=1.8.1->gensim) (41.2.0)\n",
      "Requirement already satisfied, skipping upgrade: protobuf>=3.4.0 in /Library/Frameworks/Python.framework/Versions/3.8/lib/python3.8/site-packages (from google-api-core<2.0.0dev,>=1.16.0->google-cloud-core<2.0dev,>=1.2.0->google-cloud-storage->smart_open>=1.8.1->gensim) (3.11.3)\n",
      "Requirement already satisfied, skipping upgrade: googleapis-common-protos<2.0dev,>=1.6.0 in /Library/Frameworks/Python.framework/Versions/3.8/lib/python3.8/site-packages (from google-api-core<2.0.0dev,>=1.16.0->google-cloud-core<2.0dev,>=1.2.0->google-cloud-storage->smart_open>=1.8.1->gensim) (1.51.0)\n",
      "Requirement already satisfied, skipping upgrade: pytz in /Library/Frameworks/Python.framework/Versions/3.8/lib/python3.8/site-packages (from google-api-core<2.0.0dev,>=1.16.0->google-cloud-core<2.0dev,>=1.2.0->google-cloud-storage->smart_open>=1.8.1->gensim) (2019.3)\n",
      "Requirement already satisfied, skipping upgrade: pyasn1>=0.1.3 in /Library/Frameworks/Python.framework/Versions/3.8/lib/python3.8/site-packages (from rsa<4.1,>=3.1.4->google-auth<2.0dev,>=1.11.0->google-cloud-storage->smart_open>=1.8.1->gensim) (0.4.8)\n"
     ]
    }
   ],
   "source": [
    "!pip3 install --upgrade gensim"
   ]
  },
  {
   "cell_type": "code",
   "execution_count": 440,
   "metadata": {},
   "outputs": [
    {
     "name": "stdout",
     "output_type": "stream",
     "text": [
      "Model has 3000000 terms\n"
     ]
    },
    {
     "name": "stderr",
     "output_type": "stream",
     "text": [
      "<ipython-input-440-14470ac107fb>:5: DeprecationWarning: Call to deprecated `wv` (Attribute will be removed in 4.0.0, use self instead).\n",
      "  print( \"Model has %d terms\" % len(w2v_model.wv.vocab) )\n"
     ]
    }
   ],
   "source": [
    "import gensim\n",
    "import gensim.models.keyedvectors as word2vec\n",
    "\n",
    "w2v_model = word2vec.KeyedVectors.load_word2vec_format('GoogleNews-vectors-negative300.bin', binary=True)\n",
    "print( \"Model has %d terms\" % len(w2v_model.wv.vocab) )"
   ]
  },
  {
   "cell_type": "code",
   "execution_count": 441,
   "metadata": {},
   "outputs": [
    {
     "name": "stdout",
     "output_type": "stream",
     "text": [
      "K=04: Coherence=0.1548\n",
      "K=05: Coherence=0.1777\n",
      "K=06: Coherence=0.1904\n",
      "K=07: Coherence=0.2188\n",
      "K=08: Coherence=0.2221\n",
      "K=09: Coherence=0.2116\n",
      "K=10: Coherence=0.2117\n",
      "K=11: Coherence=0.2011\n",
      "K=12: Coherence=0.1957\n",
      "K=13: Coherence=0.1893\n",
      "K=14: Coherence=0.1920\n",
      "K=15: Coherence=0.1847\n"
     ]
    }
   ],
   "source": [
    "from itertools import combinations\n",
    "\n",
    "\n",
    "def calculate_coherence( w2v_model, term_rankings ):\n",
    "    overall_coherence = 0.0\n",
    "    for topic_index in range(len(term_rankings)):\n",
    "        # check each pair of terms\n",
    "        pair_scores = []\n",
    "        for pair in combinations( term_rankings[topic_index], 2 ):\n",
    "            pair_scores.append( w2v_model.similarity(pair[0], pair[1]) )\n",
    "        # get the mean for all pairs in this topic\n",
    "        topic_score = sum(pair_scores) / len(pair_scores)\n",
    "        overall_coherence += topic_score\n",
    "    # get the mean score across all topics\n",
    "    return overall_coherence / len(term_rankings)\n",
    "\n",
    "k_values = []\n",
    "coherences = []\n",
    "for (k,W,H) in topic_models:\n",
    "    # Get all of the topic descriptors - the term_rankings, based on top 10 terms\n",
    "    term_rankings = []\n",
    "    for topic_index in range(k):\n",
    "        term_rankings.append( get_descriptor( terms, H, topic_index, 10 ) )\n",
    "    # Now calculate the coherence based on our Word2vec model\n",
    "    k_values.append( k )\n",
    "    coherences.append( calculate_coherence( w2v_model, term_rankings ) )\n",
    "    print(\"K=%02d: Coherence=%.4f\" % ( k, coherences[-1] ) )"
   ]
  },
  {
   "cell_type": "code",
   "execution_count": 442,
   "metadata": {},
   "outputs": [
    {
     "data": {
      "image/png": "[encoded data removed]",
      "text/plain": [
       "<Figure size 936x504 with 1 Axes>"
      ]
     },
     "metadata": {
      "needs_background": "light"
     },
     "output_type": "display_data"
    }
   ],
   "source": [
    "fig = plt.figure(figsize=(13,7))\n",
    "# create the line plot\n",
    "ax = plt.plot( k_values, coherences )\n",
    "plt.xticks(k_values)\n",
    "plt.xlabel(\"Number of Topics\")\n",
    "plt.ylabel(\"Mean Coherence\")\n",
    "# add the points\n",
    "plt.scatter( k_values, coherences, s=120)\n",
    "# find and annotate the maximum point on the plot\n",
    "ymax = max(coherences)\n",
    "xpos = coherences.index(ymax)\n",
    "best_k = k_values[xpos]\n",
    "plt.annotate( \"k=%d\" % best_k, xy=(best_k, ymax), xytext=(best_k, ymax), textcoords=\"offset points\", fontsize=16)\n",
    "# show the plot\n",
    "plt.show()"
   ]
  },
  {
   "cell_type": "code",
   "execution_count": 443,
   "metadata": {},
   "outputs": [
    {
     "name": "stdout",
     "output_type": "stream",
     "text": [
      "Topic 01: trump, eu, people, british, clinton, uk, exit, campaign, work, time\n",
      "Topic 02: trump, clinton, republican, donald, hillary, cruz, president, sanders, presidential, campaign\n",
      "Topic 03: eu, british, exit, uk, britain, vote, referendum, leave, trump, european\n",
      "Topic 04: league, eu, season, leicester, premier, goal, united, liverpool, ball, city\n",
      "Topic 05: bank, banks, financial, banking, customers, rbs, shares, deutsche, barclays, hsbc\n",
      "Topic 06: health, nhs, care, mental, patients, doctors, hospital, people, social, services\n",
      "Topic 07: album, music, song, band, songs, pop, rock, sound, bowie, guitar\n",
      "Topic 08: facebook, internet, online, twitter, google, users, media, amazon, company, technology\n"
     ]
    }
   ],
   "source": [
    "k = best_k\n",
    "# get the model that we generated earlier.\n",
    "W = topic_models[k-kmin][1]\n",
    "H = topic_models[k-kmin][2]\n",
    "\n",
    "for topic_index in range(k):\n",
    "    descriptor = get_descriptor( terms, H, topic_index, 10 )\n",
    "    str_descriptor = \", \".join( descriptor )\n",
    "    print(\"Topic %02d: %s\" % ( topic_index+1, str_descriptor ) )"
   ]
  },
  {
   "cell_type": "markdown",
   "metadata": {},
   "source": [
    "7 topics"
   ]
  },
  {
   "cell_type": "code",
   "execution_count": 444,
   "metadata": {},
   "outputs": [],
   "source": [
    "import numpy as np\n",
    "import pandas as pd\n",
    "import matplotlib.pyplot as plt\n",
    "from sklearn.decomposition import TruncatedSVD\n",
    "from sklearn.externals import joblib\n",
    "from sklearn import metrics\n",
    "from tqdm import tqdm\n",
    "\n",
    "%matplotlib inline\n",
    "plt.rcParams['figure.figsize'] = (10.0, 8.0) # set default size of plots\n",
    "plt.rcParams['image.interpolation'] = 'nearest'\n",
    "plt.rcParams['image.cmap'] = 'gray'"
   ]
  },
  {
   "cell_type": "code",
   "execution_count": 445,
   "metadata": {},
   "outputs": [
    {
     "name": "stdout",
     "output_type": "stream",
     "text": [
      "Read 4551 raw text documents\n"
     ]
    }
   ],
   "source": [
    "raw_documents = []\n",
    "snippets = []\n",
    "with open( \"data/data.txt\", \"r\") as f:\n",
    "    for line in f.readlines():\n",
    "        text = line.strip()\n",
    "        raw_documents.append( text.lower().replace('brexit', 'british exit').replace('lloyds', 'financial').replace('labour', 'work').replace('corbyn', 'opposition').replace('turnbull', 'bull') )\n",
    "        \n",
    "        snippets.append( text[0:min(len(text),100)] )\n",
    "print(\"Read %d raw text documents\" % len(raw_documents))"
   ]
  },
  {
   "cell_type": "code",
   "execution_count": 446,
   "metadata": {},
   "outputs": [
    {
     "name": "stdout",
     "output_type": "stream",
     "text": [
      "Stopword list has 350 entries\n"
     ]
    }
   ],
   "source": [
    "# custom stopwords\n",
    "custom_stop_words = []\n",
    "with open( \"data/stopwords.txt\", \"r\" ) as f:\n",
    "    for line in f.readlines():\n",
    "        custom_stop_words.append( line.strip().lower().replace('brexit', 'british exit').replace('lloyds', 'financial').replace('labour', 'work').replace('corbyn', 'opposition').replace('turnbull', 'bull') )\n",
    "        \n",
    "print(\"Stopword list has %d entries\" % len(custom_stop_words) )"
   ]
  },
  {
   "cell_type": "code",
   "execution_count": 447,
   "metadata": {},
   "outputs": [
    {
     "name": "stdout",
     "output_type": "stream",
     "text": [
      "Created 4551 X 10280 TF-IDF-normalized document-term matrix\n"
     ]
    }
   ],
   "source": [
    "# create BoW + tf-idf model\n",
    "from sklearn.feature_extraction.text import TfidfVectorizer\n",
    "\n",
    "\n",
    "vectorizer = TfidfVectorizer(stop_words=custom_stop_words, min_df = 20)\n",
    "A = vectorizer.fit_transform(raw_documents)\n",
    "print( \"Created %d X %d TF-IDF-normalized document-term matrix\" % (A.shape[0], A.shape[1]) )\n",
    "\n",
    "terms = vectorizer.get_feature_names() "
   ]
  },
  {
   "cell_type": "code",
   "execution_count": 448,
   "metadata": {},
   "outputs": [],
   "source": [
    "# create the model\n",
    "k = 7\n",
    "model = TruncatedSVD(n_components=k ) \n",
    "\n",
    "W = model.fit_transform( A )\n",
    "H = model.components_"
   ]
  },
  {
   "cell_type": "code",
   "execution_count": 449,
   "metadata": {},
   "outputs": [
    {
     "data": {
      "text/plain": [
       "(4551, 7)"
      ]
     },
     "execution_count": 449,
     "metadata": {},
     "output_type": "execute_result"
    }
   ],
   "source": [
    "W.shape"
   ]
  },
  {
   "cell_type": "code",
   "execution_count": 450,
   "metadata": {},
   "outputs": [
    {
     "data": {
      "text/plain": [
       "array([ 0.12, -0.06,  0.02, -0.05,  0.24, -0.1 ,  0.  ])"
      ]
     },
     "execution_count": 450,
     "metadata": {},
     "output_type": "execute_result"
    }
   ],
   "source": [
    "W[0,:].round(2)"
   ]
  },
  {
   "cell_type": "code",
   "execution_count": 451,
   "metadata": {},
   "outputs": [
    {
     "data": {
      "text/plain": [
       "(7, 10280)"
      ]
     },
     "execution_count": 451,
     "metadata": {},
     "output_type": "execute_result"
    }
   ],
   "source": [
    "H.shape"
   ]
  },
  {
   "cell_type": "code",
   "execution_count": 452,
   "metadata": {},
   "outputs": [
    {
     "data": {
      "text/plain": [
       "array([ 0.1 , -0.12,  0.15,  0.03, -0.01, -0.03, -0.01])"
      ]
     },
     "execution_count": 452,
     "metadata": {},
     "output_type": "execute_result"
    }
   ],
   "source": [
    "H[:,terms.index('uk')].round(2)"
   ]
  },
  {
   "cell_type": "code",
   "execution_count": 453,
   "metadata": {},
   "outputs": [
    {
     "name": "stdout",
     "output_type": "stream",
     "text": [
      "Topic 01: trump, eu, people, british, clinton, uk, exit, campaign, work, time\n",
      "Topic 02: trump, clinton, republican, donald, hillary, cruz, president, sanders, presidential, campaign\n",
      "Topic 03: eu, british, exit, uk, britain, vote, referendum, leave, trump, european\n",
      "Topic 04: league, eu, season, leicester, premier, goal, united, liverpool, ball, city\n",
      "Topic 05: bank, banks, financial, banking, customers, rbs, shares, deutsche, barclays, hsbc\n",
      "Topic 06: health, nhs, care, mental, patients, doctors, hospital, people, social, services\n",
      "Topic 07: album, music, band, song, songs, pop, rock, bowie, sound, guitar\n"
     ]
    }
   ],
   "source": [
    "# show topic descriptors\n",
    "def get_descriptor( terms, H, topic_index, top ):\n",
    "    top_indices = np.argsort( H[topic_index,:] )[::-1]\n",
    "    top_terms = []\n",
    "    for term_index in top_indices[0:top]:\n",
    "        top_terms.append( terms[term_index] )\n",
    "    return top_terms\n",
    "\n",
    "descriptors = []\n",
    "for topic_index in range(k):\n",
    "    descriptors.append( get_descriptor( terms, H, topic_index, 10 ) )\n",
    "    str_descriptor = \", \".join( descriptors[topic_index] )\n",
    "    print(\"Topic %02d: %s\" % ( topic_index+1, str_descriptor ) )"
   ]
  },
  {
   "cell_type": "code",
   "execution_count": 454,
   "metadata": {},
   "outputs": [
    {
     "name": "stdout",
     "output_type": "stream",
     "text": [
      "01. Obama talks trans bathroom access as Trump defends business practices – as it happened Here are the \n",
      "02. Melania Trump defends husband's 'boy talk' in CNN interview – as it happened Speaking to CNN’s Ander\n",
      "03. Hillary Clinton: 'I'm sick of the Sanders campaign's lies' – as it happened One of the most importan\n",
      "04. Donald Trump hits delegate count needed for Republican nomination – as it happened On the one hand, \n",
      "05. Trump campaign reportedly vetting Christie, Gingrich as potential running mates – as it happened Don\n",
      "06. Clinton seizes on Trump tweets for day of campaigning in Florida – as it happened Donald Trump was a\n",
      "07. Trump wins Washington primary as protests erupt by Albuquerque rally – as it happened Donald Trump w\n",
      "08. DNC 2016, day three: emotional Obama passes baton to Clinton – as it happened The sun has set on day\n",
      "09. Donald Trump: money raised by Hillary Clinton is 'blood money' – as it happened Hillary Clinton deli\n",
      "10. Donald Trump: Hillary Clinton has 'no right to be running' – as it happened Deep antipathy to Hillar\n"
     ]
    }
   ],
   "source": [
    "def get_top_snippets( all_snippets, W, topic_index, top ):\n",
    "    top_indices = np.argsort( W[:,topic_index] )[::-1]\n",
    "    top_snippets = []\n",
    "    for doc_index in top_indices[0:top]:\n",
    "        top_snippets.append( all_snippets[doc_index] )\n",
    "    return top_snippets\n",
    "\n",
    "topic_snippets = get_top_snippets( snippets, W, 0, 10 )\n",
    "for i, snippet in enumerate(topic_snippets):\n",
    "    print(\"%02d. %s\" % ( (i+1), snippet ) )"
   ]
  },
  {
   "cell_type": "code",
   "execution_count": 455,
   "metadata": {},
   "outputs": [
    {
     "name": "stderr",
     "output_type": "stream",
     "text": [
      "100%|██████████| 12/12 [00:02<00:00,  4.18it/s]\n"
     ]
    }
   ],
   "source": [
    "kmin, kmax = 4, 15\n",
    "\n",
    "topic_models = []\n",
    "for k in tqdm(range(kmin,kmax+1)):\n",
    "    model = TruncatedSVD(n_components=k ) \n",
    "    W = model.fit_transform( A )\n",
    "    H = model.components_    \n",
    "    topic_models.append( (k,W,H) )"
   ]
  },
  {
   "cell_type": "code",
   "execution_count": 456,
   "metadata": {},
   "outputs": [
    {
     "name": "stdout",
     "output_type": "stream",
     "text": [
      "K=04: Coherence=0.1548\n",
      "K=05: Coherence=0.1777\n",
      "K=06: Coherence=0.1904\n",
      "K=07: Coherence=0.2188\n",
      "K=08: Coherence=0.2221\n",
      "K=09: Coherence=0.2130\n",
      "K=10: Coherence=0.2145\n",
      "K=11: Coherence=0.2061\n",
      "K=12: Coherence=0.1962\n",
      "K=13: Coherence=0.1900\n",
      "K=14: Coherence=0.1917\n",
      "K=15: Coherence=0.1832\n"
     ]
    }
   ],
   "source": [
    "from itertools import combinations\n",
    "\n",
    "\n",
    "def calculate_coherence( w2v_model, term_rankings ):\n",
    "    overall_coherence = 0.0\n",
    "    for topic_index in range(len(term_rankings)):\n",
    "        # check each pair of terms\n",
    "        pair_scores = []\n",
    "        for pair in combinations( term_rankings[topic_index], 2 ):\n",
    "            pair_scores.append( w2v_model.similarity(pair[0], pair[1]) )\n",
    "        # get the mean for all pairs in this topic\n",
    "        topic_score = sum(pair_scores) / len(pair_scores)\n",
    "        overall_coherence += topic_score\n",
    "    # get the mean score across all topics\n",
    "    return overall_coherence / len(term_rankings)\n",
    "\n",
    "k_values = []\n",
    "coherences = []\n",
    "for (k,W,H) in topic_models:\n",
    "    # Get all of the topic descriptors - the term_rankings, based on top 10 terms\n",
    "    term_rankings = []\n",
    "    for topic_index in range(k):\n",
    "        term_rankings.append( get_descriptor( terms, H, topic_index, 10 ) )\n",
    "    # Now calculate the coherence based on our Word2vec model\n",
    "    k_values.append( k )\n",
    "    coherences.append( calculate_coherence( w2v_model, term_rankings ) )\n",
    "    print(\"K=%02d: Coherence=%.4f\" % ( k, coherences[-1] ) )"
   ]
  },
  {
   "cell_type": "code",
   "execution_count": 457,
   "metadata": {},
   "outputs": [
    {
     "data": {
      "image/png": "[encoded data removed]",
      "text/plain": [
       "<Figure size 936x504 with 1 Axes>"
      ]
     },
     "metadata": {
      "needs_background": "light"
     },
     "output_type": "display_data"
    }
   ],
   "source": [
    "fig = plt.figure(figsize=(13,7))\n",
    "# create the line plot\n",
    "ax = plt.plot( k_values, coherences )\n",
    "plt.xticks(k_values)\n",
    "plt.xlabel(\"Number of Topics\")\n",
    "plt.ylabel(\"Mean Coherence\")\n",
    "# add the points\n",
    "plt.scatter( k_values, coherences, s=120)\n",
    "# find and annotate the maximum point on the plot\n",
    "ymax = max(coherences)\n",
    "xpos = coherences.index(ymax)\n",
    "best_k = k_values[xpos]\n",
    "plt.annotate( \"k=%d\" % best_k, xy=(best_k, ymax), xytext=(best_k, ymax), textcoords=\"offset points\", fontsize=16)\n",
    "# show the plot\n",
    "plt.show()"
   ]
  },
  {
   "cell_type": "code",
   "execution_count": 458,
   "metadata": {},
   "outputs": [
    {
     "name": "stdout",
     "output_type": "stream",
     "text": [
      "Topic 01: trump, eu, people, british, clinton, uk, exit\n",
      "Topic 02: trump, clinton, republican, donald, hillary, cruz, president\n",
      "Topic 03: eu, british, exit, uk, britain, vote, referendum\n",
      "Topic 04: league, eu, season, leicester, premier, goal, united\n",
      "Topic 05: bank, banks, financial, banking, customers, rbs, shares\n",
      "Topic 06: health, nhs, care, mental, patients, doctors, hospital\n",
      "Topic 07: album, music, band, song, songs, pop, rock\n",
      "Topic 08: facebook, internet, online, twitter, google, users, media\n"
     ]
    }
   ],
   "source": [
    "k = best_k\n",
    "# get the model that we generated earlier.\n",
    "W = topic_models[k-kmin][1]\n",
    "H = topic_models[k-kmin][2]\n",
    "\n",
    "for topic_index in range(k):\n",
    "    descriptor = get_descriptor( terms, H, topic_index, 7 )\n",
    "    str_descriptor = \", \".join( descriptor )\n",
    "    print(\"Topic %02d: %s\" % ( topic_index+1, str_descriptor ) )"
   ]
  },
  {
   "cell_type": "markdown",
   "metadata": {},
   "source": [
    "5 topics"
   ]
  },
  {
   "cell_type": "code",
   "execution_count": 459,
   "metadata": {},
   "outputs": [],
   "source": [
    "import numpy as np\n",
    "import pandas as pd\n",
    "import matplotlib.pyplot as plt\n",
    "from sklearn.decomposition import TruncatedSVD\n",
    "from sklearn.externals import joblib\n",
    "from sklearn import metrics\n",
    "from tqdm import tqdm\n",
    "\n",
    "%matplotlib inline\n",
    "plt.rcParams['figure.figsize'] = (10.0, 8.0) # set default size of plots\n",
    "plt.rcParams['image.interpolation'] = 'nearest'\n",
    "plt.rcParams['image.cmap'] = 'gray'"
   ]
  },
  {
   "cell_type": "code",
   "execution_count": 460,
   "metadata": {},
   "outputs": [
    {
     "name": "stdout",
     "output_type": "stream",
     "text": [
      "Read 4551 raw text documents\n"
     ]
    }
   ],
   "source": [
    "raw_documents = []\n",
    "snippets = []\n",
    "with open( \"data/data.txt\", \"r\") as f:\n",
    "    for line in f.readlines():\n",
    "        text = line.strip()\n",
    "        raw_documents.append( text.lower().replace('brexit', 'british exit').replace('lloyds', 'financial').replace('labour', 'work').replace('corbyn', 'opposition').replace('turnbull', 'bull') )\n",
    "        \n",
    "        snippets.append( text[0:min(len(text),100)] )\n",
    "print(\"Read %d raw text documents\" % len(raw_documents))"
   ]
  },
  {
   "cell_type": "code",
   "execution_count": 461,
   "metadata": {},
   "outputs": [
    {
     "name": "stdout",
     "output_type": "stream",
     "text": [
      "Stopword list has 350 entries\n"
     ]
    }
   ],
   "source": [
    "# custom stopwords\n",
    "custom_stop_words = []\n",
    "with open( \"data/stopwords.txt\", \"r\" ) as f:\n",
    "    for line in f.readlines():\n",
    "        custom_stop_words.append( line.strip().lower().replace('brexit', 'british exit').replace('lloyds', 'financial').replace('labour', 'work').replace('corbyn', 'opposition').replace('turnbull', 'bull') )\n",
    "        \n",
    "print(\"Stopword list has %d entries\" % len(custom_stop_words) )"
   ]
  },
  {
   "cell_type": "code",
   "execution_count": 462,
   "metadata": {},
   "outputs": [
    {
     "name": "stdout",
     "output_type": "stream",
     "text": [
      "Created 4551 X 10280 TF-IDF-normalized document-term matrix\n"
     ]
    }
   ],
   "source": [
    "# create BoW + tf-idf model\n",
    "from sklearn.feature_extraction.text import TfidfVectorizer\n",
    "\n",
    "\n",
    "vectorizer = TfidfVectorizer(stop_words=custom_stop_words, min_df = 20)\n",
    "A = vectorizer.fit_transform(raw_documents)\n",
    "print( \"Created %d X %d TF-IDF-normalized document-term matrix\" % (A.shape[0], A.shape[1]) )\n",
    "\n",
    "terms = vectorizer.get_feature_names() "
   ]
  },
  {
   "cell_type": "code",
   "execution_count": 463,
   "metadata": {},
   "outputs": [],
   "source": [
    "# create the model\n",
    "k = 11\n",
    "model = TruncatedSVD(n_components=k ) \n",
    "\n",
    "W = model.fit_transform( A )\n",
    "H = model.components_"
   ]
  },
  {
   "cell_type": "code",
   "execution_count": 464,
   "metadata": {},
   "outputs": [
    {
     "data": {
      "text/plain": [
       "(4551, 11)"
      ]
     },
     "execution_count": 464,
     "metadata": {},
     "output_type": "execute_result"
    }
   ],
   "source": [
    "W.shape"
   ]
  },
  {
   "cell_type": "code",
   "execution_count": 465,
   "metadata": {},
   "outputs": [
    {
     "data": {
      "text/plain": [
       "array([ 0.12, -0.06,  0.02, -0.05,  0.24, -0.1 ,  0.  , -0.04,  0.12,\n",
       "        0.03, -0.08])"
      ]
     },
     "execution_count": 465,
     "metadata": {},
     "output_type": "execute_result"
    }
   ],
   "source": [
    "W[0,:].round(2)"
   ]
  },
  {
   "cell_type": "code",
   "execution_count": 466,
   "metadata": {},
   "outputs": [
    {
     "data": {
      "text/plain": [
       "(11, 10280)"
      ]
     },
     "execution_count": 466,
     "metadata": {},
     "output_type": "execute_result"
    }
   ],
   "source": [
    "H.shape"
   ]
  },
  {
   "cell_type": "code",
   "execution_count": 467,
   "metadata": {},
   "outputs": [
    {
     "data": {
      "text/plain": [
       "array([ 0.1 , -0.12,  0.15,  0.03, -0.01, -0.03, -0.01,  0.04, -0.25,\n",
       "        0.01, -0.02])"
      ]
     },
     "execution_count": 467,
     "metadata": {},
     "output_type": "execute_result"
    }
   ],
   "source": [
    "H[:,terms.index('uk')].round(2)"
   ]
  },
  {
   "cell_type": "code",
   "execution_count": 468,
   "metadata": {},
   "outputs": [
    {
     "name": "stdout",
     "output_type": "stream",
     "text": [
      "Topic 01: trump, eu, people, british, clinton, uk, exit, campaign, work, time\n",
      "Topic 02: trump, clinton, republican, donald, hillary, cruz, president, sanders, presidential, campaign\n",
      "Topic 03: eu, british, exit, uk, britain, vote, referendum, leave, trump, european\n",
      "Topic 04: league, eu, season, leicester, premier, goal, united, liverpool, ball, city\n",
      "Topic 05: bank, banks, financial, banking, customers, rbs, shares, deutsche, barclays, hsbc\n",
      "Topic 06: health, nhs, care, mental, patients, doctors, hospital, people, social, services\n",
      "Topic 07: album, music, band, song, songs, pop, rock, bowie, sound, guitar\n",
      "Topic 08: facebook, internet, online, google, twitter, users, media, amazon, company, technology\n",
      "Topic 09: party, bank, cameron, work, opposition, campaign, voters, banks, johnson, mps\n",
      "Topic 10: women, mental, health, abortion, people, men, cancer, woman, children, bank\n",
      "Topic 11: clinton, sanders, vote, cruz, mental, exit, voters, growth, pound, rubio\n"
     ]
    }
   ],
   "source": [
    "# show topic descriptors\n",
    "def get_descriptor( terms, H, topic_index, top ):\n",
    "    top_indices = np.argsort( H[topic_index,:] )[::-1]\n",
    "    top_terms = []\n",
    "    for term_index in top_indices[0:top]:\n",
    "        top_terms.append( terms[term_index] )\n",
    "    return top_terms\n",
    "\n",
    "descriptors = []\n",
    "for topic_index in range(k):\n",
    "    descriptors.append( get_descriptor( terms, H, topic_index, 10 ) )\n",
    "    str_descriptor = \", \".join( descriptors[topic_index] )\n",
    "    print(\"Topic %02d: %s\" % ( topic_index+1, str_descriptor ) )"
   ]
  },
  {
   "cell_type": "code",
   "execution_count": 469,
   "metadata": {},
   "outputs": [
    {
     "name": "stdout",
     "output_type": "stream",
     "text": [
      "01. Obama talks trans bathroom access as Trump defends business practices – as it happened Here are the \n",
      "02. Melania Trump defends husband's 'boy talk' in CNN interview – as it happened Speaking to CNN’s Ander\n",
      "03. Hillary Clinton: 'I'm sick of the Sanders campaign's lies' – as it happened One of the most importan\n",
      "04. Donald Trump hits delegate count needed for Republican nomination – as it happened On the one hand, \n",
      "05. Trump campaign reportedly vetting Christie, Gingrich as potential running mates – as it happened Don\n",
      "06. Clinton seizes on Trump tweets for day of campaigning in Florida – as it happened Donald Trump was a\n",
      "07. Trump wins Washington primary as protests erupt by Albuquerque rally – as it happened Donald Trump w\n",
      "08. DNC 2016, day three: emotional Obama passes baton to Clinton – as it happened The sun has set on day\n",
      "09. Donald Trump: money raised by Hillary Clinton is 'blood money' – as it happened Hillary Clinton deli\n",
      "10. Donald Trump: Hillary Clinton has 'no right to be running' – as it happened Deep antipathy to Hillar\n"
     ]
    }
   ],
   "source": [
    "def get_top_snippets( all_snippets, W, topic_index, top ):\n",
    "    top_indices = np.argsort( W[:,topic_index] )[::-1]\n",
    "    top_snippets = []\n",
    "    for doc_index in top_indices[0:top]:\n",
    "        top_snippets.append( all_snippets[doc_index] )\n",
    "    return top_snippets\n",
    "\n",
    "topic_snippets = get_top_snippets( snippets, W, 0, 10 )\n",
    "for i, snippet in enumerate(topic_snippets):\n",
    "    print(\"%02d. %s\" % ( (i+1), snippet ) )"
   ]
  },
  {
   "cell_type": "code",
   "execution_count": 470,
   "metadata": {},
   "outputs": [
    {
     "name": "stderr",
     "output_type": "stream",
     "text": [
      "100%|██████████| 12/12 [00:02<00:00,  4.49it/s]\n"
     ]
    }
   ],
   "source": [
    "kmin, kmax = 4, 15\n",
    "\n",
    "topic_models = []\n",
    "for k in tqdm(range(kmin,kmax+1)):\n",
    "    model = TruncatedSVD(n_components=k ) \n",
    "    W = model.fit_transform( A )\n",
    "    H = model.components_    \n",
    "    topic_models.append( (k,W,H) )"
   ]
  },
  {
   "cell_type": "code",
   "execution_count": 471,
   "metadata": {},
   "outputs": [
    {
     "name": "stdout",
     "output_type": "stream",
     "text": [
      "K=04: Coherence=0.1548\n",
      "K=05: Coherence=0.1777\n",
      "K=06: Coherence=0.1904\n",
      "K=07: Coherence=0.2188\n",
      "K=08: Coherence=0.2221\n",
      "K=09: Coherence=0.2136\n",
      "K=10: Coherence=0.2127\n",
      "K=11: Coherence=0.2038\n",
      "K=12: Coherence=0.1916\n",
      "K=13: Coherence=0.1877\n",
      "K=14: Coherence=0.1888\n",
      "K=15: Coherence=0.1836\n"
     ]
    }
   ],
   "source": [
    "from itertools import combinations\n",
    "\n",
    "\n",
    "def calculate_coherence( w2v_model, term_rankings ):\n",
    "    overall_coherence = 0.0\n",
    "    for topic_index in range(len(term_rankings)):\n",
    "        # check each pair of terms\n",
    "        pair_scores = []\n",
    "        for pair in combinations( term_rankings[topic_index], 2 ):\n",
    "            pair_scores.append( w2v_model.similarity(pair[0], pair[1]) )\n",
    "        # get the mean for all pairs in this topic\n",
    "        topic_score = sum(pair_scores) / len(pair_scores)\n",
    "        overall_coherence += topic_score\n",
    "    # get the mean score across all topics\n",
    "    return overall_coherence / len(term_rankings)\n",
    "\n",
    "k_values = []\n",
    "coherences = []\n",
    "for (k,W,H) in topic_models:\n",
    "    # Get all of the topic descriptors - the term_rankings, based on top 10 terms\n",
    "    term_rankings = []\n",
    "    for topic_index in range(k):\n",
    "        term_rankings.append( get_descriptor( terms, H, topic_index, 10 ) )\n",
    "    # Now calculate the coherence based on our Word2vec model\n",
    "    k_values.append( k )\n",
    "    coherences.append( calculate_coherence( w2v_model, term_rankings ) )\n",
    "    print(\"K=%02d: Coherence=%.4f\" % ( k, coherences[-1] ) )"
   ]
  },
  {
   "cell_type": "code",
   "execution_count": 472,
   "metadata": {},
   "outputs": [
    {
     "data": {
      "image/png": "[encoded data removed]",
      "text/plain": [
       "<Figure size 936x504 with 1 Axes>"
      ]
     },
     "metadata": {
      "needs_background": "light"
     },
     "output_type": "display_data"
    }
   ],
   "source": [
    "fig = plt.figure(figsize=(13,7))\n",
    "# create the line plot\n",
    "ax = plt.plot( k_values, coherences )\n",
    "plt.xticks(k_values)\n",
    "plt.xlabel(\"Number of Topics\")\n",
    "plt.ylabel(\"Mean Coherence\")\n",
    "# add the points\n",
    "plt.scatter( k_values, coherences, s=120)\n",
    "# find and annotate the maximum point on the plot\n",
    "ymax = max(coherences)\n",
    "xpos = coherences.index(ymax)\n",
    "best_k = k_values[xpos]\n",
    "plt.annotate( \"k=%d\" % best_k, xy=(best_k, ymax), xytext=(best_k, ymax), textcoords=\"offset points\", fontsize=16)\n",
    "# show the plot\n",
    "plt.show()"
   ]
  },
  {
   "cell_type": "code",
   "execution_count": 473,
   "metadata": {},
   "outputs": [
    {
     "name": "stdout",
     "output_type": "stream",
     "text": [
      "Topic 01: trump, eu, people, british, clinton\n",
      "Topic 02: trump, clinton, republican, donald, hillary\n",
      "Topic 03: eu, british, exit, uk, britain\n",
      "Topic 04: league, eu, season, leicester, premier\n",
      "Topic 05: bank, banks, financial, banking, customers\n",
      "Topic 06: health, nhs, care, mental, patients\n",
      "Topic 07: album, music, song, band, songs\n",
      "Topic 08: facebook, internet, online, twitter, google\n"
     ]
    }
   ],
   "source": [
    "k = best_k\n",
    "# get the model that we generated earlier.\n",
    "W = topic_models[k-kmin][1]\n",
    "H = topic_models[k-kmin][2]\n",
    "\n",
    "for topic_index in range(k):\n",
    "    descriptor = get_descriptor( terms, H, topic_index, 5 )\n",
    "    str_descriptor = \", \".join( descriptor )\n",
    "    print(\"Topic %02d: %s\" % ( topic_index+1, str_descriptor ) )"
   ]
  },
  {
   "cell_type": "markdown",
   "metadata": {},
   "source": [
    "attention"
   ]
  },
  {
   "cell_type": "code",
   "execution_count": 474,
   "metadata": {},
   "outputs": [],
   "source": [
    "from sklearn.cluster import KMeans\n",
    "import numpy as np\n",
    "import gensim\n",
    "import codecs\n",
    "import tqdm\n",
    "import os\n",
    "\n",
    "\n",
    "class word2vec:\n",
    "\n",
    "    def __init__(self, corpus_path):\n",
    "        self.corpus_path = corpus_path\n",
    "        self.n_vocab = 0\n",
    "\n",
    "    def __iter__(self):\n",
    "        with codecs.open(self.corpus_path, 'r', 'utf-8') as f:\n",
    "            for line in tqdm.tqdm(f, desc='training'):\n",
    "                yield line.split()\n",
    "\n",
    "    def add_word(self, *words):\n",
    "        for word in words:\n",
    "            if not word in self.w2i:\n",
    "                self.w2i[word] = self.n_vocab\n",
    "                self.i2w[self.w2i[word]] = word\n",
    "                self.n_vocab += 1\n",
    "\n",
    "    def embed(self, model_path, d_embed,\n",
    "              max_n_vocab=None, window=5, min_count=10, workers=16):\n",
    "        self.d_embed = d_embed\n",
    "        if os.path.isfile(model_path):\n",
    "            model = gensim.models.Word2Vec.load(model_path)\n",
    "        else:\n",
    "            model = gensim.models.Word2Vec(self,\n",
    "                size=d_embed, max_final_vocab=max_n_vocab,\n",
    "                window=window, min_count=min_count, workers=workers)\n",
    "            model.save(model_path)\n",
    "            model = gensim.models.Word2Vec.load(model_path)\n",
    "        self.i2w, self.w2i = {}, {}\n",
    "        self.E = []\n",
    "        n = len(model.wv.vocab)\n",
    "        for word in sorted(model.wv.vocab):\n",
    "            self.add_word(word)\n",
    "            self.E.append(list(model.wv[word]))\n",
    "        else:\n",
    "            self.add_word('<unk>')\n",
    "            self.E.append([0] * d_embed)\n",
    "        self.E = np.asarray(self.E).astype(np.float32)\n",
    "        return self\n",
    "\n",
    "    def aspect(self, n_aspects):\n",
    "        self.n_aspects = n_aspects\n",
    "        km = KMeans(n_clusters=n_aspects, random_state=0)\n",
    "        km.fit(self.E)\n",
    "        self.T = km.cluster_centers_.astype(np.float32)\n",
    "        self.T /= np.linalg.norm(self.T, axis=-1, keepdims=True)\n",
    "        return self\n"
   ]
  },
  {
   "cell_type": "code",
   "execution_count": 475,
   "metadata": {},
   "outputs": [],
   "source": [
    "def linecount(path, chunk=(8192 * 1024)):\n",
    "    lc = 0\n",
    "    with open(path, 'rb') as f:\n",
    "        buf = f.read(chunk)\n",
    "        while buf:\n",
    "            lc += buf.count(b'\\n')\n",
    "            buf = f.read(chunk)\n",
    "    return lc"
   ]
  },
  {
   "cell_type": "code",
   "execution_count": 476,
   "metadata": {},
   "outputs": [],
   "source": [
    "from torch.nn.functional import normalize\n",
    "import torch.optim as optim\n",
    "import torch\n",
    "\n",
    "import matplotlib.pyplot as plt\n",
    "import matplotlib.cm as cm\n",
    "import collections\n",
    "import numpy as np\n",
    "import tqdm\n",
    "\n",
    "\n",
    "def max_margin_loss(r_s, z_s, z_n):\n",
    "    device = r_s.device\n",
    "    pos = torch.bmm(z_s.unsqueeze(1), r_s.unsqueeze(2)).squeeze(2)\n",
    "    negs = torch.bmm(z_n, r_s.unsqueeze(2)).squeeze()\n",
    "    J = torch.ones(negs.shape).to(device) - pos.expand(negs.shape) + negs\n",
    "    return torch.sum(torch.clamp(J, min=0.0))\n",
    "\n",
    "\n",
    "def orthogonal_regularization(T):\n",
    "    T_n = normalize(T, dim=1)\n",
    "    I = torch.eye(T_n.shape[0]).to(T_n.device)\n",
    "    return torch.norm(T_n.mm(T_n.t()) - I)\n",
    "\n",
    "\n",
    "def train(ab, dl, device='cuda', epochs=5, epochsize=100,\n",
    "          initial_lr=0.02, batchsize=4, negsize=20, ortho_reg=0.1):\n",
    "    batches = dl.batch_generator('train', device, batchsize, negsize)\n",
    "    i2w = dict((dl.w2i[w], w) for w in dl.w2i)\n",
    "\n",
    "    opt = optim.Adam(ab.parameters(), lr=initial_lr)\n",
    "    plot = plotter()\n",
    "\n",
    "    epoch_losses = collections.defaultdict(list)\n",
    "    ab.eval()\n",
    "    val_loss = validate(ab, dl, device, 'val', epochsize,\n",
    "                        batchsize, negsize, ortho_reg)\n",
    "    ab.train()\n",
    "    epoch_losses['Training Loss'].append(float('inf'))\n",
    "    epoch_losses['Validation Loss'].append(val_loss)\n",
    "    sample_aspects(ab.aspects(), i2w)\n",
    "    plot(epoch_losses)\n",
    "\n",
    "    for e in range(epochs):\n",
    "        train_losses = []\n",
    "        with tqdm.trange(epochsize) as pbar:\n",
    "            for b in pbar:\n",
    "                pos, neg = next(batches)\n",
    "                r_s, z_s, z_n = ab(pos, neg)\n",
    "                J = max_margin_loss(r_s, z_s, z_n)\n",
    "                U = orthogonal_regularization(ab.T.weight)\n",
    "                loss = J + ortho_reg * batchsize * U\n",
    "                opt.zero_grad()\n",
    "                loss.backward()\n",
    "                opt.step()\n",
    "\n",
    "                train_losses.append(loss.item())\n",
    "                x = (e + 1, opt.param_groups[0]['lr'], train_losses[-1])\n",
    "                d = 'TRAIN EPOCH: %d | LR: %0.5f | MEAN-TRAIN-LOSS: %0.5f' % x\n",
    "                pbar.set_description(d)\n",
    "\n",
    "                if b * batchsize % 100 == 0:\n",
    "                    lr = initial_lr * (1.0 - 1.0 * ((e + 1) * (b + 1)) / (epochs * epochsize))\n",
    "                    for pg in opt.param_groups:\n",
    "                        pg['lr'] = lr\n",
    "\n",
    "        ab.eval()\n",
    "        val_loss = validate(ab, dl, device, 'val', epochsize,\n",
    "                            batchsize, negsize, ortho_reg)\n",
    "        ab.train()\n",
    "        epoch_losses['Training Loss'].append(np.mean(train_losses))\n",
    "        epoch_losses['Validation Loss'].append(val_loss)\n",
    "        sample_aspects(ab.aspects(), i2w)\n",
    "        plot(epoch_losses)\n",
    "\n",
    "    ab.eval()\n",
    "\n",
    "\n",
    "def validate(ab, dl, device='cuda', split='val',\n",
    "             epochsize=100, batchsize=4, negsize=20, ortho_reg=0.1):\n",
    "    losses = []\n",
    "    batches = dl.batch_generator(split, device, batchsize, negsize)\n",
    "    with tqdm.tqdm(range(epochsize), total=epochsize, desc='validating') as pbar:\n",
    "        for b in pbar:\n",
    "            pos, neg = next(batches)\n",
    "            r_s, z_s, z_n = ab(pos, neg)\n",
    "            J = max_margin_loss(r_s, z_s, z_n).item()\n",
    "            U = orthogonal_regularization(ab.T.weight).item()\n",
    "            losses.append((J + ortho_reg * batchsize * U))\n",
    "            x = (b + 1, np.mean(losses))\n",
    "            pbar.set_description('VAL BATCH: %d | MEAN-VAL-LOSS: %0.5f' % x)\n",
    "    return np.mean(losses)\n",
    "\n",
    "\n",
    "def plotter(figsize=(8, 4)):\n",
    "    f, ax = plt.subplots(1, 1, figsize=figsize)\n",
    "\n",
    "    def plot_losses(losses):\n",
    "        colors = cm.rainbow(np.linspace(0, 1, len(losses)))\n",
    "        lines = []\n",
    "        for loss, color in zip(losses, colors):\n",
    "            y = losses[loss]\n",
    "            x = list(range(len(y)))\n",
    "            l = ax.plot(x, y, color=color, label=loss, lw=4, marker='o')\n",
    "            lines.append(loss)\n",
    "        ax.legend(lines)\n",
    "        ax.semilogy()\n",
    "        ax.set_title('Losses')\n",
    "        ax.set_xlabel('Epoch')\n",
    "        ax.set_ylabel('Loss')\n",
    "        ax.set_xticks(x)\n",
    "        f.canvas.draw()\n",
    "\n",
    "    return plot_losses\n",
    "\n",
    "\n",
    "def sample_aspects(projection, i2w, n=8):\n",
    "    projection = torch.sort(projection, dim=1)\n",
    "    for j, (projs, index) in enumerate(zip(*projection)):\n",
    "        index = index[-n:].detach().cpu().numpy()\n",
    "        words = ', '.join([i2w[i] for i in index])\n",
    "        print('Aspect %2d: %s' % (j, words))"
   ]
  },
  {
   "cell_type": "code",
   "execution_count": 477,
   "metadata": {},
   "outputs": [],
   "source": [
    "import torch.nn as nn\n",
    "import torch\n",
    "from torch.nn.functional import normalize, softmax\n",
    "\n",
    "\n",
    "class attention(nn.Module):\n",
    "\n",
    "    def __init__(self, d_embed):\n",
    "        super(attention, self).__init__()\n",
    "        self.M = nn.Linear(d_embed, d_embed)\n",
    "        self.M.weight.data.uniform_(-0.1, 0.1)\n",
    "\n",
    "    def forward(self, e_i):\n",
    "        y_s = torch.mean(e_i, dim=-1)\n",
    "        d_i = torch.bmm(e_i.transpose(1, 2), self.M(y_s).unsqueeze(2)).tanh()\n",
    "        a_i = softmax(d_i)\n",
    "        return a_i.squeeze(1)\n",
    "\n",
    "\n",
    "class abae(nn.Module):\n",
    "\n",
    "    def __init__(self, E, T):\n",
    "        super(abae, self).__init__()\n",
    "        n_vocab, d_embed = E.shape\n",
    "        n_aspects, d_embed = T.shape\n",
    "        self.E = nn.Embedding(n_vocab, d_embed)\n",
    "        self.T = nn.Embedding(n_aspects, d_embed)\n",
    "        self.attention = attention(d_embed)\n",
    "        self.linear = nn.Linear(d_embed, n_aspects)\n",
    "        self.E.weight = nn.Parameter(torch.from_numpy(E), requires_grad=False)\n",
    "        self.T.weight = nn.Parameter(torch.from_numpy(T), requires_grad=True)\n",
    "\n",
    "    def forward(self, pos, negs):\n",
    "        p_t, z_s = self.predict(pos)\n",
    "        r_s = normalize(torch.mm(self.T.weight.t(), p_t.t()).t(), dim=-1)\n",
    "        e_n = self.E(negs).transpose(-2, -1)\n",
    "        z_n = normalize(torch.mean(e_n, dim=-1), dim=-1)\n",
    "        return r_s, z_s, z_n\n",
    "\n",
    "    def predict(self, x):\n",
    "        e_i = self.E(x).transpose(1, 2)\n",
    "        a_i = self.attention(e_i)\n",
    "        z_s = normalize(torch.bmm(e_i, a_i).squeeze(2), dim=-1)\n",
    "        p_t = softmax(self.linear(z_s), dim=1)\n",
    "        return p_t, z_s\n",
    "\n",
    "    def aspects(self):\n",
    "        E_n = normalize(self.E.weight, dim=1)\n",
    "        T_n = normalize(self.T.weight, dim=1)\n",
    "        projection = torch.mm(E_n, T_n.t()).t()\n",
    "        return projection\n"
   ]
  },
  {
   "cell_type": "code",
   "execution_count": 478,
   "metadata": {},
   "outputs": [],
   "source": [
    "from sklearn.feature_extraction.text import CountVectorizer\n",
    "from nltk.corpus import stopwords\n",
    "from nltk.stem.wordnet import WordNetLemmatizer\n",
    "import numpy as np\n",
    "import torch\n",
    "import mmap\n",
    "import tqdm\n",
    "import traceback\n",
    "import json\n",
    "import os\n",
    "\n",
    "lmtzr = WordNetLemmatizer().lemmatize\n",
    "stop = stopwords.words('english')\n",
    "token = CountVectorizer().build_tokenizer()\n",
    "\n",
    "\n",
    "def preprocess_sentence(x):\n",
    "    return [lmtzr(t) for t in token(x.lower()) if not t in stop]\n",
    "\n",
    "\n",
    "def preprocess(input_path, output_path):\n",
    "    with open(input_path, 'r') as in_f, open(output_path, 'w') as out_f:\n",
    "        lc = linecount(input_path)\n",
    "        desc = 'preprocessing \"%s\"' % input_path\n",
    "        for j, l in tqdm.tqdm(enumerate(in_f), total=lc, desc=desc):\n",
    "            tokens = preprocess_sentence(l)\n",
    "            n_tokens = len(tokens)\n",
    "            if len(tokens) > 5 and n_tokens < 100:\n",
    "                out_l = ' '.join(tokens)\n",
    "                out_f.write(out_l + '\\n')\n",
    "\n",
    "\n",
    "class dataloader:\n",
    "\n",
    "    def __init__(self, w2i, path, split=None, seed=0):\n",
    "        self.w2i = w2i\n",
    "        self.path = path\n",
    "        self.meta = './.' + os.path.basename(self.path) + '.meta.json'\n",
    "        self.split = split if split else {'train': 1.0}\n",
    "        np.random.seed(seed)\n",
    "\n",
    "    def __enter__(self):\n",
    "        self.f = open(self.path, 'rb')\n",
    "        self.data = mmap.mmap(self.f.fileno(), 0, access=mmap.ACCESS_COPY)\n",
    "        if os.path.isfile(self.meta):\n",
    "            self.read_meta()\n",
    "        else:\n",
    "            self.offsets = dict((s, []) for s in self.split)\n",
    "            splits, probs = zip(*list(self.split.items()))\n",
    "            desc = 'finding offsets in \"%s\"' % self.path\n",
    "            i = 0\n",
    "            for j, char in enumerate(tqdm.tqdm(self.data, desc=desc)):\n",
    "                if char == b'\\n':\n",
    "                    split = splits[np.random.choice(len(probs), p=probs)]\n",
    "                    self.offsets[split].append((i, j))\n",
    "                    i = j + 1\n",
    "            self.linecounts = dict((s, len(self.offsets[s])) for s in self.split)\n",
    "            self.linecount = sum(self.linecounts[s] for s in self.split)\n",
    "            self.write_meta()\n",
    "        return self\n",
    "\n",
    "    def __exit__(self, *ags):\n",
    "        if ags[1]:\n",
    "            traceback.print_exception(*ags)\n",
    "        self.f.close()\n",
    "        return True\n",
    "\n",
    "    def write_meta(self):\n",
    "        meta = {\n",
    "            'path': self.path,\n",
    "            'linecount': self.linecount,\n",
    "            'linecounts': self.linecounts,\n",
    "            'offsets': self.offsets,\n",
    "        }\n",
    "        with open(self.meta, 'w') as f:\n",
    "            f.write(json.dumps(meta))\n",
    "\n",
    "    def read_meta(self):\n",
    "        with open(self.meta, 'r') as f:\n",
    "            meta = json.loads(f.read())\n",
    "        assert(self.path == meta['path'])\n",
    "        self.linecount = meta['linecount']\n",
    "        self.linecounts = meta['linecounts']\n",
    "        self.offsets = meta['offsets']\n",
    "\n",
    "    def b2i(self, batch):\n",
    "        batch = [self.data[u:v].decode('utf').split() for u, v in batch]\n",
    "        lengths = [len(l) for l in batch]\n",
    "        index = np.zeros((len(batch), max(lengths)))\n",
    "        w2i = lambda w: (self.w2i[w] if w in self.w2i else self.w2i['<unk>'])\n",
    "        for j, (words, length) in enumerate(zip(batch, lengths)):\n",
    "            index[j, :length] = [w2i(w) for w in words]\n",
    "        return torch.LongTensor(index)\n",
    "\n",
    "    def batch_generator(self, split='train', device='cpu', batchsize=20, negsize=20):\n",
    "        linecount = self.linecounts[split]\n",
    "        batchcount = (linecount // batchsize)\n",
    "        pos_offsets = self.offsets[split][:]\n",
    "        neg_offsets = self.offsets[split][:]\n",
    "        np.random.shuffle(pos_offsets)\n",
    "        np.random.shuffle(neg_offsets)\n",
    "        batches = 0\n",
    "        while True:\n",
    "            if batches == batchcount:\n",
    "                np.random.shuffle(pos_offsets)\n",
    "                np.random.shuffle(neg_offsets)\n",
    "                batches = 0\n",
    "            pos_batch = pos_offsets[batches * batchsize:(batches + 1) * batchsize]\n",
    "            pos_batch = self.b2i(pos_batch)\n",
    "            neg_batch = np.random.choice(linecount, batchsize * negsize)\n",
    "            neg_batch = self.b2i([neg_offsets[i] for i in neg_batch])\n",
    "            batch = (\n",
    "                pos_batch.to(device),\n",
    "                neg_batch.to(device).view(batchsize, negsize, -1),\n",
    "            )\n",
    "            yield batch\n",
    "            batches += 1"
   ]
  },
  {
   "cell_type": "code",
   "execution_count": 479,
   "metadata": {},
   "outputs": [],
   "source": [
    "import numpy as np\n",
    "import torch\n",
    "import os\n",
    "\n",
    "\n",
    "class aspect_model:\n",
    "\n",
    "    def __init__(self, data_path, w2v_path,\n",
    "                 min_count=10, d_embed=100, n_aspects=10, device='cpu'):\n",
    "        self.w2v = word2vec(data_path)\n",
    "        self.w2v.embed(w2v_path, d_embed, min_count=min_count)\n",
    "        self.w2v.aspect(n_aspects)\n",
    "        self.ab = abae(self.w2v.E, self.w2v.T).to(device)\n",
    "\n",
    "    def save_abae(self, abae_path):\n",
    "        print('saving abae model: \"%s\"' % abae_path)\n",
    "        torch.save(self.ab.state_dict(), abae_path)\n",
    "\n",
    "    def load_abae(self, abae_path):\n",
    "        print('loading abae model: \"%s\"' % abae_path)\n",
    "        self.ab.load_state_dict(torch.load(abae_path))\n",
    "\n",
    "    def predict(self, *sentences):\n",
    "        w2i = lambda w: self.w2v.w2i[w] if w in self.w2v.w2i else self.w2v.w2i['<unk>']\n",
    "        x = [[w2i(w) for w in preprocess_sentence(s)] for s in sentences]\n",
    "        p_t, z_s = self.ab.predict(torch.LongTensor(x))\n",
    "        _, i_t = torch.sort(p_t, dim=1)\n",
    "        return i_t[:, -1]"
   ]
  },
  {
   "cell_type": "code",
   "execution_count": 480,
   "metadata": {},
   "outputs": [],
   "source": [
    "data = './data/data.txt' \n",
    "prep = data + '.prep' \n",
    "if not os.path.isfile(prep): \n",
    "    preprocess(data, prep) "
   ]
  },
  {
   "cell_type": "code",
   "execution_count": 481,
   "metadata": {},
   "outputs": [
    {
     "name": "stderr",
     "output_type": "stream",
     "text": [
      "[nltk_data] Downloading package stopwords to\n",
      "[nltk_data]     /Users/mariaignasina/nltk_data...\n",
      "[nltk_data]   Package stopwords is already up-to-date!\n",
      "[nltk_data] Downloading package wordnet to\n",
      "[nltk_data]     /Users/mariaignasina/nltk_data...\n",
      "[nltk_data]   Package wordnet is already up-to-date!\n"
     ]
    },
    {
     "data": {
      "text/plain": [
       "True"
      ]
     },
     "execution_count": 481,
     "metadata": {},
     "output_type": "execute_result"
    }
   ],
   "source": [
    "import nltk\n",
    "nltk.download('stopwords')\n",
    "nltk.download('wordnet')"
   ]
  },
  {
   "cell_type": "code",
   "execution_count": 482,
   "metadata": {},
   "outputs": [
    {
     "name": "stderr",
     "output_type": "stream",
     "text": [
      "\r",
      "validating:   0%|          | 0/100 [00:00<?, ?it/s]"
     ]
    },
    {
     "name": "stdout",
     "output_type": "stream",
     "text": [
      "loading abae model: \"./data/data.txt.prep.abae.pt\"\n",
      "n_vocab: 112 | d_embed: 200 | n_aspects: 15\n"
     ]
    },
    {
     "name": "stderr",
     "output_type": "stream",
     "text": [
      "<ipython-input-477-f06ff2c68599>:16: UserWarning: Implicit dimension choice for softmax has been deprecated. Change the call to include dim=X as an argument.\n",
      "  a_i = softmax(d_i)\n",
      "VAL BATCH: 100 | MEAN-VAL-LOSS: 65.69828: 100%|██████████| 100/100 [00:00<00:00, 124.36it/s]\n",
      "TRAIN EPOCH: 1 | LR: 0.00010 | MEAN-TRAIN-LOSS: 62.57013:  11%|█         | 11/100 [00:00<00:00, 100.59it/s]"
     ]
    },
    {
     "name": "stdout",
     "output_type": "stream",
     "text": [
      "Aspect  0: <unk>, death, around, star, form, want, country, home\n",
      "Aspect  1: set, le, family, night, great, part, la, come\n",
      "Aspect  2: end, well, band, take, never, much, work, would\n",
      "Aspect  3: view, since, end, form, made, album, third, bit\n",
      "Aspect  4: even, pop, second, many, lyric, leave, le, london\n",
      "Aspect  5: album, style, moment, one, return, blue, vocal, man\n",
      "Aspect  6: black, also, film, old, still, however, life, music\n",
      "Aspect  7: family, guitar, indie, title, feel, star, best, always\n",
      "Aspect  8: com, family, work, well, album, time, like, love\n",
      "Aspect  9: john, month, character, new, make, song, letter, hear\n",
      "Aspect 10: early, since, question, soul, long, could, tell, co\n",
      "Aspect 11: even, like, rather, voice, working, last, anxiety, rock\n",
      "Aspect 12: story, end, like, day, first, week, review, singer\n",
      "Aspect 13: week, day, two, said, death, experience, com, old\n",
      "Aspect 14: album, go, see, question, play, together, hit, way\n"
     ]
    },
    {
     "name": "stderr",
     "output_type": "stream",
     "text": [
      "TRAIN EPOCH: 1 | LR: 0.00010 | MEAN-TRAIN-LOSS: 67.01741: 100%|██████████| 100/100 [00:00<00:00, 100.56it/s]\n",
      "VAL BATCH: 100 | MEAN-VAL-LOSS: 65.87698: 100%|██████████| 100/100 [00:00<00:00, 118.81it/s]\n",
      "TRAIN EPOCH: 2 | LR: 0.00010 | MEAN-TRAIN-LOSS: 63.38820:   0%|          | 0/100 [00:00<?, ?it/s]"
     ]
    },
    {
     "name": "stdout",
     "output_type": "stream",
     "text": [
      "Aspect  0: <unk>, death, around, star, form, want, country, home\n",
      "Aspect  1: set, le, family, night, great, part, la, come\n",
      "Aspect  2: view, well, band, take, never, much, work, would\n",
      "Aspect  3: view, since, end, form, made, album, third, bit\n",
      "Aspect  4: even, pop, second, many, lyric, leave, le, london\n",
      "Aspect  5: album, style, moment, one, return, blue, vocal, man\n",
      "Aspect  6: black, also, film, old, still, however, life, music\n",
      "Aspect  7: family, guitar, indie, title, feel, star, best, always\n",
      "Aspect  8: family, com, work, well, album, time, like, love\n",
      "Aspect  9: john, month, character, new, make, song, letter, hear\n",
      "Aspect 10: early, since, question, soul, long, could, tell, co\n",
      "Aspect 11: even, like, rather, voice, working, last, anxiety, rock\n",
      "Aspect 12: end, story, like, day, first, week, review, singer\n",
      "Aspect 13: week, day, two, said, death, experience, com, old\n",
      "Aspect 14: album, go, see, question, play, together, hit, way\n"
     ]
    },
    {
     "name": "stderr",
     "output_type": "stream",
     "text": [
      "TRAIN EPOCH: 2 | LR: 0.00010 | MEAN-TRAIN-LOSS: 60.64428: 100%|██████████| 100/100 [00:01<00:00, 96.82it/s]\n",
      "VAL BATCH: 100 | MEAN-VAL-LOSS: 65.84182: 100%|██████████| 100/100 [00:00<00:00, 129.44it/s]\n",
      "TRAIN EPOCH: 3 | LR: 0.00010 | MEAN-TRAIN-LOSS: 61.71404:  10%|█         | 10/100 [00:00<00:00, 97.38it/s]"
     ]
    },
    {
     "name": "stdout",
     "output_type": "stream",
     "text": [
      "Aspect  0: death, <unk>, around, star, form, want, country, home\n",
      "Aspect  1: set, le, family, night, great, part, la, come\n",
      "Aspect  2: end, well, band, take, never, much, work, would\n",
      "Aspect  3: view, since, end, form, made, album, third, bit\n",
      "Aspect  4: even, pop, second, many, lyric, leave, le, london\n",
      "Aspect  5: album, style, moment, one, return, blue, vocal, man\n",
      "Aspect  6: time, also, film, old, still, however, life, music\n",
      "Aspect  7: family, guitar, indie, title, feel, star, best, always\n",
      "Aspect  8: family, com, work, well, album, time, like, love\n",
      "Aspect  9: john, month, character, new, make, song, letter, hear\n",
      "Aspect 10: early, since, question, soul, long, could, tell, co\n",
      "Aspect 11: even, like, rather, voice, working, last, anxiety, rock\n",
      "Aspect 12: story, end, like, day, first, week, review, singer\n",
      "Aspect 13: week, day, two, said, death, experience, com, old\n",
      "Aspect 14: album, go, see, question, play, together, hit, way\n"
     ]
    },
    {
     "name": "stderr",
     "output_type": "stream",
     "text": [
      "TRAIN EPOCH: 3 | LR: 0.00010 | MEAN-TRAIN-LOSS: 52.82322: 100%|██████████| 100/100 [00:01<00:00, 85.28it/s]\n",
      "VAL BATCH: 100 | MEAN-VAL-LOSS: 65.82241: 100%|██████████| 100/100 [00:00<00:00, 113.07it/s]\n",
      "TRAIN EPOCH: 4 | LR: 0.00010 | MEAN-TRAIN-LOSS: 67.59605:  10%|█         | 10/100 [00:00<00:00, 94.86it/s]"
     ]
    },
    {
     "name": "stdout",
     "output_type": "stream",
     "text": [
      "Aspect  0: <unk>, death, around, star, form, want, country, home\n",
      "Aspect  1: set, le, family, night, great, part, la, come\n",
      "Aspect  2: end, well, band, take, never, much, work, would\n",
      "Aspect  3: view, since, end, form, made, album, third, bit\n",
      "Aspect  4: even, pop, second, many, lyric, leave, le, london\n",
      "Aspect  5: album, style, moment, one, return, blue, vocal, man\n",
      "Aspect  6: black, also, film, old, still, however, life, music\n",
      "Aspect  7: family, guitar, indie, title, feel, star, best, always\n",
      "Aspect  8: family, com, work, well, album, time, like, love\n",
      "Aspect  9: john, month, character, new, make, song, letter, hear\n",
      "Aspect 10: early, since, question, soul, long, could, tell, co\n",
      "Aspect 11: even, like, rather, voice, working, last, anxiety, rock\n",
      "Aspect 12: story, end, like, day, first, week, review, singer\n",
      "Aspect 13: week, day, two, said, death, experience, com, old\n",
      "Aspect 14: album, go, see, question, play, together, hit, way\n"
     ]
    },
    {
     "name": "stderr",
     "output_type": "stream",
     "text": [
      "TRAIN EPOCH: 4 | LR: 0.00009 | MEAN-TRAIN-LOSS: 64.57526: 100%|██████████| 100/100 [00:01<00:00, 85.92it/s]\n",
      "VAL BATCH: 100 | MEAN-VAL-LOSS: 65.30391: 100%|██████████| 100/100 [00:00<00:00, 121.39it/s]\n",
      "TRAIN EPOCH: 5 | LR: 0.00010 | MEAN-TRAIN-LOSS: 63.14557:  10%|█         | 10/100 [00:00<00:00, 94.75it/s]"
     ]
    },
    {
     "name": "stdout",
     "output_type": "stream",
     "text": [
      "Aspect  0: <unk>, death, around, star, form, want, country, home\n",
      "Aspect  1: set, le, family, night, great, part, la, come\n",
      "Aspect  2: view, well, band, take, never, much, work, would\n",
      "Aspect  3: view, since, end, form, made, album, third, bit\n",
      "Aspect  4: even, pop, second, many, lyric, leave, le, london\n",
      "Aspect  5: album, style, moment, one, return, blue, vocal, man\n",
      "Aspect  6: black, also, film, old, still, however, music, life\n",
      "Aspect  7: family, guitar, indie, title, feel, star, best, always\n",
      "Aspect  8: family, com, work, well, album, time, like, love\n",
      "Aspect  9: john, month, character, new, make, song, letter, hear\n",
      "Aspect 10: early, since, question, soul, long, could, tell, co\n",
      "Aspect 11: even, like, rather, voice, working, last, anxiety, rock\n",
      "Aspect 12: story, end, like, day, first, week, review, singer\n",
      "Aspect 13: week, day, two, said, death, experience, com, old\n",
      "Aspect 14: album, go, see, question, play, together, hit, way\n"
     ]
    },
    {
     "name": "stderr",
     "output_type": "stream",
     "text": [
      "TRAIN EPOCH: 5 | LR: 0.00009 | MEAN-TRAIN-LOSS: 60.45173: 100%|██████████| 100/100 [00:01<00:00, 93.06it/s]\n",
      "VAL BATCH: 100 | MEAN-VAL-LOSS: 65.72953: 100%|██████████| 100/100 [00:00<00:00, 117.00it/s]\n",
      "TRAIN EPOCH: 6 | LR: 0.00010 | MEAN-TRAIN-LOSS: 56.85505:   9%|▉         | 9/100 [00:00<00:01, 88.11it/s]"
     ]
    },
    {
     "name": "stdout",
     "output_type": "stream",
     "text": [
      "Aspect  0: death, <unk>, around, star, form, want, country, home\n",
      "Aspect  1: set, le, family, night, great, part, la, come\n",
      "Aspect  2: end, well, band, take, never, much, work, would\n",
      "Aspect  3: view, since, end, form, album, made, third, bit\n",
      "Aspect  4: even, pop, second, many, lyric, leave, le, london\n",
      "Aspect  5: album, style, moment, one, return, blue, vocal, man\n",
      "Aspect  6: black, also, film, old, still, however, life, music\n",
      "Aspect  7: family, guitar, indie, title, feel, star, best, always\n",
      "Aspect  8: family, com, work, well, album, time, like, love\n",
      "Aspect  9: john, month, character, new, make, song, letter, hear\n",
      "Aspect 10: early, since, question, soul, long, could, tell, co\n",
      "Aspect 11: even, like, rather, voice, last, working, anxiety, rock\n",
      "Aspect 12: story, end, like, day, first, week, review, singer\n",
      "Aspect 13: week, day, two, said, death, experience, com, old\n",
      "Aspect 14: album, go, see, question, play, together, hit, way\n"
     ]
    },
    {
     "name": "stderr",
     "output_type": "stream",
     "text": [
      "TRAIN EPOCH: 6 | LR: 0.00009 | MEAN-TRAIN-LOSS: 59.91105: 100%|██████████| 100/100 [00:01<00:00, 89.73it/s]\n",
      "VAL BATCH: 100 | MEAN-VAL-LOSS: 65.74831: 100%|██████████| 100/100 [00:00<00:00, 118.92it/s]\n",
      "TRAIN EPOCH: 7 | LR: 0.00010 | MEAN-TRAIN-LOSS: 65.43267:  10%|█         | 10/100 [00:00<00:00, 95.93it/s]"
     ]
    },
    {
     "name": "stdout",
     "output_type": "stream",
     "text": [
      "Aspect  0: death, <unk>, around, star, form, want, country, home\n",
      "Aspect  1: set, le, family, night, great, part, la, come\n",
      "Aspect  2: end, well, band, take, never, much, work, would\n",
      "Aspect  3: view, since, form, end, album, made, third, bit\n",
      "Aspect  4: even, pop, second, many, lyric, leave, le, london\n",
      "Aspect  5: album, style, moment, one, return, blue, vocal, man\n",
      "Aspect  6: time, also, film, old, still, however, life, music\n",
      "Aspect  7: family, guitar, indie, title, feel, star, best, always\n",
      "Aspect  8: family, com, work, well, album, time, like, love\n",
      "Aspect  9: john, month, character, new, make, song, letter, hear\n",
      "Aspect 10: early, since, question, soul, long, could, tell, co\n",
      "Aspect 11: even, like, rather, voice, last, working, anxiety, rock\n",
      "Aspect 12: story, end, like, day, first, week, review, singer\n",
      "Aspect 13: week, day, two, said, death, experience, com, old\n",
      "Aspect 14: album, go, see, question, play, together, hit, way\n"
     ]
    },
    {
     "name": "stderr",
     "output_type": "stream",
     "text": [
      "TRAIN EPOCH: 7 | LR: 0.00009 | MEAN-TRAIN-LOSS: 63.05474: 100%|██████████| 100/100 [00:01<00:00, 92.16it/s]\n",
      "VAL BATCH: 100 | MEAN-VAL-LOSS: 65.58771: 100%|██████████| 100/100 [00:00<00:00, 118.14it/s]\n",
      "TRAIN EPOCH: 8 | LR: 0.00010 | MEAN-TRAIN-LOSS: 66.02611:  10%|█         | 10/100 [00:00<00:00, 90.33it/s]"
     ]
    },
    {
     "name": "stdout",
     "output_type": "stream",
     "text": [
      "Aspect  0: death, <unk>, around, star, form, want, country, home\n",
      "Aspect  1: set, le, family, night, great, part, la, come\n",
      "Aspect  2: view, well, band, take, never, much, work, would\n",
      "Aspect  3: view, since, form, end, album, made, third, bit\n",
      "Aspect  4: even, pop, second, many, lyric, leave, le, london\n",
      "Aspect  5: album, style, moment, one, return, blue, vocal, man\n",
      "Aspect  6: black, also, film, old, still, however, music, life\n",
      "Aspect  7: family, guitar, indie, title, feel, star, best, always\n",
      "Aspect  8: family, com, work, well, album, time, like, love\n",
      "Aspect  9: john, month, character, new, make, song, letter, hear\n",
      "Aspect 10: early, since, question, soul, long, could, tell, co\n",
      "Aspect 11: even, like, rather, voice, last, working, anxiety, rock\n",
      "Aspect 12: end, story, like, day, first, week, review, singer\n",
      "Aspect 13: week, day, two, said, death, experience, com, old\n",
      "Aspect 14: album, go, see, question, play, together, hit, way\n"
     ]
    },
    {
     "name": "stderr",
     "output_type": "stream",
     "text": [
      "TRAIN EPOCH: 8 | LR: 0.00009 | MEAN-TRAIN-LOSS: 66.23360: 100%|██████████| 100/100 [00:01<00:00, 89.84it/s]\n",
      "VAL BATCH: 100 | MEAN-VAL-LOSS: 65.53215: 100%|██████████| 100/100 [00:00<00:00, 119.01it/s]\n",
      "TRAIN EPOCH: 9 | LR: 0.00010 | MEAN-TRAIN-LOSS: 57.16508:  10%|█         | 10/100 [00:00<00:00, 93.98it/s]"
     ]
    },
    {
     "name": "stdout",
     "output_type": "stream",
     "text": [
      "Aspect  0: death, <unk>, around, star, form, want, country, home\n",
      "Aspect  1: set, le, family, night, great, part, la, come\n",
      "Aspect  2: view, well, band, take, never, much, work, would\n",
      "Aspect  3: view, since, form, end, album, made, third, bit\n",
      "Aspect  4: even, pop, second, many, lyric, leave, le, london\n",
      "Aspect  5: album, style, moment, one, return, blue, vocal, man\n",
      "Aspect  6: black, also, film, old, still, however, music, life\n",
      "Aspect  7: family, guitar, indie, title, feel, star, best, always\n",
      "Aspect  8: family, com, work, well, album, time, like, love\n",
      "Aspect  9: john, month, character, new, make, song, letter, hear\n",
      "Aspect 10: early, since, question, soul, long, could, tell, co\n",
      "Aspect 11: even, like, rather, voice, last, working, anxiety, rock\n",
      "Aspect 12: end, story, like, day, first, week, review, singer\n",
      "Aspect 13: week, day, two, said, death, experience, com, old\n",
      "Aspect 14: album, go, see, question, play, together, hit, way\n"
     ]
    },
    {
     "name": "stderr",
     "output_type": "stream",
     "text": [
      "TRAIN EPOCH: 9 | LR: 0.00009 | MEAN-TRAIN-LOSS: 63.54461: 100%|██████████| 100/100 [00:01<00:00, 91.45it/s]\n",
      "VAL BATCH: 100 | MEAN-VAL-LOSS: 65.73919: 100%|██████████| 100/100 [00:00<00:00, 120.74it/s]\n",
      "TRAIN EPOCH: 10 | LR: 0.00010 | MEAN-TRAIN-LOSS: 63.95315:  10%|█         | 10/100 [00:00<00:00, 93.47it/s]"
     ]
    },
    {
     "name": "stdout",
     "output_type": "stream",
     "text": [
      "Aspect  0: death, <unk>, around, star, form, want, country, home\n",
      "Aspect  1: set, le, family, night, great, part, la, come\n",
      "Aspect  2: view, well, band, take, never, much, work, would\n",
      "Aspect  3: view, since, form, end, album, made, third, bit\n",
      "Aspect  4: even, pop, second, many, lyric, leave, le, london\n",
      "Aspect  5: album, style, moment, one, return, blue, vocal, man\n",
      "Aspect  6: black, also, film, old, still, however, music, life\n",
      "Aspect  7: family, guitar, indie, title, feel, star, best, always\n",
      "Aspect  8: family, com, work, well, album, time, like, love\n",
      "Aspect  9: john, month, character, new, make, song, letter, hear\n",
      "Aspect 10: early, since, question, soul, long, could, tell, co\n",
      "Aspect 11: even, like, rather, voice, last, working, anxiety, rock\n",
      "Aspect 12: end, story, like, day, first, week, review, singer\n",
      "Aspect 13: week, day, two, said, death, experience, com, old\n",
      "Aspect 14: album, go, see, question, play, together, hit, way\n"
     ]
    },
    {
     "name": "stderr",
     "output_type": "stream",
     "text": [
      "TRAIN EPOCH: 10 | LR: 0.00008 | MEAN-TRAIN-LOSS: 64.10459: 100%|██████████| 100/100 [00:01<00:00, 91.80it/s]\n",
      "VAL BATCH: 100 | MEAN-VAL-LOSS: 65.57269: 100%|██████████| 100/100 [00:00<00:00, 119.90it/s]\n",
      "TRAIN EPOCH: 11 | LR: 0.00010 | MEAN-TRAIN-LOSS: 64.41558:  10%|█         | 10/100 [00:00<00:00, 94.17it/s]"
     ]
    },
    {
     "name": "stdout",
     "output_type": "stream",
     "text": [
      "Aspect  0: death, <unk>, around, star, form, want, country, home\n",
      "Aspect  1: set, le, family, night, great, part, la, come\n",
      "Aspect  2: view, well, band, take, never, much, work, would\n",
      "Aspect  3: view, since, form, end, album, made, third, bit\n",
      "Aspect  4: even, pop, second, many, lyric, leave, le, london\n",
      "Aspect  5: album, style, moment, one, return, blue, vocal, man\n",
      "Aspect  6: black, also, film, old, still, however, music, life\n",
      "Aspect  7: family, guitar, indie, title, feel, star, best, always\n",
      "Aspect  8: family, com, work, well, album, time, like, love\n",
      "Aspect  9: john, month, character, new, make, song, letter, hear\n",
      "Aspect 10: early, since, question, soul, long, could, tell, co\n",
      "Aspect 11: even, like, rather, voice, last, working, anxiety, rock\n",
      "Aspect 12: end, story, like, day, first, week, review, singer\n",
      "Aspect 13: week, day, two, said, death, experience, com, old\n",
      "Aspect 14: album, go, see, question, play, together, hit, way\n"
     ]
    },
    {
     "name": "stderr",
     "output_type": "stream",
     "text": [
      "TRAIN EPOCH: 11 | LR: 0.00008 | MEAN-TRAIN-LOSS: 64.95396: 100%|██████████| 100/100 [00:01<00:00, 92.35it/s]\n",
      "VAL BATCH: 100 | MEAN-VAL-LOSS: 65.85585: 100%|██████████| 100/100 [00:00<00:00, 117.06it/s]\n",
      "TRAIN EPOCH: 12 | LR: 0.00010 | MEAN-TRAIN-LOSS: 67.05484:   9%|▉         | 9/100 [00:00<00:01, 89.99it/s]"
     ]
    },
    {
     "name": "stdout",
     "output_type": "stream",
     "text": [
      "Aspect  0: death, <unk>, around, star, form, want, country, home\n",
      "Aspect  1: set, le, family, night, great, part, la, come\n",
      "Aspect  2: view, well, band, take, never, much, work, would\n",
      "Aspect  3: view, since, form, end, album, made, third, bit\n",
      "Aspect  4: even, pop, second, many, lyric, leave, le, london\n",
      "Aspect  5: album, style, moment, one, return, blue, vocal, man\n",
      "Aspect  6: time, also, film, old, still, however, music, life\n",
      "Aspect  7: family, guitar, indie, title, feel, star, best, always\n",
      "Aspect  8: could, com, work, well, album, time, like, love\n",
      "Aspect  9: john, month, character, new, make, song, letter, hear\n",
      "Aspect 10: early, since, question, soul, long, could, tell, co\n",
      "Aspect 11: even, like, rather, voice, last, working, anxiety, rock\n",
      "Aspect 12: end, story, like, day, first, week, review, singer\n",
      "Aspect 13: week, day, two, said, death, experience, com, old\n",
      "Aspect 14: album, go, see, question, play, together, hit, way\n"
     ]
    },
    {
     "name": "stderr",
     "output_type": "stream",
     "text": [
      "TRAIN EPOCH: 12 | LR: 0.00008 | MEAN-TRAIN-LOSS: 61.27784: 100%|██████████| 100/100 [00:01<00:00, 91.51it/s]\n",
      "VAL BATCH: 100 | MEAN-VAL-LOSS: 65.49603: 100%|██████████| 100/100 [00:00<00:00, 128.13it/s]\n",
      "TRAIN EPOCH: 13 | LR: 0.00010 | MEAN-TRAIN-LOSS: 64.34144:  10%|█         | 10/100 [00:00<00:00, 99.31it/s]"
     ]
    },
    {
     "name": "stdout",
     "output_type": "stream",
     "text": [
      "Aspect  0: death, <unk>, around, star, form, want, country, home\n",
      "Aspect  1: set, le, family, night, great, part, la, come\n",
      "Aspect  2: view, well, band, take, never, much, work, would\n",
      "Aspect  3: view, since, form, album, end, made, third, bit\n",
      "Aspect  4: even, pop, second, many, lyric, leave, le, london\n",
      "Aspect  5: album, style, moment, one, return, blue, vocal, man\n",
      "Aspect  6: black, also, film, old, still, however, music, life\n",
      "Aspect  7: family, guitar, indie, title, feel, star, best, always\n",
      "Aspect  8: could, com, work, well, album, time, like, love\n",
      "Aspect  9: john, month, character, new, make, song, letter, hear\n",
      "Aspect 10: early, since, question, soul, long, could, tell, co\n",
      "Aspect 11: even, like, rather, voice, last, working, anxiety, rock\n",
      "Aspect 12: end, story, like, day, first, week, review, singer\n",
      "Aspect 13: week, day, two, death, said, experience, com, old\n",
      "Aspect 14: album, go, see, question, play, together, hit, way\n"
     ]
    },
    {
     "name": "stderr",
     "output_type": "stream",
     "text": [
      "TRAIN EPOCH: 13 | LR: 0.00008 | MEAN-TRAIN-LOSS: 60.59223: 100%|██████████| 100/100 [00:01<00:00, 99.89it/s]\n",
      "VAL BATCH: 100 | MEAN-VAL-LOSS: 65.54805: 100%|██████████| 100/100 [00:00<00:00, 132.84it/s]\n",
      "TRAIN EPOCH: 14 | LR: 0.00010 | MEAN-TRAIN-LOSS: 59.31816:  11%|█         | 11/100 [00:00<00:00, 103.82it/s]"
     ]
    },
    {
     "name": "stdout",
     "output_type": "stream",
     "text": [
      "Aspect  0: death, <unk>, around, star, form, want, country, home\n",
      "Aspect  1: set, le, family, night, great, part, la, come\n",
      "Aspect  2: view, well, band, take, never, much, work, would\n",
      "Aspect  3: view, since, form, album, end, made, third, bit\n",
      "Aspect  4: even, pop, second, many, lyric, leave, le, london\n",
      "Aspect  5: album, style, moment, one, return, blue, vocal, man\n",
      "Aspect  6: time, also, film, old, still, however, music, life\n",
      "Aspect  7: family, guitar, indie, title, feel, star, best, always\n",
      "Aspect  8: could, com, work, well, album, time, like, love\n",
      "Aspect  9: john, month, character, new, make, song, letter, hear\n",
      "Aspect 10: early, since, question, soul, long, could, tell, co\n",
      "Aspect 11: even, like, rather, voice, last, working, anxiety, rock\n",
      "Aspect 12: end, story, like, day, first, week, review, singer\n",
      "Aspect 13: week, day, two, death, said, experience, com, old\n",
      "Aspect 14: album, go, see, question, play, together, hit, way\n"
     ]
    },
    {
     "name": "stderr",
     "output_type": "stream",
     "text": [
      "TRAIN EPOCH: 14 | LR: 0.00008 | MEAN-TRAIN-LOSS: 66.25223: 100%|██████████| 100/100 [00:00<00:00, 100.47it/s]\n",
      "VAL BATCH: 100 | MEAN-VAL-LOSS: 65.51966: 100%|██████████| 100/100 [00:00<00:00, 128.90it/s]\n",
      "TRAIN EPOCH: 15 | LR: 0.00010 | MEAN-TRAIN-LOSS: 68.03064:  11%|█         | 11/100 [00:00<00:00, 103.58it/s]"
     ]
    },
    {
     "name": "stdout",
     "output_type": "stream",
     "text": [
      "Aspect  0: death, <unk>, around, star, form, want, country, home\n",
      "Aspect  1: set, le, family, night, great, part, la, come\n",
      "Aspect  2: view, well, band, take, never, much, work, would\n",
      "Aspect  3: view, since, form, album, end, made, third, bit\n",
      "Aspect  4: even, pop, second, many, lyric, leave, le, london\n",
      "Aspect  5: album, style, moment, one, return, blue, vocal, man\n",
      "Aspect  6: time, also, film, old, still, however, music, life\n",
      "Aspect  7: family, guitar, indie, feel, title, star, best, always\n",
      "Aspect  8: could, com, work, well, album, time, like, love\n",
      "Aspect  9: john, month, character, new, make, song, letter, hear\n",
      "Aspect 10: early, since, question, soul, long, could, tell, co\n",
      "Aspect 11: even, like, rather, voice, last, working, anxiety, rock\n",
      "Aspect 12: end, story, like, day, first, week, review, singer\n",
      "Aspect 13: week, day, two, death, said, experience, com, old\n",
      "Aspect 14: album, go, see, question, play, together, hit, way\n"
     ]
    },
    {
     "name": "stderr",
     "output_type": "stream",
     "text": [
      "TRAIN EPOCH: 15 | LR: 0.00008 | MEAN-TRAIN-LOSS: 65.11471: 100%|██████████| 100/100 [00:00<00:00, 101.53it/s]\n",
      "VAL BATCH: 100 | MEAN-VAL-LOSS: 65.33047: 100%|██████████| 100/100 [00:00<00:00, 130.27it/s]\n",
      "TRAIN EPOCH: 16 | LR: 0.00010 | MEAN-TRAIN-LOSS: 62.45848:  11%|█         | 11/100 [00:00<00:00, 102.98it/s]"
     ]
    },
    {
     "name": "stdout",
     "output_type": "stream",
     "text": [
      "Aspect  0: death, <unk>, around, star, form, want, country, home\n",
      "Aspect  1: set, le, family, night, great, part, la, come\n",
      "Aspect  2: view, well, band, take, never, much, work, would\n",
      "Aspect  3: view, form, since, album, end, made, third, bit\n",
      "Aspect  4: even, pop, second, many, lyric, leave, le, london\n",
      "Aspect  5: brexit, style, moment, one, return, blue, vocal, man\n",
      "Aspect  6: time, also, film, old, still, however, music, life\n",
      "Aspect  7: family, guitar, indie, feel, title, star, best, always\n",
      "Aspect  8: could, com, work, well, album, time, like, love\n",
      "Aspect  9: john, month, character, new, make, song, letter, hear\n",
      "Aspect 10: early, since, question, soul, long, could, tell, co\n",
      "Aspect 11: even, like, rather, voice, last, working, anxiety, rock\n",
      "Aspect 12: end, story, like, day, first, week, review, singer\n",
      "Aspect 13: week, day, two, death, said, experience, com, old\n",
      "Aspect 14: album, go, see, question, play, together, hit, way\n"
     ]
    },
    {
     "name": "stderr",
     "output_type": "stream",
     "text": [
      "TRAIN EPOCH: 16 | LR: 0.00008 | MEAN-TRAIN-LOSS: 70.68290: 100%|██████████| 100/100 [00:00<00:00, 100.94it/s]\n",
      "VAL BATCH: 100 | MEAN-VAL-LOSS: 65.63518: 100%|██████████| 100/100 [00:00<00:00, 134.06it/s]\n",
      "TRAIN EPOCH: 17 | LR: 0.00010 | MEAN-TRAIN-LOSS: 55.54647:  11%|█         | 11/100 [00:00<00:00, 104.79it/s]"
     ]
    },
    {
     "name": "stdout",
     "output_type": "stream",
     "text": [
      "Aspect  0: death, <unk>, around, star, form, want, country, home\n",
      "Aspect  1: set, le, family, night, great, part, la, come\n",
      "Aspect  2: view, well, band, take, never, much, work, would\n",
      "Aspect  3: view, form, album, since, end, made, third, bit\n",
      "Aspect  4: even, pop, second, many, lyric, leave, le, london\n",
      "Aspect  5: brexit, style, moment, one, return, blue, vocal, man\n",
      "Aspect  6: black, also, film, old, still, however, music, life\n",
      "Aspect  7: family, guitar, indie, feel, title, star, best, always\n",
      "Aspect  8: could, com, work, well, album, time, like, love\n",
      "Aspect  9: john, month, character, new, make, song, letter, hear\n",
      "Aspect 10: early, since, question, soul, long, could, tell, co\n",
      "Aspect 11: even, like, rather, voice, last, working, anxiety, rock\n",
      "Aspect 12: end, story, like, day, first, week, review, singer\n",
      "Aspect 13: week, day, two, death, said, experience, com, old\n",
      "Aspect 14: album, go, see, question, play, together, hit, way\n"
     ]
    },
    {
     "name": "stderr",
     "output_type": "stream",
     "text": [
      "TRAIN EPOCH: 17 | LR: 0.00007 | MEAN-TRAIN-LOSS: 61.81481: 100%|██████████| 100/100 [00:00<00:00, 103.08it/s]\n",
      "VAL BATCH: 100 | MEAN-VAL-LOSS: 65.47093: 100%|██████████| 100/100 [00:00<00:00, 129.14it/s]\n",
      "TRAIN EPOCH: 18 | LR: 0.00010 | MEAN-TRAIN-LOSS: 64.52189:  10%|█         | 10/100 [00:00<00:00, 92.86it/s]"
     ]
    },
    {
     "name": "stdout",
     "output_type": "stream",
     "text": [
      "Aspect  0: death, <unk>, around, star, form, want, country, home\n",
      "Aspect  1: set, le, family, night, great, part, la, come\n",
      "Aspect  2: view, well, band, take, never, much, work, would\n",
      "Aspect  3: view, album, form, since, end, made, third, bit\n",
      "Aspect  4: even, pop, second, many, lyric, leave, le, london\n",
      "Aspect  5: brexit, style, moment, one, return, blue, vocal, man\n",
      "Aspect  6: black, also, film, old, still, however, music, life\n",
      "Aspect  7: family, guitar, indie, feel, title, star, best, always\n",
      "Aspect  8: could, com, work, well, album, time, like, love\n",
      "Aspect  9: john, month, character, new, make, song, letter, hear\n",
      "Aspect 10: early, since, question, soul, long, could, tell, co\n",
      "Aspect 11: even, like, rather, voice, last, working, anxiety, rock\n",
      "Aspect 12: end, story, like, day, first, week, review, singer\n",
      "Aspect 13: week, day, two, death, said, experience, com, old\n",
      "Aspect 14: album, go, see, question, play, together, hit, way\n"
     ]
    },
    {
     "name": "stderr",
     "output_type": "stream",
     "text": [
      "TRAIN EPOCH: 18 | LR: 0.00007 | MEAN-TRAIN-LOSS: 68.13761: 100%|██████████| 100/100 [00:01<00:00, 97.86it/s]\n",
      "VAL BATCH: 100 | MEAN-VAL-LOSS: 65.45302: 100%|██████████| 100/100 [00:00<00:00, 120.98it/s]\n",
      "TRAIN EPOCH: 19 | LR: 0.00010 | MEAN-TRAIN-LOSS: 60.66026:  11%|█         | 11/100 [00:00<00:00, 99.15it/s]"
     ]
    },
    {
     "name": "stdout",
     "output_type": "stream",
     "text": [
      "Aspect  0: death, <unk>, around, star, form, want, country, home\n",
      "Aspect  1: set, le, family, night, great, part, la, come\n",
      "Aspect  2: view, well, band, take, never, much, work, would\n",
      "Aspect  3: view, album, form, since, end, made, third, bit\n",
      "Aspect  4: even, pop, second, many, lyric, leave, le, london\n",
      "Aspect  5: brexit, style, moment, one, return, blue, vocal, man\n",
      "Aspect  6: black, also, film, old, still, however, music, life\n",
      "Aspect  7: family, guitar, indie, feel, title, star, best, always\n",
      "Aspect  8: could, com, work, well, album, time, like, love\n",
      "Aspect  9: john, month, character, new, make, song, letter, hear\n",
      "Aspect 10: early, since, question, soul, long, could, tell, co\n",
      "Aspect 11: even, like, rather, voice, last, working, anxiety, rock\n",
      "Aspect 12: end, story, like, day, first, week, review, singer\n",
      "Aspect 13: week, day, two, death, said, experience, com, old\n",
      "Aspect 14: album, go, see, question, play, together, hit, way\n"
     ]
    },
    {
     "name": "stderr",
     "output_type": "stream",
     "text": [
      "TRAIN EPOCH: 19 | LR: 0.00007 | MEAN-TRAIN-LOSS: 61.56360: 100%|██████████| 100/100 [00:01<00:00, 99.23it/s]\n",
      "VAL BATCH: 100 | MEAN-VAL-LOSS: 65.39254: 100%|██████████| 100/100 [00:00<00:00, 115.22it/s]\n",
      "TRAIN EPOCH: 20 | LR: 0.00010 | MEAN-TRAIN-LOSS: 63.78828:  10%|█         | 10/100 [00:00<00:00, 99.67it/s]"
     ]
    },
    {
     "name": "stdout",
     "output_type": "stream",
     "text": [
      "Aspect  0: death, <unk>, around, star, form, want, country, home\n",
      "Aspect  1: set, le, family, night, great, part, la, come\n",
      "Aspect  2: view, well, band, take, never, much, work, would\n",
      "Aspect  3: view, album, form, since, end, made, third, bit\n",
      "Aspect  4: even, pop, second, many, lyric, leave, le, london\n",
      "Aspect  5: brexit, style, moment, one, return, blue, vocal, man\n",
      "Aspect  6: black, also, film, old, still, however, music, life\n",
      "Aspect  7: family, guitar, indie, feel, title, star, best, always\n",
      "Aspect  8: could, com, work, well, album, time, like, love\n",
      "Aspect  9: john, month, character, new, make, song, letter, hear\n",
      "Aspect 10: early, since, question, soul, long, could, tell, co\n",
      "Aspect 11: even, like, rather, voice, last, working, anxiety, rock\n",
      "Aspect 12: end, story, like, day, first, week, review, singer\n",
      "Aspect 13: week, day, two, death, said, experience, com, old\n",
      "Aspect 14: album, go, see, question, play, together, hit, way\n"
     ]
    },
    {
     "name": "stderr",
     "output_type": "stream",
     "text": [
      "TRAIN EPOCH: 20 | LR: 0.00007 | MEAN-TRAIN-LOSS: 64.23115: 100%|██████████| 100/100 [00:01<00:00, 94.45it/s]\n",
      "VAL BATCH: 100 | MEAN-VAL-LOSS: 65.47265: 100%|██████████| 100/100 [00:00<00:00, 111.74it/s]\n",
      "TRAIN EPOCH: 21 | LR: 0.00010 | MEAN-TRAIN-LOSS: 59.18359:   0%|          | 0/100 [00:00<?, ?it/s]"
     ]
    },
    {
     "name": "stdout",
     "output_type": "stream",
     "text": [
      "Aspect  0: death, <unk>, around, star, form, want, country, home\n",
      "Aspect  1: set, le, family, night, great, part, la, come\n",
      "Aspect  2: view, well, band, take, never, much, work, would\n",
      "Aspect  3: view, album, form, since, end, made, third, bit\n",
      "Aspect  4: even, pop, second, many, lyric, leave, le, london\n",
      "Aspect  5: brexit, style, moment, one, return, blue, vocal, man\n",
      "Aspect  6: black, also, film, old, still, however, music, life\n",
      "Aspect  7: family, guitar, indie, feel, title, star, best, always\n",
      "Aspect  8: could, com, work, well, album, time, like, love\n",
      "Aspect  9: john, month, character, new, make, song, letter, hear\n",
      "Aspect 10: early, since, question, soul, long, could, tell, co\n",
      "Aspect 11: even, like, rather, voice, last, working, anxiety, rock\n",
      "Aspect 12: end, story, like, day, first, week, review, singer\n",
      "Aspect 13: week, day, two, death, said, experience, com, old\n",
      "Aspect 14: album, go, see, question, play, together, hit, way\n"
     ]
    },
    {
     "name": "stderr",
     "output_type": "stream",
     "text": [
      "TRAIN EPOCH: 21 | LR: 0.00007 | MEAN-TRAIN-LOSS: 58.75616: 100%|██████████| 100/100 [00:01<00:00, 89.15it/s]\n",
      "VAL BATCH: 100 | MEAN-VAL-LOSS: 65.55949: 100%|██████████| 100/100 [00:00<00:00, 116.10it/s]\n",
      "TRAIN EPOCH: 22 | LR: 0.00010 | MEAN-TRAIN-LOSS: 62.60058:  10%|█         | 10/100 [00:00<00:00, 93.66it/s]"
     ]
    },
    {
     "name": "stdout",
     "output_type": "stream",
     "text": [
      "Aspect  0: death, <unk>, around, star, form, want, country, home\n",
      "Aspect  1: le, set, family, night, great, part, la, come\n",
      "Aspect  2: view, well, band, take, never, much, work, would\n",
      "Aspect  3: view, album, form, since, end, made, third, bit\n",
      "Aspect  4: even, pop, second, many, lyric, leave, le, london\n",
      "Aspect  5: brexit, style, moment, one, return, blue, vocal, man\n",
      "Aspect  6: black, also, film, old, still, however, music, life\n",
      "Aspect  7: family, guitar, indie, feel, title, star, best, always\n",
      "Aspect  8: could, com, work, well, album, time, like, love\n",
      "Aspect  9: john, month, character, new, make, song, letter, hear\n",
      "Aspect 10: early, since, question, soul, long, could, tell, co\n",
      "Aspect 11: even, like, rather, voice, last, working, anxiety, rock\n",
      "Aspect 12: end, story, like, day, first, week, review, singer\n",
      "Aspect 13: week, day, two, death, said, experience, com, old\n",
      "Aspect 14: album, go, see, question, play, together, hit, way\n"
     ]
    },
    {
     "name": "stderr",
     "output_type": "stream",
     "text": [
      "TRAIN EPOCH: 22 | LR: 0.00007 | MEAN-TRAIN-LOSS: 61.92191: 100%|██████████| 100/100 [00:01<00:00, 88.69it/s]\n",
      "VAL BATCH: 100 | MEAN-VAL-LOSS: 65.65557: 100%|██████████| 100/100 [00:00<00:00, 122.46it/s]\n",
      "TRAIN EPOCH: 23 | LR: 0.00010 | MEAN-TRAIN-LOSS: 56.48095:  10%|█         | 10/100 [00:00<00:00, 96.81it/s]"
     ]
    },
    {
     "name": "stdout",
     "output_type": "stream",
     "text": [
      "Aspect  0: death, <unk>, around, star, form, want, country, home\n",
      "Aspect  1: le, set, family, night, great, part, la, come\n",
      "Aspect  2: view, well, band, take, never, much, work, would\n",
      "Aspect  3: view, album, form, since, end, made, third, bit\n",
      "Aspect  4: even, pop, second, many, lyric, leave, le, london\n",
      "Aspect  5: brexit, style, moment, one, return, blue, vocal, man\n",
      "Aspect  6: black, also, film, old, still, however, music, life\n",
      "Aspect  7: family, guitar, indie, feel, title, star, best, always\n",
      "Aspect  8: could, com, work, well, album, time, like, love\n",
      "Aspect  9: john, month, character, new, make, song, letter, hear\n",
      "Aspect 10: early, since, question, soul, long, could, tell, co\n",
      "Aspect 11: even, like, rather, voice, last, working, anxiety, rock\n",
      "Aspect 12: end, story, like, day, first, week, review, singer\n",
      "Aspect 13: week, day, two, death, said, experience, com, old\n",
      "Aspect 14: album, go, see, question, play, together, hit, way\n"
     ]
    },
    {
     "name": "stderr",
     "output_type": "stream",
     "text": [
      "TRAIN EPOCH: 23 | LR: 0.00007 | MEAN-TRAIN-LOSS: 62.31398: 100%|██████████| 100/100 [00:00<00:00, 100.90it/s]\n",
      "VAL BATCH: 100 | MEAN-VAL-LOSS: 65.17714: 100%|██████████| 100/100 [00:00<00:00, 130.82it/s]\n",
      "TRAIN EPOCH: 24 | LR: 0.00010 | MEAN-TRAIN-LOSS: 63.99588:  11%|█         | 11/100 [00:00<00:00, 107.77it/s]"
     ]
    },
    {
     "name": "stdout",
     "output_type": "stream",
     "text": [
      "Aspect  0: death, <unk>, around, star, form, want, country, home\n",
      "Aspect  1: le, set, family, night, great, part, la, come\n",
      "Aspect  2: view, well, band, take, never, much, work, would\n",
      "Aspect  3: view, album, form, since, end, made, third, bit\n",
      "Aspect  4: even, pop, second, many, lyric, leave, le, london\n",
      "Aspect  5: brexit, style, moment, one, return, blue, vocal, man\n",
      "Aspect  6: black, also, film, old, still, however, music, life\n",
      "Aspect  7: family, guitar, indie, feel, star, title, best, always\n",
      "Aspect  8: could, com, work, well, album, time, like, love\n",
      "Aspect  9: john, month, character, new, make, song, letter, hear\n",
      "Aspect 10: early, since, question, soul, long, could, tell, co\n",
      "Aspect 11: even, like, rather, voice, last, working, anxiety, rock\n",
      "Aspect 12: end, story, like, day, first, week, review, singer\n",
      "Aspect 13: week, day, two, death, said, experience, com, old\n",
      "Aspect 14: album, go, see, question, play, together, hit, way\n"
     ]
    },
    {
     "name": "stderr",
     "output_type": "stream",
     "text": [
      "TRAIN EPOCH: 24 | LR: 0.00006 | MEAN-TRAIN-LOSS: 60.55647: 100%|██████████| 100/100 [00:00<00:00, 101.57it/s]\n",
      "VAL BATCH: 100 | MEAN-VAL-LOSS: 65.73172: 100%|██████████| 100/100 [00:00<00:00, 130.81it/s]\n",
      "TRAIN EPOCH: 25 | LR: 0.00010 | MEAN-TRAIN-LOSS: 58.72535:  10%|█         | 10/100 [00:00<00:00, 97.31it/s]"
     ]
    },
    {
     "name": "stdout",
     "output_type": "stream",
     "text": [
      "Aspect  0: also, <unk>, around, star, form, want, country, home\n",
      "Aspect  1: le, set, family, night, great, part, la, come\n",
      "Aspect  2: view, well, band, take, never, much, work, would\n",
      "Aspect  3: view, album, form, since, end, made, third, bit\n",
      "Aspect  4: even, pop, second, many, lyric, leave, le, london\n",
      "Aspect  5: brexit, style, moment, one, return, blue, vocal, man\n",
      "Aspect  6: black, also, old, film, still, however, music, life\n",
      "Aspect  7: family, guitar, indie, feel, star, title, best, always\n",
      "Aspect  8: could, com, work, well, album, time, like, love\n",
      "Aspect  9: john, month, character, new, make, song, letter, hear\n",
      "Aspect 10: early, since, question, soul, long, could, tell, co\n",
      "Aspect 11: even, like, rather, voice, last, working, anxiety, rock\n",
      "Aspect 12: end, story, like, day, first, week, review, singer\n",
      "Aspect 13: week, day, two, death, said, experience, com, old\n",
      "Aspect 14: album, go, see, question, play, together, hit, way\n"
     ]
    },
    {
     "name": "stderr",
     "output_type": "stream",
     "text": [
      "TRAIN EPOCH: 25 | LR: 0.00006 | MEAN-TRAIN-LOSS: 53.60983: 100%|██████████| 100/100 [00:01<00:00, 92.29it/s]\n",
      "VAL BATCH: 100 | MEAN-VAL-LOSS: 65.30346: 100%|██████████| 100/100 [00:00<00:00, 124.11it/s]\n",
      "TRAIN EPOCH: 26 | LR: 0.00010 | MEAN-TRAIN-LOSS: 63.64611:  11%|█         | 11/100 [00:00<00:00, 105.41it/s]"
     ]
    },
    {
     "name": "stdout",
     "output_type": "stream",
     "text": [
      "Aspect  0: also, <unk>, around, star, form, want, country, home\n",
      "Aspect  1: le, set, family, night, great, part, la, come\n",
      "Aspect  2: view, well, band, take, never, much, work, would\n",
      "Aspect  3: view, album, form, since, end, made, third, bit\n",
      "Aspect  4: even, pop, second, many, lyric, leave, le, london\n",
      "Aspect  5: brexit, style, moment, one, return, blue, vocal, man\n",
      "Aspect  6: black, also, old, film, still, however, music, life\n",
      "Aspect  7: family, guitar, indie, feel, star, title, best, always\n",
      "Aspect  8: could, com, work, well, album, time, like, love\n",
      "Aspect  9: john, month, character, new, make, song, letter, hear\n",
      "Aspect 10: early, since, question, soul, long, could, tell, co\n",
      "Aspect 11: even, like, rather, voice, last, working, anxiety, rock\n",
      "Aspect 12: end, story, like, day, first, week, review, singer\n",
      "Aspect 13: week, day, two, death, said, experience, com, old\n",
      "Aspect 14: album, go, see, question, play, together, hit, way\n"
     ]
    },
    {
     "name": "stderr",
     "output_type": "stream",
     "text": [
      "TRAIN EPOCH: 26 | LR: 0.00006 | MEAN-TRAIN-LOSS: 56.05255: 100%|██████████| 100/100 [00:01<00:00, 97.85it/s]\n",
      "VAL BATCH: 100 | MEAN-VAL-LOSS: 65.81735: 100%|██████████| 100/100 [00:00<00:00, 122.03it/s]\n",
      "TRAIN EPOCH: 27 | LR: 0.00010 | MEAN-TRAIN-LOSS: 59.01403:  11%|█         | 11/100 [00:00<00:00, 107.37it/s]"
     ]
    },
    {
     "name": "stdout",
     "output_type": "stream",
     "text": [
      "Aspect  0: also, <unk>, around, star, form, want, country, home\n",
      "Aspect  1: le, set, family, night, great, part, la, come\n",
      "Aspect  2: view, well, band, take, never, much, work, would\n",
      "Aspect  3: view, album, form, since, end, made, third, bit\n",
      "Aspect  4: even, pop, second, many, lyric, leave, le, london\n",
      "Aspect  5: brexit, style, moment, one, return, blue, vocal, man\n",
      "Aspect  6: black, also, old, film, still, however, music, life\n",
      "Aspect  7: family, guitar, indie, feel, star, title, best, always\n",
      "Aspect  8: could, com, work, well, album, time, like, love\n",
      "Aspect  9: john, month, character, new, make, song, letter, hear\n",
      "Aspect 10: early, since, question, soul, long, could, tell, co\n",
      "Aspect 11: even, like, rather, voice, last, working, anxiety, rock\n",
      "Aspect 12: end, story, like, day, first, week, review, singer\n",
      "Aspect 13: week, day, two, death, said, experience, com, old\n",
      "Aspect 14: album, go, see, question, play, together, hit, way\n"
     ]
    },
    {
     "name": "stderr",
     "output_type": "stream",
     "text": [
      "TRAIN EPOCH: 27 | LR: 0.00006 | MEAN-TRAIN-LOSS: 66.60204: 100%|██████████| 100/100 [00:00<00:00, 110.66it/s]\n",
      "VAL BATCH: 100 | MEAN-VAL-LOSS: 65.38274: 100%|██████████| 100/100 [00:00<00:00, 143.34it/s]\n",
      "TRAIN EPOCH: 28 | LR: 0.00010 | MEAN-TRAIN-LOSS: 61.73936:  11%|█         | 11/100 [00:00<00:00, 108.06it/s]"
     ]
    },
    {
     "name": "stdout",
     "output_type": "stream",
     "text": [
      "Aspect  0: also, <unk>, around, star, form, want, country, home\n",
      "Aspect  1: film, set, family, night, great, part, la, come\n",
      "Aspect  2: view, well, band, take, never, much, work, would\n",
      "Aspect  3: view, album, form, since, end, made, third, bit\n",
      "Aspect  4: even, pop, second, many, lyric, leave, le, london\n",
      "Aspect  5: brexit, style, moment, one, return, blue, vocal, man\n",
      "Aspect  6: black, also, old, film, still, however, music, life\n",
      "Aspect  7: family, guitar, indie, feel, star, title, best, always\n",
      "Aspect  8: could, com, work, well, album, time, like, love\n",
      "Aspect  9: john, month, character, new, make, song, letter, hear\n",
      "Aspect 10: early, since, question, soul, long, could, tell, co\n",
      "Aspect 11: even, like, rather, voice, last, working, anxiety, rock\n",
      "Aspect 12: end, story, like, day, first, week, review, singer\n",
      "Aspect 13: week, day, two, death, said, experience, com, old\n",
      "Aspect 14: album, go, see, question, play, together, hit, way\n"
     ]
    },
    {
     "name": "stderr",
     "output_type": "stream",
     "text": [
      "TRAIN EPOCH: 28 | LR: 0.00006 | MEAN-TRAIN-LOSS: 56.88984: 100%|██████████| 100/100 [00:00<00:00, 108.07it/s]\n",
      "VAL BATCH: 100 | MEAN-VAL-LOSS: 65.11164: 100%|██████████| 100/100 [00:00<00:00, 141.03it/s]\n",
      "TRAIN EPOCH: 29 | LR: 0.00010 | MEAN-TRAIN-LOSS: 63.06438:   0%|          | 0/100 [00:00<?, ?it/s]"
     ]
    },
    {
     "name": "stdout",
     "output_type": "stream",
     "text": [
      "Aspect  0: also, <unk>, around, star, form, want, country, home\n",
      "Aspect  1: film, set, family, night, great, part, la, come\n",
      "Aspect  2: view, well, band, take, never, much, work, would\n",
      "Aspect  3: view, album, form, since, end, made, third, bit\n",
      "Aspect  4: even, pop, second, many, lyric, leave, le, london\n",
      "Aspect  5: brexit, style, moment, one, return, blue, vocal, man\n",
      "Aspect  6: black, also, old, film, still, however, music, life\n",
      "Aspect  7: family, guitar, indie, feel, star, title, best, always\n",
      "Aspect  8: could, com, work, well, album, time, like, love\n",
      "Aspect  9: john, month, character, new, make, song, letter, hear\n",
      "Aspect 10: early, since, question, soul, long, could, tell, co\n",
      "Aspect 11: even, like, rather, voice, last, working, anxiety, rock\n",
      "Aspect 12: end, story, like, day, first, week, review, singer\n",
      "Aspect 13: week, day, two, death, said, experience, com, old\n",
      "Aspect 14: album, go, see, question, play, together, hit, way\n"
     ]
    },
    {
     "name": "stderr",
     "output_type": "stream",
     "text": [
      "TRAIN EPOCH: 29 | LR: 0.00006 | MEAN-TRAIN-LOSS: 68.12919: 100%|██████████| 100/100 [00:00<00:00, 104.65it/s]\n",
      "VAL BATCH: 100 | MEAN-VAL-LOSS: 65.27852: 100%|██████████| 100/100 [00:00<00:00, 140.41it/s]\n",
      "TRAIN EPOCH: 30 | LR: 0.00010 | MEAN-TRAIN-LOSS: 61.27789:  11%|█         | 11/100 [00:00<00:00, 100.54it/s]"
     ]
    },
    {
     "name": "stdout",
     "output_type": "stream",
     "text": [
      "Aspect  0: also, <unk>, around, star, form, want, country, home\n",
      "Aspect  1: film, set, family, night, great, part, la, come\n",
      "Aspect  2: view, well, band, take, never, much, work, would\n",
      "Aspect  3: view, album, form, since, end, made, third, bit\n",
      "Aspect  4: even, pop, second, many, lyric, leave, le, london\n",
      "Aspect  5: brexit, style, moment, one, return, blue, vocal, man\n",
      "Aspect  6: black, also, old, film, still, however, music, life\n",
      "Aspect  7: family, guitar, indie, feel, star, title, best, always\n",
      "Aspect  8: could, com, work, well, album, time, like, love\n",
      "Aspect  9: john, month, character, new, make, song, letter, hear\n",
      "Aspect 10: early, since, question, soul, long, could, tell, co\n",
      "Aspect 11: even, like, rather, voice, last, working, anxiety, rock\n",
      "Aspect 12: end, story, like, day, first, week, review, singer\n",
      "Aspect 13: week, day, two, death, said, experience, com, old\n",
      "Aspect 14: album, go, see, question, play, together, hit, way\n"
     ]
    },
    {
     "name": "stderr",
     "output_type": "stream",
     "text": [
      "TRAIN EPOCH: 30 | LR: 0.00005 | MEAN-TRAIN-LOSS: 64.55819: 100%|██████████| 100/100 [00:00<00:00, 105.26it/s]\n",
      "VAL BATCH: 100 | MEAN-VAL-LOSS: 65.16051: 100%|██████████| 100/100 [00:00<00:00, 140.81it/s]\n",
      "TRAIN EPOCH: 31 | LR: 0.00010 | MEAN-TRAIN-LOSS: 65.84431:   0%|          | 0/100 [00:00<?, ?it/s]"
     ]
    },
    {
     "name": "stdout",
     "output_type": "stream",
     "text": [
      "Aspect  0: also, <unk>, around, star, form, want, country, home\n",
      "Aspect  1: film, set, family, night, great, part, la, come\n",
      "Aspect  2: view, well, band, take, never, much, work, would\n",
      "Aspect  3: view, album, form, since, end, made, third, bit\n",
      "Aspect  4: even, pop, second, many, lyric, leave, le, london\n",
      "Aspect  5: brexit, style, moment, one, return, blue, vocal, man\n",
      "Aspect  6: black, also, old, film, still, however, music, life\n",
      "Aspect  7: family, guitar, indie, feel, star, title, best, always\n",
      "Aspect  8: could, com, work, well, album, time, like, love\n",
      "Aspect  9: john, month, character, new, make, song, letter, hear\n",
      "Aspect 10: early, since, question, soul, long, could, tell, co\n",
      "Aspect 11: even, like, rather, voice, last, working, anxiety, rock\n",
      "Aspect 12: end, story, like, day, first, week, review, singer\n",
      "Aspect 13: week, day, two, death, said, experience, com, old\n",
      "Aspect 14: album, go, see, question, play, together, hit, way\n"
     ]
    },
    {
     "name": "stderr",
     "output_type": "stream",
     "text": [
      "TRAIN EPOCH: 31 | LR: 0.00005 | MEAN-TRAIN-LOSS: 61.51660: 100%|██████████| 100/100 [00:00<00:00, 107.53it/s]\n",
      "VAL BATCH: 100 | MEAN-VAL-LOSS: 65.21542: 100%|██████████| 100/100 [00:00<00:00, 141.20it/s]\n",
      "TRAIN EPOCH: 32 | LR: 0.00010 | MEAN-TRAIN-LOSS: 55.61023:   0%|          | 0/100 [00:00<?, ?it/s]"
     ]
    },
    {
     "name": "stdout",
     "output_type": "stream",
     "text": [
      "Aspect  0: also, <unk>, around, star, form, want, country, home\n",
      "Aspect  1: film, set, family, night, great, part, la, come\n",
      "Aspect  2: view, well, band, take, never, much, work, would\n",
      "Aspect  3: view, album, form, since, end, made, third, bit\n",
      "Aspect  4: even, pop, second, many, lyric, leave, le, london\n",
      "Aspect  5: brexit, style, moment, one, return, blue, vocal, man\n",
      "Aspect  6: black, also, old, film, still, however, music, life\n",
      "Aspect  7: family, guitar, indie, feel, star, title, best, always\n",
      "Aspect  8: could, com, work, well, album, time, like, love\n",
      "Aspect  9: john, month, character, new, make, song, letter, hear\n",
      "Aspect 10: early, since, question, soul, long, could, tell, co\n",
      "Aspect 11: even, like, rather, voice, last, working, anxiety, rock\n",
      "Aspect 12: end, story, like, day, first, week, review, singer\n",
      "Aspect 13: week, day, two, death, said, experience, com, old\n",
      "Aspect 14: album, go, see, question, play, together, hit, way\n"
     ]
    },
    {
     "name": "stderr",
     "output_type": "stream",
     "text": [
      "TRAIN EPOCH: 32 | LR: 0.00005 | MEAN-TRAIN-LOSS: 59.70435: 100%|██████████| 100/100 [00:00<00:00, 107.83it/s]\n",
      "VAL BATCH: 100 | MEAN-VAL-LOSS: 65.47594: 100%|██████████| 100/100 [00:00<00:00, 138.77it/s]\n",
      "TRAIN EPOCH: 33 | LR: 0.00010 | MEAN-TRAIN-LOSS: 59.42658:  11%|█         | 11/100 [00:00<00:00, 107.87it/s]"
     ]
    },
    {
     "name": "stdout",
     "output_type": "stream",
     "text": [
      "Aspect  0: also, <unk>, around, star, form, want, country, home\n",
      "Aspect  1: film, set, family, night, great, part, la, come\n",
      "Aspect  2: view, well, band, take, never, much, work, would\n",
      "Aspect  3: view, album, form, since, end, made, third, bit\n",
      "Aspect  4: even, pop, second, many, lyric, leave, le, london\n",
      "Aspect  5: brexit, style, moment, one, return, blue, vocal, man\n",
      "Aspect  6: black, also, old, film, still, however, music, life\n",
      "Aspect  7: family, guitar, indie, feel, star, title, best, always\n",
      "Aspect  8: could, com, work, well, album, time, like, love\n",
      "Aspect  9: john, month, character, new, make, song, letter, hear\n",
      "Aspect 10: early, since, question, soul, long, could, tell, co\n",
      "Aspect 11: even, like, rather, voice, last, working, anxiety, rock\n",
      "Aspect 12: end, story, like, day, first, week, review, singer\n",
      "Aspect 13: week, day, two, death, said, experience, com, old\n",
      "Aspect 14: album, go, see, question, play, together, hit, way\n"
     ]
    },
    {
     "name": "stderr",
     "output_type": "stream",
     "text": [
      "TRAIN EPOCH: 33 | LR: 0.00005 | MEAN-TRAIN-LOSS: 60.42031: 100%|██████████| 100/100 [00:00<00:00, 105.93it/s]\n",
      "VAL BATCH: 100 | MEAN-VAL-LOSS: 65.39494: 100%|██████████| 100/100 [00:00<00:00, 138.44it/s]\n",
      "TRAIN EPOCH: 34 | LR: 0.00010 | MEAN-TRAIN-LOSS: 58.59597:   0%|          | 0/100 [00:00<?, ?it/s]"
     ]
    },
    {
     "name": "stdout",
     "output_type": "stream",
     "text": [
      "Aspect  0: also, <unk>, around, star, form, want, country, home\n",
      "Aspect  1: film, set, family, night, great, part, la, come\n",
      "Aspect  2: view, well, band, take, never, much, work, would\n",
      "Aspect  3: view, album, form, since, end, made, third, bit\n",
      "Aspect  4: even, pop, second, many, lyric, leave, le, london\n",
      "Aspect  5: brexit, style, moment, one, return, blue, vocal, man\n",
      "Aspect  6: black, also, old, film, still, however, music, life\n",
      "Aspect  7: family, guitar, indie, feel, star, title, best, always\n",
      "Aspect  8: could, com, work, well, album, time, like, love\n",
      "Aspect  9: john, month, character, new, make, song, letter, hear\n",
      "Aspect 10: early, since, question, soul, long, could, tell, co\n",
      "Aspect 11: even, like, rather, voice, last, working, anxiety, rock\n",
      "Aspect 12: end, story, like, day, first, week, review, singer\n",
      "Aspect 13: week, day, two, death, said, experience, com, old\n",
      "Aspect 14: album, go, see, question, play, together, hit, way\n"
     ]
    },
    {
     "name": "stderr",
     "output_type": "stream",
     "text": [
      "TRAIN EPOCH: 34 | LR: 0.00005 | MEAN-TRAIN-LOSS: 55.68149: 100%|██████████| 100/100 [00:00<00:00, 107.81it/s]\n",
      "VAL BATCH: 100 | MEAN-VAL-LOSS: 65.16304: 100%|██████████| 100/100 [00:00<00:00, 141.18it/s]\n",
      "TRAIN EPOCH: 35 | LR: 0.00010 | MEAN-TRAIN-LOSS: 62.70473:   0%|          | 0/100 [00:00<?, ?it/s]"
     ]
    },
    {
     "name": "stdout",
     "output_type": "stream",
     "text": [
      "Aspect  0: also, <unk>, around, star, form, want, country, home\n",
      "Aspect  1: film, set, family, night, great, part, la, come\n",
      "Aspect  2: view, well, band, take, never, much, work, would\n",
      "Aspect  3: view, album, form, since, end, made, third, bit\n",
      "Aspect  4: even, pop, second, many, lyric, leave, le, london\n",
      "Aspect  5: brexit, style, moment, one, return, blue, vocal, man\n",
      "Aspect  6: black, also, old, film, still, however, music, life\n",
      "Aspect  7: family, guitar, indie, feel, star, title, best, always\n",
      "Aspect  8: could, com, work, well, album, time, like, love\n",
      "Aspect  9: john, month, character, new, make, song, letter, hear\n",
      "Aspect 10: early, since, question, soul, long, could, tell, co\n",
      "Aspect 11: even, like, rather, voice, last, working, anxiety, rock\n",
      "Aspect 12: end, story, like, day, first, week, review, singer\n",
      "Aspect 13: week, day, two, death, said, experience, com, old\n",
      "Aspect 14: album, go, see, question, play, together, hit, way\n"
     ]
    },
    {
     "name": "stderr",
     "output_type": "stream",
     "text": [
      "TRAIN EPOCH: 35 | LR: 0.00005 | MEAN-TRAIN-LOSS: 61.74760: 100%|██████████| 100/100 [00:00<00:00, 104.31it/s]\n",
      "VAL BATCH: 100 | MEAN-VAL-LOSS: 65.12479: 100%|██████████| 100/100 [00:00<00:00, 139.57it/s]\n",
      "TRAIN EPOCH: 36 | LR: 0.00010 | MEAN-TRAIN-LOSS: 62.78950:   0%|          | 0/100 [00:00<?, ?it/s]"
     ]
    },
    {
     "name": "stdout",
     "output_type": "stream",
     "text": [
      "Aspect  0: also, <unk>, around, star, form, want, country, home\n",
      "Aspect  1: film, set, family, night, great, part, la, come\n",
      "Aspect  2: view, well, band, take, never, much, work, would\n",
      "Aspect  3: view, album, form, since, end, made, third, bit\n",
      "Aspect  4: even, pop, second, many, lyric, leave, le, london\n",
      "Aspect  5: brexit, style, moment, one, return, blue, vocal, man\n",
      "Aspect  6: black, also, old, film, still, however, music, life\n",
      "Aspect  7: family, guitar, indie, feel, star, title, best, always\n",
      "Aspect  8: could, com, work, well, album, time, like, love\n",
      "Aspect  9: john, month, character, new, make, song, letter, hear\n",
      "Aspect 10: early, since, question, soul, long, could, tell, co\n",
      "Aspect 11: even, like, rather, voice, last, working, anxiety, rock\n",
      "Aspect 12: end, story, like, day, first, week, review, singer\n",
      "Aspect 13: week, day, two, death, said, experience, com, old\n",
      "Aspect 14: album, go, see, question, play, together, hit, way\n"
     ]
    },
    {
     "name": "stderr",
     "output_type": "stream",
     "text": [
      "TRAIN EPOCH: 36 | LR: 0.00005 | MEAN-TRAIN-LOSS: 61.45150: 100%|██████████| 100/100 [00:00<00:00, 106.64it/s]\n",
      "VAL BATCH: 100 | MEAN-VAL-LOSS: 65.59541: 100%|██████████| 100/100 [00:00<00:00, 144.19it/s]\n",
      "TRAIN EPOCH: 37 | LR: 0.00010 | MEAN-TRAIN-LOSS: 61.35223:   0%|          | 0/100 [00:00<?, ?it/s]"
     ]
    },
    {
     "name": "stdout",
     "output_type": "stream",
     "text": [
      "Aspect  0: also, <unk>, around, star, form, want, country, home\n",
      "Aspect  1: family, set, film, night, great, part, la, come\n",
      "Aspect  2: view, well, band, take, never, much, work, would\n",
      "Aspect  3: view, album, form, since, end, made, third, bit\n",
      "Aspect  4: even, pop, second, many, lyric, leave, le, london\n",
      "Aspect  5: brexit, style, moment, one, return, blue, vocal, man\n",
      "Aspect  6: black, also, old, film, still, however, music, life\n",
      "Aspect  7: family, guitar, indie, feel, star, title, best, always\n",
      "Aspect  8: still, com, work, well, album, time, like, love\n",
      "Aspect  9: john, month, character, new, make, song, letter, hear\n",
      "Aspect 10: early, since, question, soul, long, could, tell, co\n",
      "Aspect 11: even, like, rather, voice, last, working, anxiety, rock\n",
      "Aspect 12: end, story, like, day, first, week, review, singer\n",
      "Aspect 13: week, day, two, death, said, experience, com, old\n",
      "Aspect 14: album, go, see, question, play, together, hit, way\n"
     ]
    },
    {
     "name": "stderr",
     "output_type": "stream",
     "text": [
      "TRAIN EPOCH: 37 | LR: 0.00004 | MEAN-TRAIN-LOSS: 56.27931: 100%|██████████| 100/100 [00:00<00:00, 105.43it/s]\n",
      "VAL BATCH: 100 | MEAN-VAL-LOSS: 65.17564: 100%|██████████| 100/100 [00:00<00:00, 140.40it/s]\n",
      "TRAIN EPOCH: 38 | LR: 0.00010 | MEAN-TRAIN-LOSS: 62.83326:   0%|          | 0/100 [00:00<?, ?it/s]"
     ]
    },
    {
     "name": "stdout",
     "output_type": "stream",
     "text": [
      "Aspect  0: also, <unk>, around, star, form, want, country, home\n",
      "Aspect  1: family, film, set, night, great, part, la, come\n",
      "Aspect  2: view, well, band, take, never, much, work, would\n",
      "Aspect  3: view, album, form, since, end, made, third, bit\n",
      "Aspect  4: even, pop, second, many, lyric, leave, le, london\n",
      "Aspect  5: brexit, style, moment, one, return, blue, vocal, man\n",
      "Aspect  6: black, also, old, film, still, however, music, life\n",
      "Aspect  7: family, guitar, indie, feel, star, title, best, always\n",
      "Aspect  8: still, com, work, well, album, time, like, love\n",
      "Aspect  9: john, month, character, new, make, song, letter, hear\n",
      "Aspect 10: early, since, question, soul, long, could, tell, co\n",
      "Aspect 11: even, like, rather, voice, last, working, anxiety, rock\n",
      "Aspect 12: end, story, like, day, first, week, review, singer\n",
      "Aspect 13: week, day, two, death, said, experience, com, old\n",
      "Aspect 14: album, go, see, question, play, together, hit, way\n"
     ]
    },
    {
     "name": "stderr",
     "output_type": "stream",
     "text": [
      "TRAIN EPOCH: 38 | LR: 0.00004 | MEAN-TRAIN-LOSS: 66.36140: 100%|██████████| 100/100 [00:00<00:00, 105.35it/s]\n",
      "VAL BATCH: 100 | MEAN-VAL-LOSS: 65.63254: 100%|██████████| 100/100 [00:00<00:00, 137.23it/s]\n",
      "TRAIN EPOCH: 39 | LR: 0.00010 | MEAN-TRAIN-LOSS: 59.57902:   0%|          | 0/100 [00:00<?, ?it/s]"
     ]
    },
    {
     "name": "stdout",
     "output_type": "stream",
     "text": [
      "Aspect  0: also, <unk>, around, star, form, want, country, home\n",
      "Aspect  1: family, set, film, night, great, part, la, come\n",
      "Aspect  2: view, well, band, take, never, much, work, would\n",
      "Aspect  3: view, album, form, since, end, made, third, bit\n",
      "Aspect  4: even, pop, second, many, lyric, leave, le, london\n",
      "Aspect  5: brexit, style, moment, one, return, blue, vocal, man\n",
      "Aspect  6: black, also, old, film, still, however, music, life\n",
      "Aspect  7: family, guitar, indie, feel, star, title, best, always\n",
      "Aspect  8: still, com, work, well, album, time, like, love\n",
      "Aspect  9: john, month, character, new, make, song, letter, hear\n",
      "Aspect 10: time, since, question, soul, long, could, tell, co\n",
      "Aspect 11: even, like, rather, voice, last, working, anxiety, rock\n",
      "Aspect 12: end, story, like, day, first, week, review, singer\n",
      "Aspect 13: week, day, two, death, said, experience, com, old\n",
      "Aspect 14: album, go, see, question, play, together, hit, way\n"
     ]
    },
    {
     "name": "stderr",
     "output_type": "stream",
     "text": [
      "TRAIN EPOCH: 39 | LR: 0.00004 | MEAN-TRAIN-LOSS: 63.27432: 100%|██████████| 100/100 [00:00<00:00, 105.94it/s]\n",
      "VAL BATCH: 100 | MEAN-VAL-LOSS: 65.23524: 100%|██████████| 100/100 [00:00<00:00, 138.84it/s]\n",
      "TRAIN EPOCH: 40 | LR: 0.00010 | MEAN-TRAIN-LOSS: 60.05119:   0%|          | 0/100 [00:00<?, ?it/s]"
     ]
    },
    {
     "name": "stdout",
     "output_type": "stream",
     "text": [
      "Aspect  0: also, <unk>, around, star, form, want, country, home\n",
      "Aspect  1: family, film, set, night, great, part, la, come\n",
      "Aspect  2: view, well, band, take, never, much, work, would\n",
      "Aspect  3: view, album, form, since, end, made, third, bit\n",
      "Aspect  4: even, pop, second, many, lyric, leave, le, london\n",
      "Aspect  5: brexit, style, moment, one, return, blue, vocal, man\n",
      "Aspect  6: black, also, old, film, still, however, music, life\n",
      "Aspect  7: family, guitar, indie, feel, star, title, best, always\n",
      "Aspect  8: still, com, work, well, album, time, like, love\n",
      "Aspect  9: john, month, character, new, make, song, letter, hear\n",
      "Aspect 10: time, since, question, soul, long, could, tell, co\n",
      "Aspect 11: even, like, rather, voice, last, working, anxiety, rock\n",
      "Aspect 12: end, story, like, day, first, week, review, singer\n",
      "Aspect 13: week, day, two, death, said, experience, com, old\n",
      "Aspect 14: album, go, see, question, play, together, hit, way\n"
     ]
    },
    {
     "name": "stderr",
     "output_type": "stream",
     "text": [
      "TRAIN EPOCH: 40 | LR: 0.00004 | MEAN-TRAIN-LOSS: 57.90060: 100%|██████████| 100/100 [00:00<00:00, 106.68it/s]\n",
      "VAL BATCH: 100 | MEAN-VAL-LOSS: 65.54837: 100%|██████████| 100/100 [00:00<00:00, 137.83it/s]\n",
      "TRAIN EPOCH: 41 | LR: 0.00010 | MEAN-TRAIN-LOSS: 55.11075:   0%|          | 0/100 [00:00<?, ?it/s]"
     ]
    },
    {
     "name": "stdout",
     "output_type": "stream",
     "text": [
      "Aspect  0: also, <unk>, around, star, form, want, country, home\n",
      "Aspect  1: family, set, film, night, great, part, la, come\n",
      "Aspect  2: view, well, band, take, never, much, work, would\n",
      "Aspect  3: view, album, form, since, end, made, third, bit\n",
      "Aspect  4: even, pop, second, many, lyric, leave, le, london\n",
      "Aspect  5: brexit, style, moment, one, return, blue, vocal, man\n",
      "Aspect  6: black, also, old, film, still, however, music, life\n",
      "Aspect  7: family, guitar, indie, feel, star, title, best, always\n",
      "Aspect  8: still, com, work, well, album, time, like, love\n",
      "Aspect  9: john, month, character, new, make, song, letter, hear\n",
      "Aspect 10: time, since, question, soul, long, could, tell, co\n",
      "Aspect 11: even, like, rather, voice, last, working, anxiety, rock\n",
      "Aspect 12: end, story, like, day, first, week, review, singer\n",
      "Aspect 13: week, day, two, death, said, experience, com, old\n",
      "Aspect 14: album, go, see, question, play, together, hit, way\n"
     ]
    },
    {
     "name": "stderr",
     "output_type": "stream",
     "text": [
      "TRAIN EPOCH: 41 | LR: 0.00004 | MEAN-TRAIN-LOSS: 59.22171: 100%|██████████| 100/100 [00:00<00:00, 108.97it/s]\n",
      "VAL BATCH: 100 | MEAN-VAL-LOSS: 65.36976: 100%|██████████| 100/100 [00:00<00:00, 135.47it/s]\n",
      "TRAIN EPOCH: 42 | LR: 0.00010 | MEAN-TRAIN-LOSS: 61.43429:   0%|          | 0/100 [00:00<?, ?it/s]"
     ]
    },
    {
     "name": "stdout",
     "output_type": "stream",
     "text": [
      "Aspect  0: also, <unk>, around, star, form, want, country, home\n",
      "Aspect  1: family, set, film, night, great, part, la, come\n",
      "Aspect  2: view, well, band, take, never, much, work, would\n",
      "Aspect  3: view, album, form, since, made, end, third, bit\n",
      "Aspect  4: even, pop, second, many, lyric, leave, le, london\n",
      "Aspect  5: brexit, style, moment, one, return, blue, vocal, man\n",
      "Aspect  6: black, also, old, film, still, however, music, life\n",
      "Aspect  7: family, guitar, indie, feel, star, title, best, always\n",
      "Aspect  8: still, com, work, well, album, time, like, love\n",
      "Aspect  9: john, month, character, new, make, song, letter, hear\n",
      "Aspect 10: time, since, question, soul, long, could, tell, co\n",
      "Aspect 11: even, like, rather, voice, last, working, anxiety, rock\n",
      "Aspect 12: end, story, like, day, first, week, review, singer\n",
      "Aspect 13: week, day, two, death, said, experience, com, old\n",
      "Aspect 14: album, go, see, question, play, together, hit, way\n"
     ]
    },
    {
     "name": "stderr",
     "output_type": "stream",
     "text": [
      "TRAIN EPOCH: 42 | LR: 0.00004 | MEAN-TRAIN-LOSS: 64.67028: 100%|██████████| 100/100 [00:00<00:00, 105.69it/s]\n",
      "VAL BATCH: 100 | MEAN-VAL-LOSS: 65.46182: 100%|██████████| 100/100 [00:00<00:00, 139.49it/s]\n",
      "TRAIN EPOCH: 43 | LR: 0.00010 | MEAN-TRAIN-LOSS: 65.29203:   0%|          | 0/100 [00:00<?, ?it/s]"
     ]
    },
    {
     "name": "stdout",
     "output_type": "stream",
     "text": [
      "Aspect  0: also, <unk>, around, star, form, want, country, home\n",
      "Aspect  1: family, set, film, night, great, part, la, come\n",
      "Aspect  2: view, well, band, take, never, much, work, would\n",
      "Aspect  3: view, album, form, since, made, end, third, bit\n",
      "Aspect  4: even, pop, second, many, lyric, leave, le, london\n",
      "Aspect  5: brexit, style, moment, one, return, blue, vocal, man\n",
      "Aspect  6: black, also, old, film, still, however, music, life\n",
      "Aspect  7: family, guitar, indie, feel, star, title, best, always\n",
      "Aspect  8: still, com, work, well, album, time, like, love\n",
      "Aspect  9: john, month, character, new, make, song, letter, hear\n",
      "Aspect 10: time, since, question, soul, long, could, tell, co\n",
      "Aspect 11: even, like, rather, voice, last, working, anxiety, rock\n",
      "Aspect 12: end, story, like, day, first, week, review, singer\n",
      "Aspect 13: week, day, two, death, said, experience, com, old\n",
      "Aspect 14: album, go, see, question, play, together, hit, way\n"
     ]
    },
    {
     "name": "stderr",
     "output_type": "stream",
     "text": [
      "TRAIN EPOCH: 43 | LR: 0.00003 | MEAN-TRAIN-LOSS: 59.49527: 100%|██████████| 100/100 [00:00<00:00, 106.55it/s]\n",
      "VAL BATCH: 100 | MEAN-VAL-LOSS: 65.34091: 100%|██████████| 100/100 [00:00<00:00, 134.36it/s]\n",
      "TRAIN EPOCH: 44 | LR: 0.00010 | MEAN-TRAIN-LOSS: 56.46499:   0%|          | 0/100 [00:00<?, ?it/s]"
     ]
    },
    {
     "name": "stdout",
     "output_type": "stream",
     "text": [
      "Aspect  0: also, <unk>, around, star, form, want, country, home\n",
      "Aspect  1: family, set, film, night, great, part, la, come\n",
      "Aspect  2: view, well, band, take, never, much, work, would\n",
      "Aspect  3: album, view, form, since, made, end, third, bit\n",
      "Aspect  4: even, pop, second, many, lyric, leave, le, london\n",
      "Aspect  5: brexit, style, moment, one, return, blue, vocal, man\n",
      "Aspect  6: black, also, old, film, still, however, music, life\n",
      "Aspect  7: family, guitar, indie, feel, star, title, best, always\n",
      "Aspect  8: still, com, work, well, album, time, like, love\n",
      "Aspect  9: john, month, character, new, make, song, letter, hear\n",
      "Aspect 10: time, since, question, soul, long, could, tell, co\n",
      "Aspect 11: even, like, rather, voice, last, working, anxiety, rock\n",
      "Aspect 12: end, story, like, day, first, week, review, singer\n",
      "Aspect 13: week, day, two, death, said, experience, com, old\n",
      "Aspect 14: album, go, see, question, play, together, hit, way\n"
     ]
    },
    {
     "name": "stderr",
     "output_type": "stream",
     "text": [
      "TRAIN EPOCH: 44 | LR: 0.00003 | MEAN-TRAIN-LOSS: 63.60039: 100%|██████████| 100/100 [00:01<00:00, 92.26it/s]\n",
      "VAL BATCH: 100 | MEAN-VAL-LOSS: 65.49102: 100%|██████████| 100/100 [00:00<00:00, 131.51it/s]\n",
      "TRAIN EPOCH: 45 | LR: 0.00010 | MEAN-TRAIN-LOSS: 63.44995:   0%|          | 0/100 [00:00<?, ?it/s]"
     ]
    },
    {
     "name": "stdout",
     "output_type": "stream",
     "text": [
      "Aspect  0: <unk>, also, around, star, form, want, country, home\n",
      "Aspect  1: family, set, film, night, great, part, la, come\n",
      "Aspect  2: view, well, band, take, never, much, work, would\n",
      "Aspect  3: album, view, form, since, made, end, third, bit\n",
      "Aspect  4: even, pop, second, many, lyric, leave, le, london\n",
      "Aspect  5: brexit, style, moment, one, return, blue, vocal, man\n",
      "Aspect  6: black, also, old, film, still, however, music, life\n",
      "Aspect  7: family, guitar, indie, feel, star, title, best, always\n",
      "Aspect  8: still, com, work, well, album, time, like, love\n",
      "Aspect  9: john, month, character, new, make, song, letter, hear\n",
      "Aspect 10: time, since, question, soul, long, could, tell, co\n",
      "Aspect 11: even, like, rather, voice, last, working, anxiety, rock\n",
      "Aspect 12: end, story, like, day, first, week, review, singer\n",
      "Aspect 13: week, day, two, death, said, experience, com, old\n",
      "Aspect 14: album, go, see, question, play, together, hit, way\n"
     ]
    },
    {
     "name": "stderr",
     "output_type": "stream",
     "text": [
      "TRAIN EPOCH: 45 | LR: 0.00003 | MEAN-TRAIN-LOSS: 64.84988: 100%|██████████| 100/100 [00:00<00:00, 100.97it/s]\n",
      "VAL BATCH: 100 | MEAN-VAL-LOSS: 65.16329: 100%|██████████| 100/100 [00:00<00:00, 128.86it/s]\n",
      "TRAIN EPOCH: 46 | LR: 0.00010 | MEAN-TRAIN-LOSS: 65.07287:   0%|          | 0/100 [00:00<?, ?it/s]"
     ]
    },
    {
     "name": "stdout",
     "output_type": "stream",
     "text": [
      "Aspect  0: <unk>, also, around, star, form, want, country, home\n",
      "Aspect  1: family, set, film, night, great, part, la, come\n",
      "Aspect  2: view, well, band, take, never, much, work, would\n",
      "Aspect  3: album, view, form, since, made, end, third, bit\n",
      "Aspect  4: even, pop, second, many, lyric, leave, le, london\n",
      "Aspect  5: brexit, style, moment, one, return, blue, vocal, man\n",
      "Aspect  6: black, also, old, film, still, however, music, life\n",
      "Aspect  7: family, guitar, indie, feel, star, title, best, always\n",
      "Aspect  8: still, com, work, well, album, time, like, love\n",
      "Aspect  9: john, month, character, new, make, song, letter, hear\n",
      "Aspect 10: time, since, question, soul, long, could, tell, co\n",
      "Aspect 11: even, like, rather, voice, last, working, anxiety, rock\n",
      "Aspect 12: end, story, like, day, first, week, review, singer\n",
      "Aspect 13: week, day, two, death, said, experience, com, old\n",
      "Aspect 14: album, go, see, question, play, together, hit, way\n"
     ]
    },
    {
     "name": "stderr",
     "output_type": "stream",
     "text": [
      "TRAIN EPOCH: 46 | LR: 0.00003 | MEAN-TRAIN-LOSS: 66.36927: 100%|██████████| 100/100 [00:01<00:00, 95.86it/s]\n",
      "VAL BATCH: 100 | MEAN-VAL-LOSS: 65.18653: 100%|██████████| 100/100 [00:00<00:00, 114.26it/s]\n",
      "TRAIN EPOCH: 47 | LR: 0.00010 | MEAN-TRAIN-LOSS: 61.52020:   0%|          | 0/100 [00:00<?, ?it/s]"
     ]
    },
    {
     "name": "stdout",
     "output_type": "stream",
     "text": [
      "Aspect  0: <unk>, also, around, star, form, want, country, home\n",
      "Aspect  1: family, set, film, night, great, part, la, come\n",
      "Aspect  2: view, well, band, take, never, much, work, would\n",
      "Aspect  3: album, view, form, since, made, end, third, bit\n",
      "Aspect  4: even, pop, second, many, lyric, leave, le, london\n",
      "Aspect  5: brexit, style, moment, one, return, blue, vocal, man\n",
      "Aspect  6: black, also, old, film, still, however, music, life\n",
      "Aspect  7: family, guitar, indie, feel, star, title, best, always\n",
      "Aspect  8: still, com, work, well, album, time, love, like\n",
      "Aspect  9: john, month, character, new, make, song, letter, hear\n",
      "Aspect 10: time, since, question, soul, long, could, tell, co\n",
      "Aspect 11: even, like, rather, voice, last, working, anxiety, rock\n",
      "Aspect 12: end, story, like, day, first, week, review, singer\n",
      "Aspect 13: week, day, two, death, said, experience, com, old\n",
      "Aspect 14: album, go, see, question, play, together, hit, way\n"
     ]
    },
    {
     "name": "stderr",
     "output_type": "stream",
     "text": [
      "TRAIN EPOCH: 47 | LR: 0.00003 | MEAN-TRAIN-LOSS: 63.32429: 100%|██████████| 100/100 [00:01<00:00, 96.64it/s]\n",
      "VAL BATCH: 100 | MEAN-VAL-LOSS: 64.99814: 100%|██████████| 100/100 [00:00<00:00, 133.18it/s]\n",
      "TRAIN EPOCH: 48 | LR: 0.00010 | MEAN-TRAIN-LOSS: 58.27999:   0%|          | 0/100 [00:00<?, ?it/s]"
     ]
    },
    {
     "name": "stdout",
     "output_type": "stream",
     "text": [
      "Aspect  0: <unk>, also, around, star, form, want, country, home\n",
      "Aspect  1: family, set, film, night, great, part, la, come\n",
      "Aspect  2: view, well, band, take, never, much, work, would\n",
      "Aspect  3: album, view, form, since, made, end, third, bit\n",
      "Aspect  4: even, pop, second, many, lyric, leave, le, london\n",
      "Aspect  5: brexit, style, moment, one, return, blue, vocal, man\n",
      "Aspect  6: black, also, old, film, still, however, music, life\n",
      "Aspect  7: family, guitar, indie, feel, star, title, best, always\n",
      "Aspect  8: still, com, work, well, album, time, like, love\n",
      "Aspect  9: john, month, character, new, make, song, letter, hear\n",
      "Aspect 10: time, since, question, soul, long, could, tell, co\n",
      "Aspect 11: even, like, rather, voice, last, working, anxiety, rock\n",
      "Aspect 12: end, story, like, day, first, week, review, singer\n",
      "Aspect 13: week, day, two, death, said, experience, com, old\n",
      "Aspect 14: album, go, see, question, play, together, hit, way\n"
     ]
    },
    {
     "name": "stderr",
     "output_type": "stream",
     "text": [
      "TRAIN EPOCH: 48 | LR: 0.00003 | MEAN-TRAIN-LOSS: 60.09603: 100%|██████████| 100/100 [00:01<00:00, 98.04it/s]\n",
      "VAL BATCH: 100 | MEAN-VAL-LOSS: 65.18510: 100%|██████████| 100/100 [00:00<00:00, 126.53it/s]\n",
      "TRAIN EPOCH: 49 | LR: 0.00010 | MEAN-TRAIN-LOSS: 65.29725:   0%|          | 0/100 [00:00<?, ?it/s]"
     ]
    },
    {
     "name": "stdout",
     "output_type": "stream",
     "text": [
      "Aspect  0: <unk>, also, around, star, form, want, country, home\n",
      "Aspect  1: family, set, film, night, great, part, la, come\n",
      "Aspect  2: view, well, band, take, never, much, work, would\n",
      "Aspect  3: album, view, form, since, made, end, third, bit\n",
      "Aspect  4: even, pop, second, many, lyric, leave, le, london\n",
      "Aspect  5: brexit, style, moment, one, return, blue, vocal, man\n",
      "Aspect  6: black, also, old, film, still, however, music, life\n",
      "Aspect  7: family, guitar, indie, feel, star, title, best, always\n",
      "Aspect  8: still, com, work, well, album, time, love, like\n",
      "Aspect  9: john, month, character, new, make, song, letter, hear\n",
      "Aspect 10: time, since, question, soul, long, could, tell, co\n",
      "Aspect 11: even, like, rather, voice, last, working, anxiety, rock\n",
      "Aspect 12: end, story, like, day, first, week, review, singer\n",
      "Aspect 13: week, day, two, death, said, experience, com, old\n",
      "Aspect 14: album, go, see, question, play, together, hit, way\n"
     ]
    },
    {
     "name": "stderr",
     "output_type": "stream",
     "text": [
      "TRAIN EPOCH: 49 | LR: 0.00003 | MEAN-TRAIN-LOSS: 67.06651: 100%|██████████| 100/100 [00:01<00:00, 92.61it/s]\n",
      "VAL BATCH: 100 | MEAN-VAL-LOSS: 65.10753: 100%|██████████| 100/100 [00:00<00:00, 116.21it/s]\n",
      "TRAIN EPOCH: 50 | LR: 0.00010 | MEAN-TRAIN-LOSS: 56.78457:   0%|          | 0/100 [00:00<?, ?it/s]"
     ]
    },
    {
     "name": "stdout",
     "output_type": "stream",
     "text": [
      "Aspect  0: <unk>, also, around, star, form, want, country, home\n",
      "Aspect  1: family, set, film, night, great, part, la, come\n",
      "Aspect  2: view, well, band, take, never, much, work, would\n",
      "Aspect  3: album, view, form, since, made, end, third, bit\n",
      "Aspect  4: even, pop, second, many, lyric, leave, le, london\n",
      "Aspect  5: brexit, style, moment, one, return, blue, vocal, man\n",
      "Aspect  6: black, also, old, film, still, however, music, life\n",
      "Aspect  7: family, guitar, indie, feel, star, title, best, always\n",
      "Aspect  8: still, com, work, well, album, time, love, like\n",
      "Aspect  9: john, month, character, new, make, song, letter, hear\n",
      "Aspect 10: time, since, question, soul, long, could, tell, co\n",
      "Aspect 11: even, like, rather, voice, last, working, anxiety, rock\n",
      "Aspect 12: end, story, like, day, first, week, review, singer\n",
      "Aspect 13: week, day, two, death, said, experience, com, old\n",
      "Aspect 14: album, go, see, question, play, together, hit, way\n"
     ]
    },
    {
     "name": "stderr",
     "output_type": "stream",
     "text": [
      "TRAIN EPOCH: 50 | LR: 0.00002 | MEAN-TRAIN-LOSS: 64.34396: 100%|██████████| 100/100 [00:01<00:00, 84.24it/s]\n",
      "VAL BATCH: 100 | MEAN-VAL-LOSS: 65.38410: 100%|██████████| 100/100 [00:00<00:00, 129.70it/s]\n"
     ]
    },
    {
     "name": "stdout",
     "output_type": "stream",
     "text": [
      "Aspect  0: <unk>, also, around, star, form, want, country, home\n",
      "Aspect  1: family, set, film, night, great, part, la, come\n",
      "Aspect  2: view, well, band, take, never, much, work, would\n",
      "Aspect  3: album, view, form, since, made, end, third, bit\n",
      "Aspect  4: even, pop, second, many, lyric, leave, le, london\n",
      "Aspect  5: brexit, style, moment, one, return, blue, vocal, man\n",
      "Aspect  6: black, also, old, film, still, however, music, life\n",
      "Aspect  7: family, guitar, indie, feel, star, title, best, always\n",
      "Aspect  8: still, com, work, well, album, time, love, like\n",
      "Aspect  9: john, month, character, new, make, song, letter, hear\n",
      "Aspect 10: time, since, question, soul, long, could, tell, co\n",
      "Aspect 11: even, like, rather, voice, last, working, anxiety, rock\n",
      "Aspect 12: end, story, like, day, first, week, review, singer\n",
      "Aspect 13: week, day, two, death, said, experience, com, old\n",
      "Aspect 14: album, go, see, question, play, together, hit, way\n",
      "saving abae model: \"./data/data.txt.prep.abae.pt\"\n"
     ]
    },
    {
     "data": {
      "image/png": "[encoded data removed]",
      "text/plain": [
       "<Figure size 576x288 with 1 Axes>"
      ]
     },
     "metadata": {
      "needs_background": "light"
     },
     "output_type": "display_data"
    }
   ],
   "source": [
    "import os\n",
    "import time\n",
    "\n",
    "\n",
    "data = './data/data.txt'\n",
    "prep = data + '.prep'\n",
    "if not os.path.isfile(prep):\n",
    "    preprocess(data, prep)\n",
    "\n",
    "\n",
    "min_count = 10\n",
    "d_embed = 200\n",
    "n_aspects = 15\n",
    "w2v = prep + '.w2v'\n",
    "\n",
    "abae_path = prep + '.abae.pt'\n",
    "device = 'cpu'\n",
    "\n",
    "aspector = aspect_model(prep, w2v, min_count, d_embed, n_aspects, device)\n",
    "if os.path.isfile(abae_path):\n",
    "    aspector.load_abae(abae_path)\n",
    "\n",
    "\n",
    "x = (aspector.w2v.n_vocab, aspector.w2v.d_embed, aspector.w2v.n_aspects)\n",
    "print('n_vocab: %d | d_embed: %d | n_aspects: %d' % x)\n",
    "\n",
    "\n",
    "split = {'train': 0.9, 'val': 0.05, 'test': 0.05}\n",
    "with dataloader(aspector.w2v.w2i, prep, split=split) as dl:\n",
    "\n",
    "    epochs = 50\n",
    "    epochsize = 100\n",
    "    batchsize = 4\n",
    "    negsize = 20\n",
    "    initial_lr = 0.0001\n",
    "\n",
    "    if epochs > 0:\n",
    "        train(aspector.ab, dl, \n",
    "              device=device,\n",
    "              epochs=epochs, \n",
    "              epochsize=epochsize,\n",
    "              batchsize=batchsize,\n",
    "              negsize=negsize,\n",
    "              initial_lr=initial_lr)\n",
    "\n",
    "        aspector.save_abae(abae_path)"
   ]
  },
  {
   "cell_type": "code",
   "execution_count": null,
   "metadata": {},
   "outputs": [],
   "source": []
  },
  {
   "cell_type": "code",
   "execution_count": null,
   "metadata": {},
   "outputs": [],
   "source": []
  },
  {
   "cell_type": "code",
   "execution_count": null,
   "metadata": {},
   "outputs": [],
   "source": []
  },
  {
   "cell_type": "code",
   "execution_count": null,
   "metadata": {},
   "outputs": [],
   "source": []
  },
  {
   "cell_type": "code",
   "execution_count": null,
   "metadata": {},
   "outputs": [],
   "source": []
  }
 ],
 "metadata": {
  "kernelspec": {
   "display_name": "Python 3",
   "language": "python",
   "name": "python3"
  },
  "language_info": {
   "codemirror_mode": {
    "name": "ipython",
    "version": 3
   },
   "file_extension": ".py",
   "mimetype": "text/x-python",
   "name": "python",
   "nbconvert_exporter": "python",
   "pygments_lexer": "ipython3",
   "version": "3.8.2"
  }
 },
 "nbformat": 4,
 "nbformat_minor": 4
}
