{
 "cells": [
  {
   "cell_type": "markdown",
   "metadata": {},
   "source": [
    "11 topics"
   ]
  },
  {
   "cell_type": "code",
   "execution_count": 380,
   "metadata": {},
   "outputs": [],
   "source": [
    "import numpy as np\n",
    "import pandas as pd\n",
    "import matplotlib.pyplot as plt\n",
    "from sklearn.decomposition import TruncatedSVD\n",
    "from sklearn.externals import joblib\n",
    "from sklearn import metrics\n",
    "from tqdm import tqdm\n",
    "\n",
    "%matplotlib inline\n",
    "plt.rcParams['figure.figsize'] = (10.0, 8.0) # set default size of plots\n",
    "plt.rcParams['image.interpolation'] = 'nearest'\n",
    "plt.rcParams['image.cmap'] = 'gray'"
   ]
  },
  {
   "cell_type": "code",
   "execution_count": 381,
   "metadata": {},
   "outputs": [
    {
     "name": "stdout",
     "output_type": "stream",
     "text": [
      "Read 4551 raw text documents\n"
     ]
    }
   ],
   "source": [
    "raw_documents = []\n",
    "snippets = []\n",
    "with open( \"data/data.txt\", \"r\") as f:\n",
    "    for line in f.readlines():\n",
    "        text = line.strip()\n",
    "        raw_documents.append( text.lower().replace('brexit', 'british exit').replace('lloyds', 'financial').replace('labour', 'work').replace('corbyn', 'opposition').replace('turnbull', 'bull') )\n",
    "        \n",
    "        snippets.append( text[0:min(len(text),100)] )\n",
    "print(\"Read %d raw text documents\" % len(raw_documents))"
   ]
  },
  {
   "cell_type": "code",
   "execution_count": 382,
   "metadata": {},
   "outputs": [
    {
     "name": "stdout",
     "output_type": "stream",
     "text": [
      "Stopword list has 350 entries\n"
     ]
    }
   ],
   "source": [
    "# custom stopwords\n",
    "custom_stop_words = []\n",
    "with open( \"data/stopwords.txt\", \"r\" ) as f:\n",
    "    for line in f.readlines():\n",
    "        custom_stop_words.append( line.strip().lower().replace('brexit', 'british exit').replace('lloyds', 'financial').replace('labour', 'work').replace('corbyn', 'opposition').replace('turnbull', 'bull') )\n",
    "        \n",
    "print(\"Stopword list has %d entries\" % len(custom_stop_words) )"
   ]
  },
  {
   "cell_type": "code",
   "execution_count": 383,
   "metadata": {},
   "outputs": [
    {
     "name": "stdout",
     "output_type": "stream",
     "text": [
      "Created 4551 X 10280 TF-IDF-normalized document-term matrix\n"
     ]
    }
   ],
   "source": [
    "# create BoW + tf-idf model\n",
    "from sklearn.feature_extraction.text import TfidfVectorizer\n",
    "\n",
    "\n",
    "vectorizer = TfidfVectorizer(stop_words=custom_stop_words, min_df = 20)\n",
    "A = vectorizer.fit_transform(raw_documents)\n",
    "print( \"Created %d X %d TF-IDF-normalized document-term matrix\" % (A.shape[0], A.shape[1]) )\n",
    "\n",
    "terms = vectorizer.get_feature_names() "
   ]
  },
  {
   "cell_type": "code",
   "execution_count": 384,
   "metadata": {},
   "outputs": [],
   "source": [
    "# create the model\n",
    "k = 11\n",
    "model = TruncatedSVD(n_components=k ) \n",
    "\n",
    "W = model.fit_transform( A )\n",
    "H = model.components_"
   ]
  },
  {
   "cell_type": "code",
   "execution_count": 385,
   "metadata": {},
   "outputs": [
    {
     "data": {
      "text/plain": [
       "(4551, 11)"
      ]
     },
     "execution_count": 385,
     "metadata": {},
     "output_type": "execute_result"
    }
   ],
   "source": [
    "W.shape"
   ]
  },
  {
   "cell_type": "code",
   "execution_count": 386,
   "metadata": {},
   "outputs": [
    {
     "data": {
      "text/plain": [
       "array([ 0.12, -0.06,  0.02, -0.05,  0.24, -0.1 ,  0.  , -0.04,  0.11,\n",
       "        0.02, -0.08])"
      ]
     },
     "execution_count": 386,
     "metadata": {},
     "output_type": "execute_result"
    }
   ],
   "source": [
    "W[0,:].round(2)"
   ]
  },
  {
   "cell_type": "code",
   "execution_count": 387,
   "metadata": {},
   "outputs": [
    {
     "data": {
      "text/plain": [
       "(11, 10280)"
      ]
     },
     "execution_count": 387,
     "metadata": {},
     "output_type": "execute_result"
    }
   ],
   "source": [
    "H.shape"
   ]
  },
  {
   "cell_type": "code",
   "execution_count": 388,
   "metadata": {},
   "outputs": [
    {
     "data": {
      "text/plain": [
       "array([ 0.1 , -0.12,  0.15,  0.03, -0.01, -0.03, -0.01,  0.04, -0.25,\n",
       "        0.01, -0.02])"
      ]
     },
     "execution_count": 388,
     "metadata": {},
     "output_type": "execute_result"
    }
   ],
   "source": [
    "H[:,terms.index('uk')].round(2)"
   ]
  },
  {
   "cell_type": "code",
   "execution_count": 389,
   "metadata": {},
   "outputs": [
    {
     "name": "stdout",
     "output_type": "stream",
     "text": [
      "Topic 01: trump, eu, people, british, clinton, uk, exit, campaign, work, time\n",
      "Topic 02: trump, clinton, republican, donald, hillary, cruz, president, sanders, presidential, campaign\n",
      "Topic 03: eu, british, exit, uk, britain, vote, referendum, leave, trump, european\n",
      "Topic 04: league, eu, season, leicester, premier, goal, united, liverpool, ball, city\n",
      "Topic 05: bank, banks, financial, banking, customers, rbs, shares, deutsche, barclays, hsbc\n",
      "Topic 06: health, nhs, care, mental, patients, doctors, hospital, people, social, services\n",
      "Topic 07: album, music, band, song, songs, pop, rock, bowie, sound, guitar\n",
      "Topic 08: facebook, internet, online, google, twitter, users, media, amazon, company, technology\n",
      "Topic 09: party, bank, cameron, work, opposition, campaign, voters, johnson, banks, mps\n",
      "Topic 10: women, mental, health, abortion, men, people, woman, children, cancer, bank\n",
      "Topic 11: clinton, sanders, vote, cruz, exit, voters, party, british, rubio, growth\n"
     ]
    }
   ],
   "source": [
    "# show topic descriptors\n",
    "def get_descriptor( terms, H, topic_index, top ):\n",
    "    top_indices = np.argsort( H[topic_index,:] )[::-1]\n",
    "    top_terms = []\n",
    "    for term_index in top_indices[0:top]:\n",
    "        top_terms.append( terms[term_index] )\n",
    "    return top_terms\n",
    "\n",
    "descriptors = []\n",
    "for topic_index in range(k):\n",
    "    descriptors.append( get_descriptor( terms, H, topic_index, 10 ) )\n",
    "    str_descriptor = \", \".join( descriptors[topic_index] )\n",
    "    print(\"Topic %02d: %s\" % ( topic_index+1, str_descriptor ) )"
   ]
  },
  {
   "cell_type": "code",
   "execution_count": 390,
   "metadata": {},
   "outputs": [
    {
     "name": "stdout",
     "output_type": "stream",
     "text": [
      "01. Obama talks trans bathroom access as Trump defends business practices – as it happened Here are the \n",
      "02. Melania Trump defends husband's 'boy talk' in CNN interview – as it happened Speaking to CNN’s Ander\n",
      "03. Hillary Clinton: 'I'm sick of the Sanders campaign's lies' – as it happened One of the most importan\n",
      "04. Donald Trump hits delegate count needed for Republican nomination – as it happened On the one hand, \n",
      "05. Trump campaign reportedly vetting Christie, Gingrich as potential running mates – as it happened Don\n",
      "06. Clinton seizes on Trump tweets for day of campaigning in Florida – as it happened Donald Trump was a\n",
      "07. Trump wins Washington primary as protests erupt by Albuquerque rally – as it happened Donald Trump w\n",
      "08. DNC 2016, day three: emotional Obama passes baton to Clinton – as it happened The sun has set on day\n",
      "09. Donald Trump: money raised by Hillary Clinton is 'blood money' – as it happened Hillary Clinton deli\n",
      "10. Donald Trump: Hillary Clinton has 'no right to be running' – as it happened Deep antipathy to Hillar\n"
     ]
    }
   ],
   "source": [
    "def get_top_snippets( all_snippets, W, topic_index, top ):\n",
    "    top_indices = np.argsort( W[:,topic_index] )[::-1]\n",
    "    top_snippets = []\n",
    "    for doc_index in top_indices[0:top]:\n",
    "        top_snippets.append( all_snippets[doc_index] )\n",
    "    return top_snippets\n",
    "\n",
    "topic_snippets = get_top_snippets( snippets, W, 0, 10 )\n",
    "for i, snippet in enumerate(topic_snippets):\n",
    "    print(\"%02d. %s\" % ( (i+1), snippet ) )"
   ]
  },
  {
   "cell_type": "code",
   "execution_count": 391,
   "metadata": {},
   "outputs": [
    {
     "name": "stderr",
     "output_type": "stream",
     "text": [
      "100%|██████████| 12/12 [00:02<00:00,  4.62it/s]\n"
     ]
    }
   ],
   "source": [
    "kmin, kmax = 4, 15\n",
    "\n",
    "topic_models = []\n",
    "for k in tqdm(range(kmin,kmax+1)):\n",
    "    model = TruncatedSVD(n_components=k ) \n",
    "    W = model.fit_transform( A )\n",
    "    H = model.components_    \n",
    "    topic_models.append( (k,W,H) )"
   ]
  },
  {
   "cell_type": "code",
   "execution_count": 392,
   "metadata": {},
   "outputs": [
    {
     "name": "stdout",
     "output_type": "stream",
     "text": [
      "Requirement already up-to-date: gensim in /Library/Frameworks/Python.framework/Versions/3.8/lib/python3.8/site-packages (3.8.1)\n",
      "Requirement already satisfied, skipping upgrade: numpy>=1.11.3 in /Library/Frameworks/Python.framework/Versions/3.8/lib/python3.8/site-packages (from gensim) (1.18.2)\n",
      "Requirement already satisfied, skipping upgrade: scipy>=0.18.1 in /Library/Frameworks/Python.framework/Versions/3.8/lib/python3.8/site-packages (from gensim) (1.4.1)\n",
      "Requirement already satisfied, skipping upgrade: six>=1.5.0 in /Library/Frameworks/Python.framework/Versions/3.8/lib/python3.8/site-packages (from gensim) (1.14.0)\n",
      "Requirement already satisfied, skipping upgrade: smart_open>=1.8.1 in /Library/Frameworks/Python.framework/Versions/3.8/lib/python3.8/site-packages (from gensim) (1.10.0)\n",
      "Requirement already satisfied, skipping upgrade: requests in /Library/Frameworks/Python.framework/Versions/3.8/lib/python3.8/site-packages (from smart_open>=1.8.1->gensim) (2.23.0)\n",
      "Requirement already satisfied, skipping upgrade: boto3 in /Library/Frameworks/Python.framework/Versions/3.8/lib/python3.8/site-packages (from smart_open>=1.8.1->gensim) (1.12.23)\n",
      "Requirement already satisfied, skipping upgrade: google-cloud-storage in /Library/Frameworks/Python.framework/Versions/3.8/lib/python3.8/site-packages (from smart_open>=1.8.1->gensim) (1.26.0)\n",
      "Requirement already satisfied, skipping upgrade: idna<3,>=2.5 in /Library/Frameworks/Python.framework/Versions/3.8/lib/python3.8/site-packages (from requests->smart_open>=1.8.1->gensim) (2.9)\n",
      "Requirement already satisfied, skipping upgrade: urllib3!=1.25.0,!=1.25.1,<1.26,>=1.21.1 in /Library/Frameworks/Python.framework/Versions/3.8/lib/python3.8/site-packages (from requests->smart_open>=1.8.1->gensim) (1.25.8)\n",
      "Requirement already satisfied, skipping upgrade: chardet<4,>=3.0.2 in /Library/Frameworks/Python.framework/Versions/3.8/lib/python3.8/site-packages (from requests->smart_open>=1.8.1->gensim) (3.0.4)\n",
      "Requirement already satisfied, skipping upgrade: certifi>=2017.4.17 in /Library/Frameworks/Python.framework/Versions/3.8/lib/python3.8/site-packages (from requests->smart_open>=1.8.1->gensim) (2019.11.28)\n",
      "Requirement already satisfied, skipping upgrade: s3transfer<0.4.0,>=0.3.0 in /Library/Frameworks/Python.framework/Versions/3.8/lib/python3.8/site-packages (from boto3->smart_open>=1.8.1->gensim) (0.3.3)\n",
      "Requirement already satisfied, skipping upgrade: botocore<1.16.0,>=1.15.23 in /Library/Frameworks/Python.framework/Versions/3.8/lib/python3.8/site-packages (from boto3->smart_open>=1.8.1->gensim) (1.15.23)\n",
      "Requirement already satisfied, skipping upgrade: jmespath<1.0.0,>=0.7.1 in /Library/Frameworks/Python.framework/Versions/3.8/lib/python3.8/site-packages (from boto3->smart_open>=1.8.1->gensim) (0.9.5)\n",
      "Requirement already satisfied, skipping upgrade: google-auth<2.0dev,>=1.11.0 in /Library/Frameworks/Python.framework/Versions/3.8/lib/python3.8/site-packages (from google-cloud-storage->smart_open>=1.8.1->gensim) (1.11.3)\n",
      "Requirement already satisfied, skipping upgrade: google-cloud-core<2.0dev,>=1.2.0 in /Library/Frameworks/Python.framework/Versions/3.8/lib/python3.8/site-packages (from google-cloud-storage->smart_open>=1.8.1->gensim) (1.3.0)\n",
      "Requirement already satisfied, skipping upgrade: google-resumable-media<0.6dev,>=0.5.0 in /Library/Frameworks/Python.framework/Versions/3.8/lib/python3.8/site-packages (from google-cloud-storage->smart_open>=1.8.1->gensim) (0.5.0)\n",
      "Requirement already satisfied, skipping upgrade: python-dateutil<3.0.0,>=2.1 in /Library/Frameworks/Python.framework/Versions/3.8/lib/python3.8/site-packages (from botocore<1.16.0,>=1.15.23->boto3->smart_open>=1.8.1->gensim) (2.8.1)\n",
      "Requirement already satisfied, skipping upgrade: docutils<0.16,>=0.10 in /Library/Frameworks/Python.framework/Versions/3.8/lib/python3.8/site-packages (from botocore<1.16.0,>=1.15.23->boto3->smart_open>=1.8.1->gensim) (0.15.2)\n",
      "Requirement already satisfied, skipping upgrade: cachetools<5.0,>=2.0.0 in /Library/Frameworks/Python.framework/Versions/3.8/lib/python3.8/site-packages (from google-auth<2.0dev,>=1.11.0->google-cloud-storage->smart_open>=1.8.1->gensim) (4.0.0)\n",
      "Requirement already satisfied, skipping upgrade: rsa<4.1,>=3.1.4 in /Library/Frameworks/Python.framework/Versions/3.8/lib/python3.8/site-packages (from google-auth<2.0dev,>=1.11.0->google-cloud-storage->smart_open>=1.8.1->gensim) (4.0)\n",
      "Requirement already satisfied, skipping upgrade: pyasn1-modules>=0.2.1 in /Library/Frameworks/Python.framework/Versions/3.8/lib/python3.8/site-packages (from google-auth<2.0dev,>=1.11.0->google-cloud-storage->smart_open>=1.8.1->gensim) (0.2.8)\n",
      "Requirement already satisfied, skipping upgrade: setuptools>=40.3.0 in /Library/Frameworks/Python.framework/Versions/3.8/lib/python3.8/site-packages (from google-auth<2.0dev,>=1.11.0->google-cloud-storage->smart_open>=1.8.1->gensim) (41.2.0)\n",
      "Requirement already satisfied, skipping upgrade: google-api-core<2.0.0dev,>=1.16.0 in /Library/Frameworks/Python.framework/Versions/3.8/lib/python3.8/site-packages (from google-cloud-core<2.0dev,>=1.2.0->google-cloud-storage->smart_open>=1.8.1->gensim) (1.16.0)\n",
      "Requirement already satisfied, skipping upgrade: pyasn1>=0.1.3 in /Library/Frameworks/Python.framework/Versions/3.8/lib/python3.8/site-packages (from rsa<4.1,>=3.1.4->google-auth<2.0dev,>=1.11.0->google-cloud-storage->smart_open>=1.8.1->gensim) (0.4.8)\n",
      "Requirement already satisfied, skipping upgrade: protobuf>=3.4.0 in /Library/Frameworks/Python.framework/Versions/3.8/lib/python3.8/site-packages (from google-api-core<2.0.0dev,>=1.16.0->google-cloud-core<2.0dev,>=1.2.0->google-cloud-storage->smart_open>=1.8.1->gensim) (3.11.3)\n",
      "Requirement already satisfied, skipping upgrade: pytz in /Library/Frameworks/Python.framework/Versions/3.8/lib/python3.8/site-packages (from google-api-core<2.0.0dev,>=1.16.0->google-cloud-core<2.0dev,>=1.2.0->google-cloud-storage->smart_open>=1.8.1->gensim) (2019.3)\n",
      "Requirement already satisfied, skipping upgrade: googleapis-common-protos<2.0dev,>=1.6.0 in /Library/Frameworks/Python.framework/Versions/3.8/lib/python3.8/site-packages (from google-api-core<2.0.0dev,>=1.16.0->google-cloud-core<2.0dev,>=1.2.0->google-cloud-storage->smart_open>=1.8.1->gensim) (1.51.0)\n"
     ]
    }
   ],
   "source": [
    "!pip3 install --upgrade gensim"
   ]
  },
  {
   "cell_type": "code",
   "execution_count": null,
   "metadata": {},
   "outputs": [],
   "source": [
    "import gensim\n",
    "import gensim.models.keyedvectors as word2vec\n",
    "\n",
    "w2v_model = word2vec.KeyedVectors.load_word2vec_format('GoogleNews-vectors-negative300.bin', binary=True)\n",
    "print( \"Model has %d terms\" % len(w2v_model.wv.vocab) )"
   ]
  },
  {
   "cell_type": "code",
   "execution_count": null,
   "metadata": {},
   "outputs": [],
   "source": [
    "from itertools import combinations\n",
    "\n",
    "\n",
    "def calculate_coherence( w2v_model, term_rankings ):\n",
    "    overall_coherence = 0.0\n",
    "    for topic_index in range(len(term_rankings)):\n",
    "        # check each pair of terms\n",
    "        pair_scores = []\n",
    "        for pair in combinations( term_rankings[topic_index], 2 ):\n",
    "            pair_scores.append( w2v_model.similarity(pair[0], pair[1]) )\n",
    "        # get the mean for all pairs in this topic\n",
    "        topic_score = sum(pair_scores) / len(pair_scores)\n",
    "        overall_coherence += topic_score\n",
    "    # get the mean score across all topics\n",
    "    return overall_coherence / len(term_rankings)\n",
    "\n",
    "k_values = []\n",
    "coherences = []\n",
    "for (k,W,H) in topic_models:\n",
    "    # Get all of the topic descriptors - the term_rankings, based on top 10 terms\n",
    "    term_rankings = []\n",
    "    for topic_index in range(k):\n",
    "        term_rankings.append( get_descriptor( terms, H, topic_index, 10 ) )\n",
    "    # Now calculate the coherence based on our Word2vec model\n",
    "    k_values.append( k )\n",
    "    coherences.append( calculate_coherence( w2v_model, term_rankings ) )\n",
    "    print(\"K=%02d: Coherence=%.4f\" % ( k, coherences[-1] ) )"
   ]
  },
  {
   "cell_type": "code",
   "execution_count": null,
   "metadata": {},
   "outputs": [],
   "source": [
    "fig = plt.figure(figsize=(13,7))\n",
    "# create the line plot\n",
    "ax = plt.plot( k_values, coherences )\n",
    "plt.xticks(k_values)\n",
    "plt.xlabel(\"Number of Topics\")\n",
    "plt.ylabel(\"Mean Coherence\")\n",
    "# add the points\n",
    "plt.scatter( k_values, coherences, s=120)\n",
    "# find and annotate the maximum point on the plot\n",
    "ymax = max(coherences)\n",
    "xpos = coherences.index(ymax)\n",
    "best_k = k_values[xpos]\n",
    "plt.annotate( \"k=%d\" % best_k, xy=(best_k, ymax), xytext=(best_k, ymax), textcoords=\"offset points\", fontsize=16)\n",
    "# show the plot\n",
    "plt.show()"
   ]
  },
  {
   "cell_type": "code",
   "execution_count": null,
   "metadata": {},
   "outputs": [],
   "source": [
    "k = best_k\n",
    "# get the model that we generated earlier.\n",
    "W = topic_models[k-kmin][1]\n",
    "H = topic_models[k-kmin][2]\n",
    "\n",
    "for topic_index in range(k):\n",
    "    descriptor = get_descriptor( terms, H, topic_index, 10 )\n",
    "    str_descriptor = \", \".join( descriptor )\n",
    "    print(\"Topic %02d: %s\" % ( topic_index+1, str_descriptor ) )"
   ]
  },
  {
   "cell_type": "markdown",
   "metadata": {},
   "source": [
    "7 topics"
   ]
  },
  {
   "cell_type": "code",
   "execution_count": null,
   "metadata": {},
   "outputs": [],
   "source": [
    "import numpy as np\n",
    "import pandas as pd\n",
    "import matplotlib.pyplot as plt\n",
    "from sklearn.decomposition import TruncatedSVD\n",
    "from sklearn.externals import joblib\n",
    "from sklearn import metrics\n",
    "from tqdm import tqdm\n",
    "\n",
    "%matplotlib inline\n",
    "plt.rcParams['figure.figsize'] = (10.0, 8.0) # set default size of plots\n",
    "plt.rcParams['image.interpolation'] = 'nearest'\n",
    "plt.rcParams['image.cmap'] = 'gray'"
   ]
  },
  {
   "cell_type": "code",
   "execution_count": null,
   "metadata": {},
   "outputs": [],
   "source": [
    "raw_documents = []\n",
    "snippets = []\n",
    "with open( \"data/data.txt\", \"r\") as f:\n",
    "    for line in f.readlines():\n",
    "        text = line.strip()\n",
    "        raw_documents.append( text.lower().replace('brexit', 'british exit').replace('lloyds', 'financial').replace('labour', 'work').replace('corbyn', 'opposition').replace('turnbull', 'bull') )\n",
    "        \n",
    "        snippets.append( text[0:min(len(text),100)] )\n",
    "print(\"Read %d raw text documents\" % len(raw_documents))"
   ]
  },
  {
   "cell_type": "code",
   "execution_count": null,
   "metadata": {},
   "outputs": [],
   "source": [
    "# custom stopwords\n",
    "custom_stop_words = []\n",
    "with open( \"data/stopwords.txt\", \"r\" ) as f:\n",
    "    for line in f.readlines():\n",
    "        custom_stop_words.append( line.strip().lower().replace('brexit', 'british exit').replace('lloyds', 'financial').replace('labour', 'work').replace('corbyn', 'opposition').replace('turnbull', 'bull') )\n",
    "        \n",
    "print(\"Stopword list has %d entries\" % len(custom_stop_words) )"
   ]
  },
  {
   "cell_type": "code",
   "execution_count": null,
   "metadata": {},
   "outputs": [],
   "source": [
    "# create BoW + tf-idf model\n",
    "from sklearn.feature_extraction.text import TfidfVectorizer\n",
    "\n",
    "\n",
    "vectorizer = TfidfVectorizer(stop_words=custom_stop_words, min_df = 20)\n",
    "A = vectorizer.fit_transform(raw_documents)\n",
    "print( \"Created %d X %d TF-IDF-normalized document-term matrix\" % (A.shape[0], A.shape[1]) )\n",
    "\n",
    "terms = vectorizer.get_feature_names() "
   ]
  },
  {
   "cell_type": "code",
   "execution_count": null,
   "metadata": {},
   "outputs": [],
   "source": [
    "# create the model\n",
    "k = 7\n",
    "model = TruncatedSVD(n_components=k ) \n",
    "\n",
    "W = model.fit_transform( A )\n",
    "H = model.components_"
   ]
  },
  {
   "cell_type": "code",
   "execution_count": null,
   "metadata": {},
   "outputs": [],
   "source": [
    "W.shape"
   ]
  },
  {
   "cell_type": "code",
   "execution_count": null,
   "metadata": {},
   "outputs": [],
   "source": [
    "W[0,:].round(2)"
   ]
  },
  {
   "cell_type": "code",
   "execution_count": null,
   "metadata": {},
   "outputs": [],
   "source": [
    "H.shape"
   ]
  },
  {
   "cell_type": "code",
   "execution_count": null,
   "metadata": {},
   "outputs": [],
   "source": [
    "H[:,terms.index('uk')].round(2)"
   ]
  },
  {
   "cell_type": "code",
   "execution_count": null,
   "metadata": {},
   "outputs": [],
   "source": [
    "# show topic descriptors\n",
    "def get_descriptor( terms, H, topic_index, top ):\n",
    "    top_indices = np.argsort( H[topic_index,:] )[::-1]\n",
    "    top_terms = []\n",
    "    for term_index in top_indices[0:top]:\n",
    "        top_terms.append( terms[term_index] )\n",
    "    return top_terms\n",
    "\n",
    "descriptors = []\n",
    "for topic_index in range(k):\n",
    "    descriptors.append( get_descriptor( terms, H, topic_index, 10 ) )\n",
    "    str_descriptor = \", \".join( descriptors[topic_index] )\n",
    "    print(\"Topic %02d: %s\" % ( topic_index+1, str_descriptor ) )"
   ]
  },
  {
   "cell_type": "code",
   "execution_count": null,
   "metadata": {},
   "outputs": [],
   "source": [
    "def get_top_snippets( all_snippets, W, topic_index, top ):\n",
    "    top_indices = np.argsort( W[:,topic_index] )[::-1]\n",
    "    top_snippets = []\n",
    "    for doc_index in top_indices[0:top]:\n",
    "        top_snippets.append( all_snippets[doc_index] )\n",
    "    return top_snippets\n",
    "\n",
    "topic_snippets = get_top_snippets( snippets, W, 0, 10 )\n",
    "for i, snippet in enumerate(topic_snippets):\n",
    "    print(\"%02d. %s\" % ( (i+1), snippet ) )"
   ]
  },
  {
   "cell_type": "code",
   "execution_count": null,
   "metadata": {},
   "outputs": [],
   "source": [
    "kmin, kmax = 4, 15\n",
    "\n",
    "topic_models = []\n",
    "for k in tqdm(range(kmin,kmax+1)):\n",
    "    model = TruncatedSVD(n_components=k ) \n",
    "    W = model.fit_transform( A )\n",
    "    H = model.components_    \n",
    "    topic_models.append( (k,W,H) )"
   ]
  },
  {
   "cell_type": "code",
   "execution_count": null,
   "metadata": {},
   "outputs": [],
   "source": [
    "from itertools import combinations\n",
    "\n",
    "\n",
    "def calculate_coherence( w2v_model, term_rankings ):\n",
    "    overall_coherence = 0.0\n",
    "    for topic_index in range(len(term_rankings)):\n",
    "        # check each pair of terms\n",
    "        pair_scores = []\n",
    "        for pair in combinations( term_rankings[topic_index], 2 ):\n",
    "            pair_scores.append( w2v_model.similarity(pair[0], pair[1]) )\n",
    "        # get the mean for all pairs in this topic\n",
    "        topic_score = sum(pair_scores) / len(pair_scores)\n",
    "        overall_coherence += topic_score\n",
    "    # get the mean score across all topics\n",
    "    return overall_coherence / len(term_rankings)\n",
    "\n",
    "k_values = []\n",
    "coherences = []\n",
    "for (k,W,H) in topic_models:\n",
    "    # Get all of the topic descriptors - the term_rankings, based on top 10 terms\n",
    "    term_rankings = []\n",
    "    for topic_index in range(k):\n",
    "        term_rankings.append( get_descriptor( terms, H, topic_index, 10 ) )\n",
    "    # Now calculate the coherence based on our Word2vec model\n",
    "    k_values.append( k )\n",
    "    coherences.append( calculate_coherence( w2v_model, term_rankings ) )\n",
    "    print(\"K=%02d: Coherence=%.4f\" % ( k, coherences[-1] ) )"
   ]
  },
  {
   "cell_type": "code",
   "execution_count": null,
   "metadata": {},
   "outputs": [],
   "source": [
    "fig = plt.figure(figsize=(13,7))\n",
    "# create the line plot\n",
    "ax = plt.plot( k_values, coherences )\n",
    "plt.xticks(k_values)\n",
    "plt.xlabel(\"Number of Topics\")\n",
    "plt.ylabel(\"Mean Coherence\")\n",
    "# add the points\n",
    "plt.scatter( k_values, coherences, s=120)\n",
    "# find and annotate the maximum point on the plot\n",
    "ymax = max(coherences)\n",
    "xpos = coherences.index(ymax)\n",
    "best_k = k_values[xpos]\n",
    "plt.annotate( \"k=%d\" % best_k, xy=(best_k, ymax), xytext=(best_k, ymax), textcoords=\"offset points\", fontsize=16)\n",
    "# show the plot\n",
    "plt.show()"
   ]
  },
  {
   "cell_type": "code",
   "execution_count": null,
   "metadata": {},
   "outputs": [],
   "source": [
    "k = best_k\n",
    "# get the model that we generated earlier.\n",
    "W = topic_models[k-kmin][1]\n",
    "H = topic_models[k-kmin][2]\n",
    "\n",
    "for topic_index in range(k):\n",
    "    descriptor = get_descriptor( terms, H, topic_index, 7 )\n",
    "    str_descriptor = \", \".join( descriptor )\n",
    "    print(\"Topic %02d: %s\" % ( topic_index+1, str_descriptor ) )"
   ]
  },
  {
   "cell_type": "markdown",
   "metadata": {},
   "source": [
    "5 topics"
   ]
  },
  {
   "cell_type": "code",
   "execution_count": null,
   "metadata": {},
   "outputs": [],
   "source": [
    "import numpy as np\n",
    "import pandas as pd\n",
    "import matplotlib.pyplot as plt\n",
    "from sklearn.decomposition import TruncatedSVD\n",
    "from sklearn.externals import joblib\n",
    "from sklearn import metrics\n",
    "from tqdm import tqdm\n",
    "\n",
    "%matplotlib inline\n",
    "plt.rcParams['figure.figsize'] = (10.0, 8.0) # set default size of plots\n",
    "plt.rcParams['image.interpolation'] = 'nearest'\n",
    "plt.rcParams['image.cmap'] = 'gray'"
   ]
  },
  {
   "cell_type": "code",
   "execution_count": null,
   "metadata": {},
   "outputs": [],
   "source": [
    "raw_documents = []\n",
    "snippets = []\n",
    "with open( \"data/data.txt\", \"r\") as f:\n",
    "    for line in f.readlines():\n",
    "        text = line.strip()\n",
    "        raw_documents.append( text.lower().replace('brexit', 'british exit').replace('lloyds', 'financial').replace('labour', 'work').replace('corbyn', 'opposition').replace('turnbull', 'bull') )\n",
    "        \n",
    "        snippets.append( text[0:min(len(text),100)] )\n",
    "print(\"Read %d raw text documents\" % len(raw_documents))"
   ]
  },
  {
   "cell_type": "code",
   "execution_count": null,
   "metadata": {},
   "outputs": [],
   "source": [
    "# custom stopwords\n",
    "custom_stop_words = []\n",
    "with open( \"data/stopwords.txt\", \"r\" ) as f:\n",
    "    for line in f.readlines():\n",
    "        custom_stop_words.append( line.strip().lower().replace('brexit', 'british exit').replace('lloyds', 'financial').replace('labour', 'work').replace('corbyn', 'opposition').replace('turnbull', 'bull') )\n",
    "        \n",
    "print(\"Stopword list has %d entries\" % len(custom_stop_words) )"
   ]
  },
  {
   "cell_type": "code",
   "execution_count": null,
   "metadata": {},
   "outputs": [],
   "source": [
    "# create BoW + tf-idf model\n",
    "from sklearn.feature_extraction.text import TfidfVectorizer\n",
    "\n",
    "\n",
    "vectorizer = TfidfVectorizer(stop_words=custom_stop_words, min_df = 20)\n",
    "A = vectorizer.fit_transform(raw_documents)\n",
    "print( \"Created %d X %d TF-IDF-normalized document-term matrix\" % (A.shape[0], A.shape[1]) )\n",
    "\n",
    "terms = vectorizer.get_feature_names() "
   ]
  },
  {
   "cell_type": "code",
   "execution_count": null,
   "metadata": {},
   "outputs": [],
   "source": [
    "# create the model\n",
    "k = 11\n",
    "model = TruncatedSVD(n_components=k ) \n",
    "\n",
    "W = model.fit_transform( A )\n",
    "H = model.components_"
   ]
  },
  {
   "cell_type": "code",
   "execution_count": null,
   "metadata": {},
   "outputs": [],
   "source": [
    "W.shape"
   ]
  },
  {
   "cell_type": "code",
   "execution_count": null,
   "metadata": {},
   "outputs": [],
   "source": [
    "W[0,:].round(2)"
   ]
  },
  {
   "cell_type": "code",
   "execution_count": null,
   "metadata": {},
   "outputs": [],
   "source": [
    "H.shape"
   ]
  },
  {
   "cell_type": "code",
   "execution_count": null,
   "metadata": {},
   "outputs": [],
   "source": [
    "H[:,terms.index('uk')].round(2)"
   ]
  },
  {
   "cell_type": "code",
   "execution_count": null,
   "metadata": {},
   "outputs": [],
   "source": [
    "# show topic descriptors\n",
    "def get_descriptor( terms, H, topic_index, top ):\n",
    "    top_indices = np.argsort( H[topic_index,:] )[::-1]\n",
    "    top_terms = []\n",
    "    for term_index in top_indices[0:top]:\n",
    "        top_terms.append( terms[term_index] )\n",
    "    return top_terms\n",
    "\n",
    "descriptors = []\n",
    "for topic_index in range(k):\n",
    "    descriptors.append( get_descriptor( terms, H, topic_index, 10 ) )\n",
    "    str_descriptor = \", \".join( descriptors[topic_index] )\n",
    "    print(\"Topic %02d: %s\" % ( topic_index+1, str_descriptor ) )"
   ]
  },
  {
   "cell_type": "code",
   "execution_count": null,
   "metadata": {},
   "outputs": [],
   "source": [
    "def get_top_snippets( all_snippets, W, topic_index, top ):\n",
    "    top_indices = np.argsort( W[:,topic_index] )[::-1]\n",
    "    top_snippets = []\n",
    "    for doc_index in top_indices[0:top]:\n",
    "        top_snippets.append( all_snippets[doc_index] )\n",
    "    return top_snippets\n",
    "\n",
    "topic_snippets = get_top_snippets( snippets, W, 0, 10 )\n",
    "for i, snippet in enumerate(topic_snippets):\n",
    "    print(\"%02d. %s\" % ( (i+1), snippet ) )"
   ]
  },
  {
   "cell_type": "code",
   "execution_count": null,
   "metadata": {},
   "outputs": [],
   "source": [
    "kmin, kmax = 4, 15\n",
    "\n",
    "topic_models = []\n",
    "for k in tqdm(range(kmin,kmax+1)):\n",
    "    model = TruncatedSVD(n_components=k ) \n",
    "    W = model.fit_transform( A )\n",
    "    H = model.components_    \n",
    "    topic_models.append( (k,W,H) )"
   ]
  },
  {
   "cell_type": "code",
   "execution_count": null,
   "metadata": {},
   "outputs": [],
   "source": [
    "from itertools import combinations\n",
    "\n",
    "\n",
    "def calculate_coherence( w2v_model, term_rankings ):\n",
    "    overall_coherence = 0.0\n",
    "    for topic_index in range(len(term_rankings)):\n",
    "        # check each pair of terms\n",
    "        pair_scores = []\n",
    "        for pair in combinations( term_rankings[topic_index], 2 ):\n",
    "            pair_scores.append( w2v_model.similarity(pair[0], pair[1]) )\n",
    "        # get the mean for all pairs in this topic\n",
    "        topic_score = sum(pair_scores) / len(pair_scores)\n",
    "        overall_coherence += topic_score\n",
    "    # get the mean score across all topics\n",
    "    return overall_coherence / len(term_rankings)\n",
    "\n",
    "k_values = []\n",
    "coherences = []\n",
    "for (k,W,H) in topic_models:\n",
    "    # Get all of the topic descriptors - the term_rankings, based on top 10 terms\n",
    "    term_rankings = []\n",
    "    for topic_index in range(k):\n",
    "        term_rankings.append( get_descriptor( terms, H, topic_index, 10 ) )\n",
    "    # Now calculate the coherence based on our Word2vec model\n",
    "    k_values.append( k )\n",
    "    coherences.append( calculate_coherence( w2v_model, term_rankings ) )\n",
    "    print(\"K=%02d: Coherence=%.4f\" % ( k, coherences[-1] ) )"
   ]
  },
  {
   "cell_type": "code",
   "execution_count": null,
   "metadata": {},
   "outputs": [],
   "source": [
    "fig = plt.figure(figsize=(13,7))\n",
    "# create the line plot\n",
    "ax = plt.plot( k_values, coherences )\n",
    "plt.xticks(k_values)\n",
    "plt.xlabel(\"Number of Topics\")\n",
    "plt.ylabel(\"Mean Coherence\")\n",
    "# add the points\n",
    "plt.scatter( k_values, coherences, s=120)\n",
    "# find and annotate the maximum point on the plot\n",
    "ymax = max(coherences)\n",
    "xpos = coherences.index(ymax)\n",
    "best_k = k_values[xpos]\n",
    "plt.annotate( \"k=%d\" % best_k, xy=(best_k, ymax), xytext=(best_k, ymax), textcoords=\"offset points\", fontsize=16)\n",
    "# show the plot\n",
    "plt.show()"
   ]
  },
  {
   "cell_type": "code",
   "execution_count": null,
   "metadata": {},
   "outputs": [],
   "source": [
    "k = best_k\n",
    "# get the model that we generated earlier.\n",
    "W = topic_models[k-kmin][1]\n",
    "H = topic_models[k-kmin][2]\n",
    "\n",
    "for topic_index in range(k):\n",
    "    descriptor = get_descriptor( terms, H, topic_index, 5 )\n",
    "    str_descriptor = \", \".join( descriptor )\n",
    "    print(\"Topic %02d: %s\" % ( topic_index+1, str_descriptor ) )"
   ]
  },
  {
   "cell_type": "markdown",
   "metadata": {},
   "source": [
    "attention"
   ]
  },
  {
   "cell_type": "code",
   "execution_count": 363,
   "metadata": {},
   "outputs": [],
   "source": [
    "from sklearn.cluster import KMeans\n",
    "import numpy as np\n",
    "import gensim\n",
    "import codecs\n",
    "import tqdm\n",
    "import os\n",
    "\n",
    "\n",
    "class word2vec:\n",
    "\n",
    "    def __init__(self, corpus_path):\n",
    "        self.corpus_path = corpus_path\n",
    "        self.n_vocab = 0\n",
    "\n",
    "    def __iter__(self):\n",
    "        with codecs.open(self.corpus_path, 'r', 'utf-8') as f:\n",
    "            for line in tqdm.tqdm(f, desc='training'):\n",
    "                yield line.split()\n",
    "\n",
    "    def add_word(self, *words):\n",
    "        for word in words:\n",
    "            if not word in self.w2i:\n",
    "                self.w2i[word] = self.n_vocab\n",
    "                self.i2w[self.w2i[word]] = word\n",
    "                self.n_vocab += 1\n",
    "\n",
    "    def embed(self, model_path, d_embed,\n",
    "              max_n_vocab=None, window=5, min_count=10, workers=16):\n",
    "        self.d_embed = d_embed\n",
    "        if os.path.isfile(model_path):\n",
    "            model = gensim.models.Word2Vec.load(model_path)\n",
    "        else:\n",
    "            model = gensim.models.Word2Vec(self,\n",
    "                size=d_embed, max_final_vocab=max_n_vocab,\n",
    "                window=window, min_count=min_count, workers=workers)\n",
    "            model.save(model_path)\n",
    "            model = gensim.models.Word2Vec.load(model_path)\n",
    "        self.i2w, self.w2i = {}, {}\n",
    "        self.E = []\n",
    "        n = len(model.wv.vocab)\n",
    "        for word in sorted(model.wv.vocab):\n",
    "            self.add_word(word)\n",
    "            self.E.append(list(model.wv[word]))\n",
    "        else:\n",
    "            self.add_word('<unk>')\n",
    "            self.E.append([0] * d_embed)\n",
    "        self.E = np.asarray(self.E).astype(np.float32)\n",
    "        return self\n",
    "\n",
    "    def aspect(self, n_aspects):\n",
    "        self.n_aspects = n_aspects\n",
    "        km = KMeans(n_clusters=n_aspects, random_state=0)\n",
    "        km.fit(self.E)\n",
    "        self.T = km.cluster_centers_.astype(np.float32)\n",
    "        self.T /= np.linalg.norm(self.T, axis=-1, keepdims=True)\n",
    "        return self\n"
   ]
  },
  {
   "cell_type": "code",
   "execution_count": 364,
   "metadata": {},
   "outputs": [],
   "source": [
    "def linecount(path, chunk=(8192 * 1024)):\n",
    "    lc = 0\n",
    "    with open(path, 'rb') as f:\n",
    "        buf = f.read(chunk)\n",
    "        while buf:\n",
    "            lc += buf.count(b'\\n')\n",
    "            buf = f.read(chunk)\n",
    "    return lc"
   ]
  },
  {
   "cell_type": "code",
   "execution_count": 365,
   "metadata": {},
   "outputs": [],
   "source": [
    "from torch.nn.functional import normalize\n",
    "import torch.optim as optim\n",
    "import torch\n",
    "\n",
    "import matplotlib.pyplot as plt\n",
    "import matplotlib.cm as cm\n",
    "import collections\n",
    "import numpy as np\n",
    "import tqdm\n",
    "\n",
    "\n",
    "def max_margin_loss(r_s, z_s, z_n):\n",
    "    device = r_s.device\n",
    "    pos = torch.bmm(z_s.unsqueeze(1), r_s.unsqueeze(2)).squeeze(2)\n",
    "    negs = torch.bmm(z_n, r_s.unsqueeze(2)).squeeze()\n",
    "    J = torch.ones(negs.shape).to(device) - pos.expand(negs.shape) + negs\n",
    "    return torch.sum(torch.clamp(J, min=0.0))\n",
    "\n",
    "\n",
    "def orthogonal_regularization(T):\n",
    "    T_n = normalize(T, dim=1)\n",
    "    I = torch.eye(T_n.shape[0]).to(T_n.device)\n",
    "    return torch.norm(T_n.mm(T_n.t()) - I)\n",
    "\n",
    "\n",
    "def train(ab, dl, device='cuda', epochs=5, epochsize=100,\n",
    "          initial_lr=0.02, batchsize=4, negsize=20, ortho_reg=0.1):\n",
    "    batches = dl.batch_generator('train', device, batchsize, negsize)\n",
    "    i2w = dict((dl.w2i[w], w) for w in dl.w2i)\n",
    "\n",
    "    opt = optim.Adam(ab.parameters(), lr=initial_lr)\n",
    "    plot = plotter()\n",
    "\n",
    "    epoch_losses = collections.defaultdict(list)\n",
    "    ab.eval()\n",
    "    val_loss = validate(ab, dl, device, 'val', epochsize,\n",
    "                        batchsize, negsize, ortho_reg)\n",
    "    ab.train()\n",
    "    epoch_losses['Training Loss'].append(float('inf'))\n",
    "    epoch_losses['Validation Loss'].append(val_loss)\n",
    "    sample_aspects(ab.aspects(), i2w)\n",
    "    plot(epoch_losses)\n",
    "\n",
    "    for e in range(epochs):\n",
    "        train_losses = []\n",
    "        with tqdm.trange(epochsize) as pbar:\n",
    "            for b in pbar:\n",
    "                pos, neg = next(batches)\n",
    "                r_s, z_s, z_n = ab(pos, neg)\n",
    "                J = max_margin_loss(r_s, z_s, z_n)\n",
    "                U = orthogonal_regularization(ab.T.weight)\n",
    "                loss = J + ortho_reg * batchsize * U\n",
    "                opt.zero_grad()\n",
    "                loss.backward()\n",
    "                opt.step()\n",
    "\n",
    "                train_losses.append(loss.item())\n",
    "                x = (e + 1, opt.param_groups[0]['lr'], train_losses[-1])\n",
    "                d = 'TRAIN EPOCH: %d | LR: %0.5f | MEAN-TRAIN-LOSS: %0.5f' % x\n",
    "                pbar.set_description(d)\n",
    "\n",
    "                if b * batchsize % 100 == 0:\n",
    "                    lr = initial_lr * (1.0 - 1.0 * ((e + 1) * (b + 1)) / (epochs * epochsize))\n",
    "                    for pg in opt.param_groups:\n",
    "                        pg['lr'] = lr\n",
    "\n",
    "        ab.eval()\n",
    "        val_loss = validate(ab, dl, device, 'val', epochsize,\n",
    "                            batchsize, negsize, ortho_reg)\n",
    "        ab.train()\n",
    "        epoch_losses['Training Loss'].append(np.mean(train_losses))\n",
    "        epoch_losses['Validation Loss'].append(val_loss)\n",
    "        sample_aspects(ab.aspects(), i2w)\n",
    "        plot(epoch_losses)\n",
    "\n",
    "    ab.eval()\n",
    "\n",
    "\n",
    "def validate(ab, dl, device='cuda', split='val',\n",
    "             epochsize=100, batchsize=4, negsize=20, ortho_reg=0.1):\n",
    "    losses = []\n",
    "    batches = dl.batch_generator(split, device, batchsize, negsize)\n",
    "    with tqdm.tqdm(range(epochsize), total=epochsize, desc='validating') as pbar:\n",
    "        for b in pbar:\n",
    "            pos, neg = next(batches)\n",
    "            r_s, z_s, z_n = ab(pos, neg)\n",
    "            J = max_margin_loss(r_s, z_s, z_n).item()\n",
    "            U = orthogonal_regularization(ab.T.weight).item()\n",
    "            losses.append((J + ortho_reg * batchsize * U))\n",
    "            x = (b + 1, np.mean(losses))\n",
    "            pbar.set_description('VAL BATCH: %d | MEAN-VAL-LOSS: %0.5f' % x)\n",
    "    return np.mean(losses)\n",
    "\n",
    "\n",
    "def plotter(figsize=(8, 4)):\n",
    "    f, ax = plt.subplots(1, 1, figsize=figsize)\n",
    "\n",
    "    def plot_losses(losses):\n",
    "        colors = cm.rainbow(np.linspace(0, 1, len(losses)))\n",
    "        lines = []\n",
    "        for loss, color in zip(losses, colors):\n",
    "            y = losses[loss]\n",
    "            x = list(range(len(y)))\n",
    "            l = ax.plot(x, y, color=color, label=loss, lw=4, marker='o')\n",
    "            lines.append(loss)\n",
    "        ax.legend(lines)\n",
    "        ax.semilogy()\n",
    "        ax.set_title('Losses')\n",
    "        ax.set_xlabel('Epoch')\n",
    "        ax.set_ylabel('Loss')\n",
    "        ax.set_xticks(x)\n",
    "        f.canvas.draw()\n",
    "\n",
    "    return plot_losses\n",
    "\n",
    "\n",
    "def sample_aspects(projection, i2w, n=8):\n",
    "    projection = torch.sort(projection, dim=1)\n",
    "    for j, (projs, index) in enumerate(zip(*projection)):\n",
    "        index = index[-n:].detach().cpu().numpy()\n",
    "        words = ', '.join([i2w[i] for i in index])\n",
    "        print('Aspect %2d: %s' % (j, words))"
   ]
  },
  {
   "cell_type": "code",
   "execution_count": 372,
   "metadata": {},
   "outputs": [],
   "source": [
    "import torch.nn as nn\n",
    "import torch\n",
    "from torch.nn.functional import normalize, softmax\n",
    "\n",
    "\n",
    "class attention(nn.Module):\n",
    "\n",
    "    def __init__(self, d_embed):\n",
    "        super(attention, self).__init__()\n",
    "        self.M = nn.Linear(d_embed, d_embed)\n",
    "        self.M.weight.data.uniform_(-0.1, 0.1)\n",
    "\n",
    "    def forward(self, e_i):\n",
    "        y_s = torch.mean(e_i, dim=-1)\n",
    "        d_i = torch.bmm(e_i.transpose(1, 2), self.M(y_s).unsqueeze(2)).tanh()\n",
    "        a_i = softmax(d_i)\n",
    "        return a_i.squeeze(1)\n",
    "\n",
    "\n",
    "class abae(nn.Module):\n",
    "\n",
    "    def __init__(self, E, T):\n",
    "        super(abae, self).__init__()\n",
    "        n_vocab, d_embed = E.shape\n",
    "        n_aspects, d_embed = T.shape\n",
    "        self.E = nn.Embedding(n_vocab, d_embed)\n",
    "        self.T = nn.Embedding(n_aspects, d_embed)\n",
    "        self.attention = attention(d_embed)\n",
    "        self.linear = nn.Linear(d_embed, n_aspects)\n",
    "        self.E.weight = nn.Parameter(torch.from_numpy(E), requires_grad=False)\n",
    "        self.T.weight = nn.Parameter(torch.from_numpy(T), requires_grad=True)\n",
    "\n",
    "    def forward(self, pos, negs):\n",
    "        p_t, z_s = self.predict(pos)\n",
    "        r_s = normalize(torch.mm(self.T.weight.t(), p_t.t()).t(), dim=-1)\n",
    "        e_n = self.E(negs).transpose(-2, -1)\n",
    "        z_n = normalize(torch.mean(e_n, dim=-1), dim=-1)\n",
    "        return r_s, z_s, z_n\n",
    "\n",
    "    def predict(self, x):\n",
    "        e_i = self.E(x).transpose(1, 2)\n",
    "        a_i = self.attention(e_i)\n",
    "        z_s = normalize(torch.bmm(e_i, a_i).squeeze(2), dim=-1)\n",
    "        p_t = softmax(self.linear(z_s), dim=1)\n",
    "        return p_t, z_s\n",
    "\n",
    "    def aspects(self):\n",
    "        E_n = normalize(self.E.weight, dim=1)\n",
    "        T_n = normalize(self.T.weight, dim=1)\n",
    "        projection = torch.mm(E_n, T_n.t()).t()\n",
    "        return projection\n"
   ]
  },
  {
   "cell_type": "code",
   "execution_count": 373,
   "metadata": {},
   "outputs": [],
   "source": [
    "from sklearn.feature_extraction.text import CountVectorizer\n",
    "from nltk.corpus import stopwords\n",
    "from nltk.stem.wordnet import WordNetLemmatizer\n",
    "import numpy as np\n",
    "import torch\n",
    "import mmap\n",
    "import tqdm\n",
    "import traceback\n",
    "import json\n",
    "import os\n",
    "\n",
    "lmtzr = WordNetLemmatizer().lemmatize\n",
    "stop = stopwords.words('english')\n",
    "token = CountVectorizer().build_tokenizer()\n",
    "\n",
    "\n",
    "def preprocess_sentence(x):\n",
    "    return [lmtzr(t) for t in token(x.lower()) if not t in stop]\n",
    "\n",
    "\n",
    "def preprocess(input_path, output_path):\n",
    "    with open(input_path, 'r') as in_f, open(output_path, 'w') as out_f:\n",
    "        lc = linecount(input_path)\n",
    "        desc = 'preprocessing \"%s\"' % input_path\n",
    "        for j, l in tqdm.tqdm(enumerate(in_f), total=lc, desc=desc):\n",
    "            tokens = preprocess_sentence(l)\n",
    "            n_tokens = len(tokens)\n",
    "            if len(tokens) > 5 and n_tokens < 100:\n",
    "                out_l = ' '.join(tokens)\n",
    "                out_f.write(out_l + '\\n')\n",
    "\n",
    "\n",
    "class dataloader:\n",
    "\n",
    "    def __init__(self, w2i, path, split=None, seed=0):\n",
    "        self.w2i = w2i\n",
    "        self.path = path\n",
    "        self.meta = './.' + os.path.basename(self.path) + '.meta.json'\n",
    "        self.split = split if split else {'train': 1.0}\n",
    "        np.random.seed(seed)\n",
    "\n",
    "    def __enter__(self):\n",
    "        self.f = open(self.path, 'rb')\n",
    "        self.data = mmap.mmap(self.f.fileno(), 0, access=mmap.ACCESS_COPY)\n",
    "        if os.path.isfile(self.meta):\n",
    "            self.read_meta()\n",
    "        else:\n",
    "            self.offsets = dict((s, []) for s in self.split)\n",
    "            splits, probs = zip(*list(self.split.items()))\n",
    "            desc = 'finding offsets in \"%s\"' % self.path\n",
    "            i = 0\n",
    "            for j, char in enumerate(tqdm.tqdm(self.data, desc=desc)):\n",
    "                if char == b'\\n':\n",
    "                    split = splits[np.random.choice(len(probs), p=probs)]\n",
    "                    self.offsets[split].append((i, j))\n",
    "                    i = j + 1\n",
    "            self.linecounts = dict((s, len(self.offsets[s])) for s in self.split)\n",
    "            self.linecount = sum(self.linecounts[s] for s in self.split)\n",
    "            self.write_meta()\n",
    "        return self\n",
    "\n",
    "    def __exit__(self, *ags):\n",
    "        if ags[1]:\n",
    "            traceback.print_exception(*ags)\n",
    "        self.f.close()\n",
    "        return True\n",
    "\n",
    "    def write_meta(self):\n",
    "        meta = {\n",
    "            'path': self.path,\n",
    "            'linecount': self.linecount,\n",
    "            'linecounts': self.linecounts,\n",
    "            'offsets': self.offsets,\n",
    "        }\n",
    "        with open(self.meta, 'w') as f:\n",
    "            f.write(json.dumps(meta))\n",
    "\n",
    "    def read_meta(self):\n",
    "        with open(self.meta, 'r') as f:\n",
    "            meta = json.loads(f.read())\n",
    "        assert(self.path == meta['path'])\n",
    "        self.linecount = meta['linecount']\n",
    "        self.linecounts = meta['linecounts']\n",
    "        self.offsets = meta['offsets']\n",
    "\n",
    "    def b2i(self, batch):\n",
    "        batch = [self.data[u:v].decode('utf').split() for u, v in batch]\n",
    "        lengths = [len(l) for l in batch]\n",
    "        index = np.zeros((len(batch), max(lengths)))\n",
    "        w2i = lambda w: (self.w2i[w] if w in self.w2i else self.w2i['<unk>'])\n",
    "        for j, (words, length) in enumerate(zip(batch, lengths)):\n",
    "            index[j, :length] = [w2i(w) for w in words]\n",
    "        return torch.LongTensor(index)\n",
    "\n",
    "    def batch_generator(self, split='train', device='cpu', batchsize=20, negsize=20):\n",
    "        linecount = self.linecounts[split]\n",
    "        batchcount = (linecount // batchsize)\n",
    "        pos_offsets = self.offsets[split][:]\n",
    "        neg_offsets = self.offsets[split][:]\n",
    "        np.random.shuffle(pos_offsets)\n",
    "        np.random.shuffle(neg_offsets)\n",
    "        batches = 0\n",
    "        while True:\n",
    "            if batches == batchcount:\n",
    "                np.random.shuffle(pos_offsets)\n",
    "                np.random.shuffle(neg_offsets)\n",
    "                batches = 0\n",
    "            pos_batch = pos_offsets[batches * batchsize:(batches + 1) * batchsize]\n",
    "            pos_batch = self.b2i(pos_batch)\n",
    "            neg_batch = np.random.choice(linecount, batchsize * negsize)\n",
    "            neg_batch = self.b2i([neg_offsets[i] for i in neg_batch])\n",
    "            batch = (\n",
    "                pos_batch.to(device),\n",
    "                neg_batch.to(device).view(batchsize, negsize, -1),\n",
    "            )\n",
    "            yield batch\n",
    "            batches += 1"
   ]
  },
  {
   "cell_type": "code",
   "execution_count": 374,
   "metadata": {},
   "outputs": [],
   "source": [
    "import numpy as np\n",
    "import torch\n",
    "import os\n",
    "\n",
    "\n",
    "class aspect_model:\n",
    "\n",
    "    def __init__(self, data_path, w2v_path,\n",
    "                 min_count=10, d_embed=100, n_aspects=10, device='cpu'):\n",
    "        self.w2v = word2vec(data_path)\n",
    "        self.w2v.embed(w2v_path, d_embed, min_count=min_count)\n",
    "        self.w2v.aspect(n_aspects)\n",
    "        self.ab = abae(self.w2v.E, self.w2v.T).to(device)\n",
    "\n",
    "    def save_abae(self, abae_path):\n",
    "        print('saving abae model: \"%s\"' % abae_path)\n",
    "        torch.save(self.ab.state_dict(), abae_path)\n",
    "\n",
    "    def load_abae(self, abae_path):\n",
    "        print('loading abae model: \"%s\"' % abae_path)\n",
    "        self.ab.load_state_dict(torch.load(abae_path))\n",
    "\n",
    "    def predict(self, *sentences):\n",
    "        w2i = lambda w: self.w2v.w2i[w] if w in self.w2v.w2i else self.w2v.w2i['<unk>']\n",
    "        x = [[w2i(w) for w in preprocess_sentence(s)] for s in sentences]\n",
    "        p_t, z_s = self.ab.predict(torch.LongTensor(x))\n",
    "        _, i_t = torch.sort(p_t, dim=1)\n",
    "        return i_t[:, -1]"
   ]
  },
  {
   "cell_type": "code",
   "execution_count": 375,
   "metadata": {},
   "outputs": [],
   "source": [
    "data = './data/data.txt' \n",
    "prep = data + '.prep' \n",
    "if not os.path.isfile(prep): \n",
    "    preprocess(data, prep) "
   ]
  },
  {
   "cell_type": "code",
   "execution_count": 376,
   "metadata": {},
   "outputs": [
    {
     "name": "stderr",
     "output_type": "stream",
     "text": [
      "[nltk_data] Downloading package stopwords to\n",
      "[nltk_data]     /Users/mariaignasina/nltk_data...\n",
      "[nltk_data]   Package stopwords is already up-to-date!\n",
      "[nltk_data] Downloading package wordnet to\n",
      "[nltk_data]     /Users/mariaignasina/nltk_data...\n",
      "[nltk_data]   Package wordnet is already up-to-date!\n"
     ]
    },
    {
     "data": {
      "text/plain": [
       "True"
      ]
     },
     "execution_count": 376,
     "metadata": {},
     "output_type": "execute_result"
    }
   ],
   "source": [
    "import nltk\n",
    "nltk.download('stopwords')\n",
    "nltk.download('wordnet')"
   ]
  },
  {
   "cell_type": "code",
   "execution_count": 379,
   "metadata": {},
   "outputs": [
    {
     "name": "stderr",
     "output_type": "stream",
     "text": [
      "validating:   0%|          | 0/100 [00:00<?, ?it/s]<ipython-input-372-f06ff2c68599>:16: UserWarning: Implicit dimension choice for softmax has been deprecated. Change the call to include dim=X as an argument.\n",
      "  a_i = softmax(d_i)\n",
      "VAL BATCH: 21 | MEAN-VAL-LOSS: 80.16907:  11%|█         | 11/100 [00:00<00:00, 103.16it/s]"
     ]
    },
    {
     "name": "stdout",
     "output_type": "stream",
     "text": [
      "loading abae model: \"./data/data.txt.prep.abae.pt\"\n",
      "n_vocab: 112 | d_embed: 200 | n_aspects: 15\n"
     ]
    },
    {
     "name": "stderr",
     "output_type": "stream",
     "text": [
      "VAL BATCH: 100 | MEAN-VAL-LOSS: 80.07119: 100%|██████████| 100/100 [00:00<00:00, 122.10it/s]\n",
      "TRAIN EPOCH: 1 | LR: 0.00010 | MEAN-TRAIN-LOSS: 73.30422:  10%|█         | 10/100 [00:00<00:00, 99.41it/s]"
     ]
    },
    {
     "name": "stdout",
     "output_type": "stream",
     "text": [
      "Aspect  0: death, go, take, also, form, want, country, home\n",
      "Aspect  1: time, le, film, night, great, part, la, come\n",
      "Aspect  2: leave, well, band, never, take, work, much, would\n",
      "Aspect  3: sound, black, view, even, since, end, third, bit\n",
      "Aspect  4: even, pop, second, many, lyric, le, london, leave\n",
      "Aspect  5: brexit, style, one, blue, vocal, return, moment, man\n",
      "Aspect  6: also, take, film, old, however, still, life, music\n",
      "Aspect  7: family, title, guitar, indie, star, best, feel, always\n",
      "Aspect  8: family, film, great, album, also, like, love, time\n",
      "Aspect  9: new, film, character, john, make, song, letter, hear\n",
      "Aspect 10: time, since, question, soul, long, could, tell, co\n",
      "Aspect 11: like, john, voice, rather, working, anxiety, last, rock\n",
      "Aspect 12: story, day, end, like, first, week, review, singer\n",
      "Aspect 13: day, last, two, said, death, experience, com, old\n",
      "Aspect 14: film, question, go, see, play, hit, together, way\n"
     ]
    },
    {
     "name": "stderr",
     "output_type": "stream",
     "text": [
      "TRAIN EPOCH: 1 | LR: 0.00010 | MEAN-TRAIN-LOSS: 70.00845: 100%|██████████| 100/100 [00:01<00:00, 94.42it/s]\n",
      "VAL BATCH: 100 | MEAN-VAL-LOSS: 79.83115: 100%|██████████| 100/100 [00:00<00:00, 120.02it/s]\n",
      "TRAIN EPOCH: 2 | LR: 0.00010 | MEAN-TRAIN-LOSS: 70.33456:   0%|          | 0/100 [00:00<?, ?it/s]"
     ]
    },
    {
     "name": "stdout",
     "output_type": "stream",
     "text": [
      "Aspect  0: death, go, take, also, form, want, country, home\n",
      "Aspect  1: time, le, film, night, great, part, la, come\n",
      "Aspect  2: leave, well, band, never, take, work, much, would\n",
      "Aspect  3: made, black, even, view, since, end, third, bit\n",
      "Aspect  4: even, pop, second, many, lyric, le, london, leave\n",
      "Aspect  5: brexit, style, one, blue, vocal, return, moment, man\n",
      "Aspect  6: also, take, film, old, however, still, life, music\n",
      "Aspect  7: family, title, guitar, indie, star, best, feel, always\n",
      "Aspect  8: family, film, great, album, also, like, love, time\n",
      "Aspect  9: new, film, john, character, make, song, letter, hear\n",
      "Aspect 10: time, since, question, soul, long, could, tell, co\n",
      "Aspect 11: like, john, voice, rather, working, anxiety, last, rock\n",
      "Aspect 12: story, day, end, like, first, week, review, singer\n",
      "Aspect 13: day, last, two, said, death, experience, com, old\n",
      "Aspect 14: film, question, go, see, play, hit, together, way\n"
     ]
    },
    {
     "name": "stderr",
     "output_type": "stream",
     "text": [
      "TRAIN EPOCH: 2 | LR: 0.00010 | MEAN-TRAIN-LOSS: 66.88277: 100%|██████████| 100/100 [00:01<00:00, 98.65it/s]\n",
      "VAL BATCH: 100 | MEAN-VAL-LOSS: 79.68402: 100%|██████████| 100/100 [00:00<00:00, 140.32it/s]\n",
      "TRAIN EPOCH: 3 | LR: 0.00010 | MEAN-TRAIN-LOSS: 70.80138:  12%|█▏        | 12/100 [00:00<00:00, 110.41it/s]"
     ]
    },
    {
     "name": "stdout",
     "output_type": "stream",
     "text": [
      "Aspect  0: death, go, take, also, form, want, country, home\n",
      "Aspect  1: time, le, film, night, great, part, la, come\n",
      "Aspect  2: leave, well, band, take, never, work, much, would\n",
      "Aspect  3: made, black, even, view, since, end, third, bit\n",
      "Aspect  4: even, pop, second, many, lyric, le, leave, london\n",
      "Aspect  5: brexit, style, one, blue, vocal, return, moment, man\n",
      "Aspect  6: also, take, film, old, however, still, life, music\n",
      "Aspect  7: family, guitar, title, indie, star, best, feel, always\n",
      "Aspect  8: film, family, great, album, also, like, love, time\n",
      "Aspect  9: new, film, john, character, make, song, letter, hear\n",
      "Aspect 10: time, since, question, soul, long, could, tell, co\n",
      "Aspect 11: like, john, voice, rather, working, anxiety, last, rock\n",
      "Aspect 12: story, end, day, like, first, week, review, singer\n",
      "Aspect 13: day, last, two, said, death, experience, com, old\n",
      "Aspect 14: film, question, go, see, play, together, hit, way\n"
     ]
    },
    {
     "name": "stderr",
     "output_type": "stream",
     "text": [
      "TRAIN EPOCH: 3 | LR: 0.00010 | MEAN-TRAIN-LOSS: 55.24655: 100%|██████████| 100/100 [00:00<00:00, 108.40it/s]\n",
      "VAL BATCH: 100 | MEAN-VAL-LOSS: 79.55757: 100%|██████████| 100/100 [00:00<00:00, 134.61it/s]\n",
      "TRAIN EPOCH: 4 | LR: 0.00010 | MEAN-TRAIN-LOSS: 74.85461:  10%|█         | 10/100 [00:00<00:00, 98.74it/s]"
     ]
    },
    {
     "name": "stdout",
     "output_type": "stream",
     "text": [
      "Aspect  0: death, go, take, also, form, want, country, home\n",
      "Aspect  1: time, le, film, night, great, part, la, come\n",
      "Aspect  2: lyric, well, band, take, never, work, much, would\n",
      "Aspect  3: made, black, even, view, since, end, third, bit\n",
      "Aspect  4: even, pop, second, many, lyric, le, leave, london\n",
      "Aspect  5: brexit, style, one, blue, return, vocal, moment, man\n",
      "Aspect  6: also, take, film, old, however, still, life, music\n",
      "Aspect  7: family, guitar, title, indie, star, best, feel, always\n",
      "Aspect  8: film, family, great, album, also, like, love, time\n",
      "Aspect  9: new, film, john, make, character, song, letter, hear\n",
      "Aspect 10: time, since, question, soul, long, could, tell, co\n",
      "Aspect 11: like, john, voice, rather, working, anxiety, last, rock\n",
      "Aspect 12: story, end, day, like, first, week, review, singer\n",
      "Aspect 13: last, day, two, said, death, experience, com, old\n",
      "Aspect 14: film, question, go, see, play, hit, together, way\n"
     ]
    },
    {
     "name": "stderr",
     "output_type": "stream",
     "text": [
      "TRAIN EPOCH: 4 | LR: 0.00009 | MEAN-TRAIN-LOSS: 79.75485: 100%|██████████| 100/100 [00:01<00:00, 96.16it/s]\n",
      "VAL BATCH: 100 | MEAN-VAL-LOSS: 79.36531: 100%|██████████| 100/100 [00:00<00:00, 122.70it/s]\n",
      "TRAIN EPOCH: 5 | LR: 0.00010 | MEAN-TRAIN-LOSS: 77.11659:  10%|█         | 10/100 [00:00<00:01, 89.14it/s]"
     ]
    },
    {
     "name": "stdout",
     "output_type": "stream",
     "text": [
      "Aspect  0: death, go, take, also, form, want, country, home\n",
      "Aspect  1: time, le, film, night, great, part, la, come\n",
      "Aspect  2: lyric, well, band, take, never, work, much, would\n",
      "Aspect  3: made, black, even, view, since, end, third, bit\n",
      "Aspect  4: even, pop, second, many, lyric, leave, le, london\n",
      "Aspect  5: brexit, style, one, blue, return, vocal, moment, man\n",
      "Aspect  6: also, take, film, old, however, still, life, music\n",
      "Aspect  7: family, guitar, title, indie, star, best, feel, always\n",
      "Aspect  8: film, family, album, great, also, like, love, time\n",
      "Aspect  9: new, film, john, character, make, song, letter, hear\n",
      "Aspect 10: time, since, question, soul, long, could, tell, co\n",
      "Aspect 11: like, john, voice, rather, working, anxiety, last, rock\n",
      "Aspect 12: story, end, day, like, first, week, review, singer\n",
      "Aspect 13: last, day, two, said, death, experience, com, old\n",
      "Aspect 14: film, question, go, see, play, together, hit, way\n"
     ]
    },
    {
     "name": "stderr",
     "output_type": "stream",
     "text": [
      "TRAIN EPOCH: 5 | LR: 0.00009 | MEAN-TRAIN-LOSS: 78.16411: 100%|██████████| 100/100 [00:01<00:00, 89.83it/s]\n",
      "VAL BATCH: 100 | MEAN-VAL-LOSS: 79.19647: 100%|██████████| 100/100 [00:00<00:00, 117.97it/s]\n",
      "TRAIN EPOCH: 6 | LR: 0.00010 | MEAN-TRAIN-LOSS: 73.74986:  10%|█         | 10/100 [00:00<00:00, 99.11it/s]"
     ]
    },
    {
     "name": "stdout",
     "output_type": "stream",
     "text": [
      "Aspect  0: death, take, go, also, form, want, country, home\n",
      "Aspect  1: family, le, film, night, great, part, la, come\n",
      "Aspect  2: lyric, well, band, take, never, work, much, would\n",
      "Aspect  3: made, even, black, view, since, end, third, bit\n",
      "Aspect  4: even, pop, second, many, lyric, leave, le, london\n",
      "Aspect  5: brexit, style, one, blue, return, vocal, moment, man\n",
      "Aspect  6: also, take, film, old, however, still, life, music\n",
      "Aspect  7: family, guitar, title, indie, star, best, feel, always\n",
      "Aspect  8: film, album, family, great, also, like, love, time\n",
      "Aspect  9: new, john, film, character, make, song, letter, hear\n",
      "Aspect 10: time, since, question, soul, long, could, tell, co\n",
      "Aspect 11: like, john, voice, rather, working, last, anxiety, rock\n",
      "Aspect 12: story, end, like, day, first, week, review, singer\n",
      "Aspect 13: last, day, two, said, death, experience, com, old\n",
      "Aspect 14: film, question, go, see, play, together, hit, way\n"
     ]
    },
    {
     "name": "stderr",
     "output_type": "stream",
     "text": [
      "TRAIN EPOCH: 6 | LR: 0.00009 | MEAN-TRAIN-LOSS: 67.57996: 100%|██████████| 100/100 [00:01<00:00, 94.73it/s]\n",
      "VAL BATCH: 100 | MEAN-VAL-LOSS: 78.95999: 100%|██████████| 100/100 [00:00<00:00, 130.13it/s]\n",
      "TRAIN EPOCH: 7 | LR: 0.00010 | MEAN-TRAIN-LOSS: 81.07765:  12%|█▏        | 12/100 [00:00<00:00, 111.26it/s]"
     ]
    },
    {
     "name": "stdout",
     "output_type": "stream",
     "text": [
      "Aspect  0: take, death, go, also, form, want, country, home\n",
      "Aspect  1: family, le, film, night, great, part, la, come\n",
      "Aspect  2: lyric, well, band, take, never, work, much, would\n",
      "Aspect  3: made, even, black, view, since, end, third, bit\n",
      "Aspect  4: even, pop, second, many, lyric, leave, le, london\n",
      "Aspect  5: brexit, style, one, blue, return, vocal, moment, man\n",
      "Aspect  6: take, also, film, old, however, still, life, music\n",
      "Aspect  7: guitar, family, title, indie, star, best, feel, always\n",
      "Aspect  8: film, album, family, great, also, like, love, time\n",
      "Aspect  9: new, john, film, character, make, song, letter, hear\n",
      "Aspect 10: time, since, question, soul, long, could, tell, co\n",
      "Aspect 11: like, john, voice, rather, working, last, anxiety, rock\n",
      "Aspect 12: story, end, like, day, first, week, review, singer\n",
      "Aspect 13: last, day, two, said, death, experience, com, old\n",
      "Aspect 14: film, question, go, see, play, together, hit, way\n"
     ]
    },
    {
     "name": "stderr",
     "output_type": "stream",
     "text": [
      "TRAIN EPOCH: 7 | LR: 0.00009 | MEAN-TRAIN-LOSS: 70.87002: 100%|██████████| 100/100 [00:00<00:00, 109.72it/s]\n",
      "VAL BATCH: 100 | MEAN-VAL-LOSS: 78.76892: 100%|██████████| 100/100 [00:00<00:00, 144.48it/s]\n",
      "TRAIN EPOCH: 8 | LR: 0.00010 | MEAN-TRAIN-LOSS: 64.55278:  12%|█▏        | 12/100 [00:00<00:00, 112.68it/s]"
     ]
    },
    {
     "name": "stdout",
     "output_type": "stream",
     "text": [
      "Aspect  0: take, death, go, also, form, want, country, home\n",
      "Aspect  1: family, le, film, night, great, part, la, come\n",
      "Aspect  2: lyric, well, band, take, never, work, much, would\n",
      "Aspect  3: even, made, black, view, since, end, third, bit\n",
      "Aspect  4: even, pop, second, many, lyric, leave, le, london\n",
      "Aspect  5: brexit, style, one, blue, return, vocal, moment, man\n",
      "Aspect  6: take, also, film, old, however, still, life, music\n",
      "Aspect  7: family, guitar, title, indie, star, best, feel, always\n",
      "Aspect  8: home, film, family, great, also, like, love, time\n",
      "Aspect  9: john, new, film, character, make, song, letter, hear\n",
      "Aspect 10: time, since, question, soul, long, could, tell, co\n",
      "Aspect 11: like, john, voice, rather, working, last, anxiety, rock\n",
      "Aspect 12: story, end, like, day, first, week, review, singer\n",
      "Aspect 13: last, day, two, said, death, experience, com, old\n",
      "Aspect 14: film, question, go, see, play, together, hit, way\n"
     ]
    },
    {
     "name": "stderr",
     "output_type": "stream",
     "text": [
      "TRAIN EPOCH: 8 | LR: 0.00009 | MEAN-TRAIN-LOSS: 73.17788: 100%|██████████| 100/100 [00:00<00:00, 109.71it/s]\n",
      "VAL BATCH: 100 | MEAN-VAL-LOSS: 78.52917: 100%|██████████| 100/100 [00:00<00:00, 141.80it/s]\n",
      "TRAIN EPOCH: 9 | LR: 0.00010 | MEAN-TRAIN-LOSS: 70.34635:  12%|█▏        | 12/100 [00:00<00:00, 111.13it/s]"
     ]
    },
    {
     "name": "stdout",
     "output_type": "stream",
     "text": [
      "Aspect  0: take, death, go, also, form, want, country, home\n",
      "Aspect  1: family, le, film, night, great, part, la, come\n",
      "Aspect  2: lyric, well, band, take, never, work, much, would\n",
      "Aspect  3: even, made, black, view, since, end, third, bit\n",
      "Aspect  4: even, pop, second, many, lyric, leave, le, london\n",
      "Aspect  5: brexit, style, one, blue, return, vocal, moment, man\n",
      "Aspect  6: take, also, film, old, however, still, life, music\n",
      "Aspect  7: guitar, family, indie, title, star, best, feel, always\n",
      "Aspect  8: home, film, great, family, also, like, love, time\n",
      "Aspect  9: month, new, film, character, make, song, letter, hear\n",
      "Aspect 10: time, since, question, soul, long, could, tell, co\n",
      "Aspect 11: like, john, voice, rather, last, working, anxiety, rock\n",
      "Aspect 12: story, end, like, day, first, week, review, singer\n",
      "Aspect 13: last, day, two, said, death, experience, com, old\n",
      "Aspect 14: film, question, go, see, play, together, hit, way\n"
     ]
    },
    {
     "name": "stderr",
     "output_type": "stream",
     "text": [
      "TRAIN EPOCH: 9 | LR: 0.00009 | MEAN-TRAIN-LOSS: 75.31413: 100%|██████████| 100/100 [00:00<00:00, 109.77it/s]\n",
      "VAL BATCH: 100 | MEAN-VAL-LOSS: 78.02840: 100%|██████████| 100/100 [00:00<00:00, 141.69it/s]\n",
      "TRAIN EPOCH: 10 | LR: 0.00010 | MEAN-TRAIN-LOSS: 74.18143:  12%|█▏        | 12/100 [00:00<00:00, 110.56it/s]"
     ]
    },
    {
     "name": "stdout",
     "output_type": "stream",
     "text": [
      "Aspect  0: take, death, go, also, form, want, country, home\n",
      "Aspect  1: family, le, film, night, great, part, la, come\n",
      "Aspect  2: lyric, well, band, take, never, work, much, would\n",
      "Aspect  3: even, made, black, view, since, end, third, bit\n",
      "Aspect  4: even, pop, second, many, lyric, leave, le, london\n",
      "Aspect  5: brexit, style, one, blue, return, vocal, moment, man\n",
      "Aspect  6: take, also, film, old, however, still, life, music\n",
      "Aspect  7: guitar, family, indie, title, star, best, feel, always\n",
      "Aspect  8: home, album, great, family, also, like, love, time\n",
      "Aspect  9: month, film, new, character, make, song, letter, hear\n",
      "Aspect 10: early, since, question, soul, long, could, tell, co\n",
      "Aspect 11: like, john, voice, rather, last, working, anxiety, rock\n",
      "Aspect 12: story, end, like, day, first, week, review, singer\n",
      "Aspect 13: last, day, two, said, death, experience, com, old\n",
      "Aspect 14: film, question, go, see, play, together, hit, way\n"
     ]
    },
    {
     "name": "stderr",
     "output_type": "stream",
     "text": [
      "TRAIN EPOCH: 10 | LR: 0.00008 | MEAN-TRAIN-LOSS: 79.69988: 100%|██████████| 100/100 [00:00<00:00, 109.20it/s]\n",
      "VAL BATCH: 100 | MEAN-VAL-LOSS: 77.91909: 100%|██████████| 100/100 [00:00<00:00, 142.92it/s]\n",
      "TRAIN EPOCH: 11 | LR: 0.00010 | MEAN-TRAIN-LOSS: 75.49608:  12%|█▏        | 12/100 [00:00<00:00, 111.93it/s]"
     ]
    },
    {
     "name": "stdout",
     "output_type": "stream",
     "text": [
      "Aspect  0: star, death, go, also, form, want, country, home\n",
      "Aspect  1: family, le, film, night, great, part, la, come\n",
      "Aspect  2: lyric, well, band, take, never, work, much, would\n",
      "Aspect  3: form, made, black, view, since, end, third, bit\n",
      "Aspect  4: even, pop, second, many, lyric, leave, le, london\n",
      "Aspect  5: brexit, style, one, blue, return, vocal, moment, man\n",
      "Aspect  6: take, also, film, old, however, still, life, music\n",
      "Aspect  7: guitar, family, indie, title, star, best, feel, always\n",
      "Aspect  8: home, album, great, family, also, like, love, time\n",
      "Aspect  9: month, film, new, character, make, song, letter, hear\n",
      "Aspect 10: early, since, question, soul, long, could, tell, co\n",
      "Aspect 11: like, john, voice, rather, last, working, anxiety, rock\n",
      "Aspect 12: story, end, like, day, first, week, review, singer\n",
      "Aspect 13: last, day, two, said, death, experience, com, old\n",
      "Aspect 14: film, question, go, see, play, together, hit, way\n"
     ]
    },
    {
     "name": "stderr",
     "output_type": "stream",
     "text": [
      "TRAIN EPOCH: 11 | LR: 0.00008 | MEAN-TRAIN-LOSS: 74.46705: 100%|██████████| 100/100 [00:00<00:00, 109.53it/s]\n",
      "VAL BATCH: 100 | MEAN-VAL-LOSS: 77.45816: 100%|██████████| 100/100 [00:00<00:00, 142.06it/s]\n",
      "TRAIN EPOCH: 12 | LR: 0.00010 | MEAN-TRAIN-LOSS: 68.72483:  11%|█         | 11/100 [00:00<00:00, 109.67it/s]"
     ]
    },
    {
     "name": "stdout",
     "output_type": "stream",
     "text": [
      "Aspect  0: star, death, go, also, form, want, country, home\n",
      "Aspect  1: family, le, film, night, great, part, la, come\n",
      "Aspect  2: lyric, well, band, take, never, work, much, would\n",
      "Aspect  3: form, made, black, since, view, end, third, bit\n",
      "Aspect  4: even, pop, second, many, lyric, leave, le, london\n",
      "Aspect  5: brexit, style, one, blue, return, vocal, moment, man\n",
      "Aspect  6: take, also, film, old, however, still, life, music\n",
      "Aspect  7: guitar, family, indie, title, star, best, feel, always\n",
      "Aspect  8: home, great, family, album, also, like, love, time\n",
      "Aspect  9: month, film, new, character, make, song, letter, hear\n",
      "Aspect 10: early, since, question, soul, long, could, tell, co\n",
      "Aspect 11: like, john, voice, rather, last, working, anxiety, rock\n",
      "Aspect 12: story, end, like, day, first, week, review, singer\n",
      "Aspect 13: last, day, two, said, death, experience, com, old\n",
      "Aspect 14: film, question, go, see, play, together, hit, way\n"
     ]
    },
    {
     "name": "stderr",
     "output_type": "stream",
     "text": [
      "TRAIN EPOCH: 12 | LR: 0.00008 | MEAN-TRAIN-LOSS: 74.79854: 100%|██████████| 100/100 [00:00<00:00, 109.38it/s]\n",
      "VAL BATCH: 100 | MEAN-VAL-LOSS: 76.78453: 100%|██████████| 100/100 [00:00<00:00, 141.70it/s]\n",
      "TRAIN EPOCH: 13 | LR: 0.00010 | MEAN-TRAIN-LOSS: 71.48875:  11%|█         | 11/100 [00:00<00:00, 108.16it/s]"
     ]
    },
    {
     "name": "stdout",
     "output_type": "stream",
     "text": [
      "Aspect  0: star, death, go, also, form, want, country, home\n",
      "Aspect  1: family, le, film, night, great, part, la, come\n",
      "Aspect  2: lyric, well, band, take, never, work, much, would\n",
      "Aspect  3: form, black, made, since, view, end, third, bit\n",
      "Aspect  4: even, pop, second, many, lyric, leave, le, london\n",
      "Aspect  5: brexit, style, one, blue, return, vocal, moment, man\n",
      "Aspect  6: show, film, also, old, however, still, life, music\n",
      "Aspect  7: guitar, family, indie, title, star, best, feel, always\n",
      "Aspect  8: home, great, family, also, album, like, time, love\n",
      "Aspect  9: film, month, new, character, make, song, letter, hear\n",
      "Aspect 10: early, since, question, soul, long, could, tell, co\n",
      "Aspect 11: like, john, voice, rather, last, working, anxiety, rock\n",
      "Aspect 12: story, end, like, day, first, week, review, singer\n",
      "Aspect 13: last, day, two, said, death, experience, com, old\n",
      "Aspect 14: film, question, go, see, play, together, hit, way\n"
     ]
    },
    {
     "name": "stderr",
     "output_type": "stream",
     "text": [
      "TRAIN EPOCH: 13 | LR: 0.00008 | MEAN-TRAIN-LOSS: 64.42052: 100%|██████████| 100/100 [00:00<00:00, 108.68it/s]\n",
      "VAL BATCH: 100 | MEAN-VAL-LOSS: 75.91469: 100%|██████████| 100/100 [00:00<00:00, 141.43it/s]\n",
      "TRAIN EPOCH: 14 | LR: 0.00010 | MEAN-TRAIN-LOSS: 65.36717:  10%|█         | 10/100 [00:00<00:00, 98.96it/s]"
     ]
    },
    {
     "name": "stdout",
     "output_type": "stream",
     "text": [
      "Aspect  0: star, go, death, also, form, want, country, home\n",
      "Aspect  1: family, film, le, night, great, part, la, come\n",
      "Aspect  2: lyric, band, well, take, never, work, much, would\n",
      "Aspect  3: form, black, made, since, view, end, third, bit\n",
      "Aspect  4: even, pop, second, many, lyric, leave, le, london\n",
      "Aspect  5: brexit, style, one, blue, return, vocal, moment, man\n",
      "Aspect  6: film, show, also, old, however, still, life, music\n",
      "Aspect  7: guitar, indie, family, title, best, star, feel, always\n",
      "Aspect  8: home, great, also, family, album, like, time, love\n",
      "Aspect  9: john, month, new, character, make, song, letter, hear\n",
      "Aspect 10: early, since, question, soul, long, could, tell, co\n",
      "Aspect 11: like, john, voice, rather, last, working, anxiety, rock\n",
      "Aspect 12: story, end, like, day, first, week, review, singer\n",
      "Aspect 13: last, day, two, said, death, experience, com, old\n",
      "Aspect 14: film, question, go, see, play, together, hit, way\n"
     ]
    },
    {
     "name": "stderr",
     "output_type": "stream",
     "text": [
      "TRAIN EPOCH: 14 | LR: 0.00008 | MEAN-TRAIN-LOSS: 74.58316: 100%|██████████| 100/100 [00:00<00:00, 100.21it/s]\n",
      "VAL BATCH: 100 | MEAN-VAL-LOSS: 74.46491: 100%|██████████| 100/100 [00:00<00:00, 118.66it/s]\n",
      "TRAIN EPOCH: 15 | LR: 0.00010 | MEAN-TRAIN-LOSS: 63.86587:   9%|▉         | 9/100 [00:00<00:01, 81.39it/s]"
     ]
    },
    {
     "name": "stdout",
     "output_type": "stream",
     "text": [
      "Aspect  0: go, also, star, death, form, want, country, home\n",
      "Aspect  1: film, le, family, night, great, part, la, come\n",
      "Aspect  2: lyric, band, well, take, never, work, much, would\n",
      "Aspect  3: black, form, since, view, made, end, third, bit\n",
      "Aspect  4: even, pop, second, many, lyric, leave, le, london\n",
      "Aspect  5: brexit, style, one, return, blue, vocal, moment, man\n",
      "Aspect  6: film, show, also, old, however, still, life, music\n",
      "Aspect  7: guitar, indie, family, title, best, star, feel, always\n",
      "Aspect  8: home, also, great, family, album, like, time, love\n",
      "Aspect  9: john, month, new, character, make, song, letter, hear\n",
      "Aspect 10: early, since, question, soul, long, could, tell, co\n",
      "Aspect 11: like, john, voice, rather, last, working, anxiety, rock\n",
      "Aspect 12: end, story, like, day, first, week, review, singer\n",
      "Aspect 13: last, day, two, said, death, experience, com, old\n",
      "Aspect 14: year, question, go, see, play, hit, together, way\n"
     ]
    },
    {
     "name": "stderr",
     "output_type": "stream",
     "text": [
      "TRAIN EPOCH: 15 | LR: 0.00008 | MEAN-TRAIN-LOSS: 73.04859: 100%|██████████| 100/100 [00:01<00:00, 89.41it/s]\n",
      "VAL BATCH: 100 | MEAN-VAL-LOSS: 72.97925: 100%|██████████| 100/100 [00:00<00:00, 119.69it/s]\n",
      "TRAIN EPOCH: 16 | LR: 0.00010 | MEAN-TRAIN-LOSS: 59.70782:   9%|▉         | 9/100 [00:00<00:01, 83.51it/s]"
     ]
    },
    {
     "name": "stdout",
     "output_type": "stream",
     "text": [
      "Aspect  0: around, also, star, death, form, want, country, home\n",
      "Aspect  1: film, le, family, night, great, part, la, come\n",
      "Aspect  2: lyric, band, well, take, never, work, much, would\n",
      "Aspect  3: black, since, view, form, made, end, third, bit\n",
      "Aspect  4: even, pop, second, many, lyric, leave, le, london\n",
      "Aspect  5: brexit, style, one, return, blue, moment, vocal, man\n",
      "Aspect  6: film, also, show, old, however, still, life, music\n",
      "Aspect  7: guitar, indie, family, title, best, feel, star, always\n",
      "Aspect  8: also, home, great, family, album, like, time, love\n",
      "Aspect  9: john, month, new, character, make, song, letter, hear\n",
      "Aspect 10: early, since, question, soul, long, could, tell, co\n",
      "Aspect 11: like, john, voice, rather, last, working, anxiety, rock\n",
      "Aspect 12: end, like, story, day, first, week, review, singer\n",
      "Aspect 13: last, day, two, said, death, experience, com, old\n",
      "Aspect 14: year, question, go, see, play, hit, together, way\n"
     ]
    },
    {
     "name": "stderr",
     "output_type": "stream",
     "text": [
      "TRAIN EPOCH: 16 | LR: 0.00008 | MEAN-TRAIN-LOSS: 75.55817: 100%|██████████| 100/100 [00:01<00:00, 85.95it/s]\n",
      "VAL BATCH: 100 | MEAN-VAL-LOSS: 71.98219: 100%|██████████| 100/100 [00:00<00:00, 112.91it/s]\n",
      "TRAIN EPOCH: 17 | LR: 0.00010 | MEAN-TRAIN-LOSS: 68.30238:  10%|█         | 10/100 [00:00<00:00, 99.67it/s]"
     ]
    },
    {
     "name": "stdout",
     "output_type": "stream",
     "text": [
      "Aspect  0: also, around, star, death, form, want, country, home\n",
      "Aspect  1: film, le, family, night, great, part, la, come\n",
      "Aspect  2: lyric, band, well, take, never, work, much, would\n",
      "Aspect  3: black, since, view, form, end, made, third, bit\n",
      "Aspect  4: even, pop, second, many, lyric, leave, le, london\n",
      "Aspect  5: brexit, style, one, return, blue, moment, vocal, man\n",
      "Aspect  6: film, also, show, old, however, still, life, music\n",
      "Aspect  7: guitar, indie, family, title, best, feel, star, always\n",
      "Aspect  8: home, well, great, family, album, like, time, love\n",
      "Aspect  9: john, month, new, character, make, song, letter, hear\n",
      "Aspect 10: early, since, question, soul, long, could, tell, co\n",
      "Aspect 11: best, john, voice, rather, last, working, anxiety, rock\n",
      "Aspect 12: end, like, story, day, first, week, review, singer\n",
      "Aspect 13: week, day, two, said, death, experience, com, old\n",
      "Aspect 14: year, question, go, see, play, hit, together, way\n"
     ]
    },
    {
     "name": "stderr",
     "output_type": "stream",
     "text": [
      "TRAIN EPOCH: 17 | LR: 0.00007 | MEAN-TRAIN-LOSS: 70.31454: 100%|██████████| 100/100 [00:01<00:00, 91.03it/s]\n",
      "VAL BATCH: 100 | MEAN-VAL-LOSS: 71.39820: 100%|██████████| 100/100 [00:00<00:00, 124.74it/s]\n",
      "TRAIN EPOCH: 18 | LR: 0.00010 | MEAN-TRAIN-LOSS: 65.25190:  10%|█         | 10/100 [00:00<00:00, 93.16it/s]"
     ]
    },
    {
     "name": "stdout",
     "output_type": "stream",
     "text": [
      "Aspect  0: com, around, star, death, form, want, country, home\n",
      "Aspect  1: film, le, family, night, great, part, la, come\n",
      "Aspect  2: lyric, band, well, take, never, work, much, would\n",
      "Aspect  3: black, since, view, form, end, made, third, bit\n",
      "Aspect  4: even, pop, second, many, lyric, leave, le, london\n",
      "Aspect  5: brexit, style, one, return, blue, moment, vocal, man\n",
      "Aspect  6: film, show, also, old, however, still, life, music\n",
      "Aspect  7: guitar, indie, family, title, best, feel, star, always\n",
      "Aspect  8: home, well, great, family, album, like, time, love\n",
      "Aspect  9: john, month, new, character, make, song, letter, hear\n",
      "Aspect 10: early, since, question, soul, long, could, tell, co\n",
      "Aspect 11: best, john, voice, rather, last, working, anxiety, rock\n",
      "Aspect 12: end, like, story, day, first, week, review, singer\n",
      "Aspect 13: week, day, two, said, death, experience, com, old\n",
      "Aspect 14: album, question, go, see, play, hit, together, way\n"
     ]
    },
    {
     "name": "stderr",
     "output_type": "stream",
     "text": [
      "TRAIN EPOCH: 18 | LR: 0.00007 | MEAN-TRAIN-LOSS: 72.17980: 100%|██████████| 100/100 [00:01<00:00, 95.68it/s]\n",
      "VAL BATCH: 100 | MEAN-VAL-LOSS: 70.81391: 100%|██████████| 100/100 [00:00<00:00, 122.91it/s]\n",
      "TRAIN EPOCH: 19 | LR: 0.00010 | MEAN-TRAIN-LOSS: 66.67166:  10%|█         | 10/100 [00:00<00:00, 98.13it/s]"
     ]
    },
    {
     "name": "stdout",
     "output_type": "stream",
     "text": [
      "Aspect  0: <unk>, around, star, death, form, want, country, home\n",
      "Aspect  1: film, le, family, night, great, part, la, come\n",
      "Aspect  2: lyric, band, well, take, never, much, work, would\n",
      "Aspect  3: black, since, view, end, form, made, third, bit\n",
      "Aspect  4: even, pop, second, many, lyric, leave, le, london\n",
      "Aspect  5: brexit, style, one, return, blue, moment, vocal, man\n",
      "Aspect  6: film, show, also, old, however, still, life, music\n",
      "Aspect  7: guitar, indie, family, title, best, feel, star, always\n",
      "Aspect  8: home, great, well, family, album, like, time, love\n",
      "Aspect  9: john, month, new, character, make, song, letter, hear\n",
      "Aspect 10: early, since, question, soul, long, could, tell, co\n",
      "Aspect 11: like, john, voice, rather, last, working, anxiety, rock\n",
      "Aspect 12: end, like, story, day, first, week, review, singer\n",
      "Aspect 13: week, day, two, said, death, experience, com, old\n",
      "Aspect 14: album, question, go, see, play, hit, together, way\n"
     ]
    },
    {
     "name": "stderr",
     "output_type": "stream",
     "text": [
      "TRAIN EPOCH: 19 | LR: 0.00007 | MEAN-TRAIN-LOSS: 68.54686: 100%|██████████| 100/100 [00:00<00:00, 100.08it/s]\n",
      "VAL BATCH: 100 | MEAN-VAL-LOSS: 70.16757: 100%|██████████| 100/100 [00:00<00:00, 133.47it/s]\n",
      "TRAIN EPOCH: 20 | LR: 0.00010 | MEAN-TRAIN-LOSS: 70.01765:  11%|█         | 11/100 [00:00<00:00, 105.41it/s]"
     ]
    },
    {
     "name": "stdout",
     "output_type": "stream",
     "text": [
      "Aspect  0: <unk>, around, death, star, form, want, country, home\n",
      "Aspect  1: film, le, night, family, great, part, la, come\n",
      "Aspect  2: lyric, well, band, take, never, much, work, would\n",
      "Aspect  3: black, since, view, end, form, made, third, bit\n",
      "Aspect  4: even, pop, second, many, lyric, leave, le, london\n",
      "Aspect  5: brexit, style, one, return, moment, blue, vocal, man\n",
      "Aspect  6: film, show, also, old, however, still, life, music\n",
      "Aspect  7: guitar, indie, family, title, best, feel, star, always\n",
      "Aspect  8: home, great, well, family, album, like, time, love\n",
      "Aspect  9: john, month, new, character, make, song, letter, hear\n",
      "Aspect 10: early, since, question, soul, long, could, tell, co\n",
      "Aspect 11: like, john, voice, rather, last, working, anxiety, rock\n",
      "Aspect 12: end, like, story, day, first, week, review, singer\n",
      "Aspect 13: week, day, two, said, death, experience, com, old\n",
      "Aspect 14: album, question, go, see, play, hit, together, way\n"
     ]
    },
    {
     "name": "stderr",
     "output_type": "stream",
     "text": [
      "TRAIN EPOCH: 20 | LR: 0.00007 | MEAN-TRAIN-LOSS: 69.27081: 100%|██████████| 100/100 [00:01<00:00, 93.91it/s]\n",
      "VAL BATCH: 100 | MEAN-VAL-LOSS: 69.96106: 100%|██████████| 100/100 [00:00<00:00, 113.18it/s]\n",
      "TRAIN EPOCH: 21 | LR: 0.00010 | MEAN-TRAIN-LOSS: 60.40966:  10%|█         | 10/100 [00:00<00:00, 96.69it/s]"
     ]
    },
    {
     "name": "stdout",
     "output_type": "stream",
     "text": [
      "Aspect  0: <unk>, around, death, star, form, want, country, home\n",
      "Aspect  1: film, le, family, night, great, part, la, come\n",
      "Aspect  2: lyric, well, band, take, never, much, work, would\n",
      "Aspect  3: since, album, view, end, form, made, third, bit\n",
      "Aspect  4: even, pop, second, many, lyric, leave, le, london\n",
      "Aspect  5: album, style, one, return, moment, blue, vocal, man\n",
      "Aspect  6: show, film, also, old, however, still, life, music\n",
      "Aspect  7: guitar, indie, family, title, best, feel, star, always\n",
      "Aspect  8: home, great, well, family, album, like, time, love\n",
      "Aspect  9: john, month, new, character, make, song, letter, hear\n",
      "Aspect 10: early, since, question, soul, long, could, tell, co\n",
      "Aspect 11: like, john, voice, rather, last, working, anxiety, rock\n",
      "Aspect 12: end, like, story, day, first, week, review, singer\n",
      "Aspect 13: week, day, two, said, death, experience, com, old\n",
      "Aspect 14: album, question, go, see, play, hit, together, way\n"
     ]
    },
    {
     "name": "stderr",
     "output_type": "stream",
     "text": [
      "TRAIN EPOCH: 21 | LR: 0.00007 | MEAN-TRAIN-LOSS: 63.33038: 100%|██████████| 100/100 [00:01<00:00, 96.97it/s]\n",
      "VAL BATCH: 100 | MEAN-VAL-LOSS: 69.49174: 100%|██████████| 100/100 [00:00<00:00, 116.52it/s]\n",
      "TRAIN EPOCH: 22 | LR: 0.00010 | MEAN-TRAIN-LOSS: 67.63652:   9%|▉         | 9/100 [00:00<00:01, 81.70it/s]"
     ]
    },
    {
     "name": "stdout",
     "output_type": "stream",
     "text": [
      "Aspect  0: <unk>, around, death, star, form, want, country, home\n",
      "Aspect  1: film, le, night, family, great, part, la, come\n",
      "Aspect  2: lyric, well, band, take, never, much, work, would\n",
      "Aspect  3: since, view, album, end, form, made, third, bit\n",
      "Aspect  4: even, pop, second, many, lyric, leave, le, london\n",
      "Aspect  5: album, style, one, return, moment, blue, vocal, man\n",
      "Aspect  6: show, film, also, old, however, still, life, music\n",
      "Aspect  7: guitar, indie, family, title, best, feel, star, always\n",
      "Aspect  8: home, great, family, well, album, like, time, love\n",
      "Aspect  9: john, month, new, character, make, song, letter, hear\n",
      "Aspect 10: early, since, question, soul, long, could, tell, co\n",
      "Aspect 11: like, john, voice, rather, last, working, anxiety, rock\n",
      "Aspect 12: end, like, story, day, first, week, review, singer\n",
      "Aspect 13: week, day, two, said, death, experience, com, old\n",
      "Aspect 14: album, question, go, see, play, hit, together, way\n"
     ]
    },
    {
     "name": "stderr",
     "output_type": "stream",
     "text": [
      "TRAIN EPOCH: 22 | LR: 0.00007 | MEAN-TRAIN-LOSS: 67.77776: 100%|██████████| 100/100 [00:01<00:00, 88.32it/s]\n",
      "VAL BATCH: 100 | MEAN-VAL-LOSS: 68.87606: 100%|██████████| 100/100 [00:00<00:00, 122.00it/s]\n",
      "TRAIN EPOCH: 23 | LR: 0.00010 | MEAN-TRAIN-LOSS: 64.53070:   9%|▉         | 9/100 [00:00<00:01, 83.97it/s]"
     ]
    },
    {
     "name": "stdout",
     "output_type": "stream",
     "text": [
      "Aspect  0: <unk>, around, death, star, form, want, country, home\n",
      "Aspect  1: film, le, family, night, great, part, la, come\n",
      "Aspect  2: lyric, well, band, take, never, much, work, would\n",
      "Aspect  3: view, since, end, album, form, made, third, bit\n",
      "Aspect  4: even, pop, second, many, lyric, leave, le, london\n",
      "Aspect  5: album, style, one, return, moment, blue, vocal, man\n",
      "Aspect  6: show, film, also, old, however, still, life, music\n",
      "Aspect  7: guitar, indie, family, title, best, feel, star, always\n",
      "Aspect  8: com, great, family, well, album, like, time, love\n",
      "Aspect  9: john, month, new, character, make, song, letter, hear\n",
      "Aspect 10: early, since, question, soul, long, could, tell, co\n",
      "Aspect 11: like, john, voice, rather, last, working, anxiety, rock\n",
      "Aspect 12: like, end, story, day, first, week, review, singer\n",
      "Aspect 13: week, day, two, said, death, experience, com, old\n",
      "Aspect 14: album, question, go, see, play, hit, together, way\n"
     ]
    },
    {
     "name": "stderr",
     "output_type": "stream",
     "text": [
      "TRAIN EPOCH: 23 | LR: 0.00007 | MEAN-TRAIN-LOSS: 66.90401: 100%|██████████| 100/100 [00:01<00:00, 86.62it/s]\n",
      "VAL BATCH: 100 | MEAN-VAL-LOSS: 68.17421: 100%|██████████| 100/100 [00:00<00:00, 117.14it/s]\n",
      "TRAIN EPOCH: 24 | LR: 0.00010 | MEAN-TRAIN-LOSS: 68.81510:  10%|█         | 10/100 [00:00<00:00, 91.61it/s]"
     ]
    },
    {
     "name": "stdout",
     "output_type": "stream",
     "text": [
      "Aspect  0: <unk>, around, death, star, form, want, country, home\n",
      "Aspect  1: film, le, family, night, great, part, la, come\n",
      "Aspect  2: lyric, well, band, take, never, much, work, would\n",
      "Aspect  3: view, since, end, album, form, made, third, bit\n",
      "Aspect  4: even, pop, second, many, lyric, leave, le, london\n",
      "Aspect  5: album, style, one, moment, return, blue, vocal, man\n",
      "Aspect  6: show, also, film, old, however, still, life, music\n",
      "Aspect  7: guitar, indie, family, title, best, feel, star, always\n",
      "Aspect  8: com, great, family, well, album, like, time, love\n",
      "Aspect  9: john, month, new, character, make, song, letter, hear\n",
      "Aspect 10: early, since, question, soul, long, could, tell, co\n",
      "Aspect 11: even, john, voice, rather, last, working, anxiety, rock\n",
      "Aspect 12: like, end, story, day, first, week, review, singer\n",
      "Aspect 13: week, day, two, said, death, experience, com, old\n",
      "Aspect 14: album, question, go, see, play, hit, together, way\n"
     ]
    },
    {
     "name": "stderr",
     "output_type": "stream",
     "text": [
      "TRAIN EPOCH: 24 | LR: 0.00006 | MEAN-TRAIN-LOSS: 66.16218: 100%|██████████| 100/100 [00:01<00:00, 92.99it/s]\n",
      "VAL BATCH: 100 | MEAN-VAL-LOSS: 68.21550: 100%|██████████| 100/100 [00:00<00:00, 102.24it/s]\n",
      "TRAIN EPOCH: 25 | LR: 0.00010 | MEAN-TRAIN-LOSS: 64.16821:   0%|          | 0/100 [00:00<?, ?it/s]"
     ]
    },
    {
     "name": "stdout",
     "output_type": "stream",
     "text": [
      "Aspect  0: <unk>, around, death, star, form, want, country, home\n",
      "Aspect  1: film, le, family, night, great, part, la, come\n",
      "Aspect  2: lyric, well, band, take, never, much, work, would\n",
      "Aspect  3: view, since, end, form, made, album, third, bit\n",
      "Aspect  4: even, pop, second, many, lyric, leave, le, london\n",
      "Aspect  5: album, style, one, moment, return, blue, vocal, man\n",
      "Aspect  6: show, also, film, old, however, still, life, music\n",
      "Aspect  7: guitar, indie, family, title, best, feel, star, always\n",
      "Aspect  8: com, great, family, well, album, like, time, love\n",
      "Aspect  9: john, month, new, character, make, song, letter, hear\n",
      "Aspect 10: early, since, question, soul, long, could, tell, co\n",
      "Aspect 11: even, john, voice, rather, last, working, anxiety, rock\n",
      "Aspect 12: like, end, story, day, first, week, review, singer\n",
      "Aspect 13: week, day, two, said, death, experience, com, old\n",
      "Aspect 14: album, question, go, see, play, hit, together, way\n"
     ]
    },
    {
     "name": "stderr",
     "output_type": "stream",
     "text": [
      "TRAIN EPOCH: 25 | LR: 0.00006 | MEAN-TRAIN-LOSS: 55.67846: 100%|██████████| 100/100 [00:01<00:00, 90.11it/s]\n",
      "VAL BATCH: 100 | MEAN-VAL-LOSS: 67.67334: 100%|██████████| 100/100 [00:00<00:00, 119.25it/s]\n",
      "TRAIN EPOCH: 26 | LR: 0.00010 | MEAN-TRAIN-LOSS: 64.94882:  11%|█         | 11/100 [00:00<00:00, 104.31it/s]"
     ]
    },
    {
     "name": "stdout",
     "output_type": "stream",
     "text": [
      "Aspect  0: <unk>, around, death, star, form, want, country, home\n",
      "Aspect  1: film, le, family, night, great, part, la, come\n",
      "Aspect  2: lyric, well, band, take, never, much, work, would\n",
      "Aspect  3: view, since, end, form, made, album, third, bit\n",
      "Aspect  4: even, pop, second, many, lyric, leave, le, london\n",
      "Aspect  5: album, style, one, moment, return, blue, vocal, man\n",
      "Aspect  6: show, also, film, old, however, still, life, music\n",
      "Aspect  7: guitar, indie, family, title, best, feel, star, always\n",
      "Aspect  8: com, great, family, well, album, like, time, love\n",
      "Aspect  9: john, month, new, character, make, song, letter, hear\n",
      "Aspect 10: early, since, question, soul, long, could, tell, co\n",
      "Aspect 11: even, john, voice, rather, last, working, anxiety, rock\n",
      "Aspect 12: like, end, story, day, first, week, review, singer\n",
      "Aspect 13: week, day, two, said, death, experience, com, old\n",
      "Aspect 14: album, question, go, see, play, hit, together, way\n"
     ]
    },
    {
     "name": "stderr",
     "output_type": "stream",
     "text": [
      "TRAIN EPOCH: 26 | LR: 0.00006 | MEAN-TRAIN-LOSS: 59.70888: 100%|██████████| 100/100 [00:01<00:00, 95.11it/s]\n",
      "VAL BATCH: 100 | MEAN-VAL-LOSS: 67.95250: 100%|██████████| 100/100 [00:00<00:00, 134.29it/s]\n",
      "TRAIN EPOCH: 27 | LR: 0.00010 | MEAN-TRAIN-LOSS: 62.17601:  11%|█         | 11/100 [00:00<00:00, 103.96it/s]"
     ]
    },
    {
     "name": "stdout",
     "output_type": "stream",
     "text": [
      "Aspect  0: <unk>, around, death, star, form, want, country, home\n",
      "Aspect  1: film, le, family, night, great, part, la, come\n",
      "Aspect  2: lyric, well, band, take, never, much, work, would\n",
      "Aspect  3: view, since, end, form, made, album, third, bit\n",
      "Aspect  4: even, pop, second, many, lyric, leave, le, london\n",
      "Aspect  5: album, style, one, moment, return, blue, vocal, man\n",
      "Aspect  6: third, also, film, old, however, still, life, music\n",
      "Aspect  7: guitar, indie, family, title, best, feel, star, always\n",
      "Aspect  8: com, great, family, well, album, time, like, love\n",
      "Aspect  9: john, month, new, character, make, song, letter, hear\n",
      "Aspect 10: early, since, question, soul, long, could, tell, co\n",
      "Aspect 11: even, john, voice, rather, last, working, anxiety, rock\n",
      "Aspect 12: like, end, story, day, first, week, review, singer\n",
      "Aspect 13: week, day, two, said, death, experience, com, old\n",
      "Aspect 14: album, question, go, see, play, hit, together, way\n"
     ]
    },
    {
     "name": "stderr",
     "output_type": "stream",
     "text": [
      "TRAIN EPOCH: 27 | LR: 0.00006 | MEAN-TRAIN-LOSS: 69.74713: 100%|██████████| 100/100 [00:01<00:00, 95.52it/s]\n",
      "VAL BATCH: 100 | MEAN-VAL-LOSS: 67.26357: 100%|██████████| 100/100 [00:00<00:00, 130.45it/s]\n",
      "TRAIN EPOCH: 28 | LR: 0.00010 | MEAN-TRAIN-LOSS: 63.77000:  11%|█         | 11/100 [00:00<00:00, 101.57it/s]"
     ]
    },
    {
     "name": "stdout",
     "output_type": "stream",
     "text": [
      "Aspect  0: <unk>, around, death, star, form, want, country, home\n",
      "Aspect  1: film, le, family, night, great, part, la, come\n",
      "Aspect  2: lyric, well, band, take, never, much, work, would\n",
      "Aspect  3: view, since, end, form, made, album, third, bit\n",
      "Aspect  4: even, pop, second, many, lyric, leave, le, london\n",
      "Aspect  5: album, style, one, moment, return, blue, vocal, man\n",
      "Aspect  6: third, also, film, old, however, still, life, music\n",
      "Aspect  7: guitar, family, indie, title, best, feel, star, always\n",
      "Aspect  8: com, great, family, well, album, time, like, love\n",
      "Aspect  9: john, month, new, character, make, song, letter, hear\n",
      "Aspect 10: early, since, question, soul, long, could, tell, co\n",
      "Aspect 11: even, john, voice, rather, last, working, anxiety, rock\n",
      "Aspect 12: like, end, story, day, first, week, review, singer\n",
      "Aspect 13: week, day, two, said, death, experience, com, old\n",
      "Aspect 14: album, question, go, see, play, hit, together, way\n"
     ]
    },
    {
     "name": "stderr",
     "output_type": "stream",
     "text": [
      "TRAIN EPOCH: 28 | LR: 0.00006 | MEAN-TRAIN-LOSS: 58.96261: 100%|██████████| 100/100 [00:01<00:00, 99.79it/s]\n",
      "VAL BATCH: 100 | MEAN-VAL-LOSS: 66.83725: 100%|██████████| 100/100 [00:00<00:00, 132.19it/s]\n",
      "TRAIN EPOCH: 29 | LR: 0.00010 | MEAN-TRAIN-LOSS: 62.53598:  11%|█         | 11/100 [00:00<00:00, 103.99it/s]"
     ]
    },
    {
     "name": "stdout",
     "output_type": "stream",
     "text": [
      "Aspect  0: <unk>, around, death, star, form, want, country, home\n",
      "Aspect  1: film, le, family, night, great, part, la, come\n",
      "Aspect  2: end, well, band, take, never, much, work, would\n",
      "Aspect  3: view, since, end, form, made, album, third, bit\n",
      "Aspect  4: even, pop, second, many, lyric, leave, le, london\n",
      "Aspect  5: album, style, one, moment, return, blue, vocal, man\n",
      "Aspect  6: third, also, film, old, however, still, life, music\n",
      "Aspect  7: guitar, family, indie, title, best, feel, star, always\n",
      "Aspect  8: great, com, family, well, album, time, like, love\n",
      "Aspect  9: john, month, new, character, make, song, letter, hear\n",
      "Aspect 10: early, since, question, soul, long, could, tell, co\n",
      "Aspect 11: even, john, voice, rather, last, working, anxiety, rock\n",
      "Aspect 12: like, end, story, day, first, week, review, singer\n",
      "Aspect 13: week, day, two, said, death, experience, com, old\n",
      "Aspect 14: album, question, go, see, play, together, hit, way\n"
     ]
    },
    {
     "name": "stderr",
     "output_type": "stream",
     "text": [
      "TRAIN EPOCH: 29 | LR: 0.00006 | MEAN-TRAIN-LOSS: 69.45776: 100%|██████████| 100/100 [00:00<00:00, 101.69it/s]\n",
      "VAL BATCH: 100 | MEAN-VAL-LOSS: 66.83730: 100%|██████████| 100/100 [00:00<00:00, 131.15it/s]\n",
      "TRAIN EPOCH: 30 | LR: 0.00010 | MEAN-TRAIN-LOSS: 64.71026:  11%|█         | 11/100 [00:00<00:00, 102.23it/s]"
     ]
    },
    {
     "name": "stdout",
     "output_type": "stream",
     "text": [
      "Aspect  0: <unk>, around, death, star, form, want, country, home\n",
      "Aspect  1: film, le, family, night, great, part, la, come\n",
      "Aspect  2: end, well, band, take, never, much, work, would\n",
      "Aspect  3: view, since, end, form, made, album, third, bit\n",
      "Aspect  4: even, pop, second, many, lyric, leave, le, london\n",
      "Aspect  5: album, style, one, moment, return, blue, vocal, man\n",
      "Aspect  6: black, also, film, old, however, still, life, music\n",
      "Aspect  7: guitar, family, indie, title, feel, best, star, always\n",
      "Aspect  8: work, com, family, well, album, time, like, love\n",
      "Aspect  9: john, month, new, character, make, song, letter, hear\n",
      "Aspect 10: early, since, question, soul, long, could, tell, co\n",
      "Aspect 11: even, john, voice, rather, last, working, anxiety, rock\n",
      "Aspect 12: like, end, story, day, first, week, review, singer\n",
      "Aspect 13: week, day, two, said, death, experience, com, old\n",
      "Aspect 14: album, question, go, see, play, together, hit, way\n"
     ]
    },
    {
     "name": "stderr",
     "output_type": "stream",
     "text": [
      "TRAIN EPOCH: 30 | LR: 0.00005 | MEAN-TRAIN-LOSS: 66.27438: 100%|██████████| 100/100 [00:00<00:00, 100.23it/s]\n",
      "VAL BATCH: 100 | MEAN-VAL-LOSS: 66.60050: 100%|██████████| 100/100 [00:00<00:00, 130.84it/s]\n",
      "TRAIN EPOCH: 31 | LR: 0.00010 | MEAN-TRAIN-LOSS: 67.07301:  11%|█         | 11/100 [00:00<00:00, 100.05it/s]"
     ]
    },
    {
     "name": "stdout",
     "output_type": "stream",
     "text": [
      "Aspect  0: <unk>, around, death, star, form, want, country, home\n",
      "Aspect  1: set, le, family, night, great, part, la, come\n",
      "Aspect  2: end, well, band, take, never, much, work, would\n",
      "Aspect  3: view, since, end, form, made, third, album, bit\n",
      "Aspect  4: even, pop, second, many, lyric, leave, le, london\n",
      "Aspect  5: album, style, one, moment, return, blue, vocal, man\n",
      "Aspect  6: black, also, film, old, however, still, life, music\n",
      "Aspect  7: guitar, family, indie, title, feel, best, star, always\n",
      "Aspect  8: work, com, family, well, album, time, like, love\n",
      "Aspect  9: john, month, new, character, make, song, letter, hear\n",
      "Aspect 10: early, since, question, soul, long, could, tell, co\n",
      "Aspect 11: even, john, voice, rather, last, working, anxiety, rock\n",
      "Aspect 12: like, end, story, day, first, week, review, singer\n",
      "Aspect 13: week, day, two, said, death, experience, com, old\n",
      "Aspect 14: album, go, question, see, play, together, hit, way\n"
     ]
    },
    {
     "name": "stderr",
     "output_type": "stream",
     "text": [
      "TRAIN EPOCH: 31 | LR: 0.00005 | MEAN-TRAIN-LOSS: 63.73512: 100%|██████████| 100/100 [00:01<00:00, 86.91it/s]\n",
      "VAL BATCH: 100 | MEAN-VAL-LOSS: 66.52699: 100%|██████████| 100/100 [00:01<00:00, 77.36it/s]\n",
      "TRAIN EPOCH: 32 | LR: 0.00010 | MEAN-TRAIN-LOSS: 63.49789:   0%|          | 0/100 [00:00<?, ?it/s]"
     ]
    },
    {
     "name": "stdout",
     "output_type": "stream",
     "text": [
      "Aspect  0: <unk>, around, death, star, form, want, country, home\n",
      "Aspect  1: set, le, family, night, great, part, la, come\n",
      "Aspect  2: end, well, band, take, never, much, work, would\n",
      "Aspect  3: view, since, end, form, made, album, third, bit\n",
      "Aspect  4: even, pop, second, many, lyric, leave, le, london\n",
      "Aspect  5: album, style, one, moment, return, blue, vocal, man\n",
      "Aspect  6: black, also, film, old, however, still, life, music\n",
      "Aspect  7: family, guitar, indie, title, feel, best, star, always\n",
      "Aspect  8: work, com, family, well, album, time, like, love\n",
      "Aspect  9: john, month, new, character, make, song, letter, hear\n",
      "Aspect 10: early, since, question, soul, long, could, tell, co\n",
      "Aspect 11: even, john, voice, rather, last, working, anxiety, rock\n",
      "Aspect 12: like, end, story, day, first, week, review, singer\n",
      "Aspect 13: week, day, two, said, death, experience, com, old\n",
      "Aspect 14: album, go, question, see, play, together, hit, way\n"
     ]
    },
    {
     "name": "stderr",
     "output_type": "stream",
     "text": [
      "TRAIN EPOCH: 32 | LR: 0.00005 | MEAN-TRAIN-LOSS: 61.67946: 100%|██████████| 100/100 [00:01<00:00, 66.97it/s]\n",
      "VAL BATCH: 100 | MEAN-VAL-LOSS: 66.67539: 100%|██████████| 100/100 [00:01<00:00, 74.73it/s]\n",
      "TRAIN EPOCH: 33 | LR: 0.00010 | MEAN-TRAIN-LOSS: 65.77460:   0%|          | 0/100 [00:00<?, ?it/s]"
     ]
    },
    {
     "name": "stdout",
     "output_type": "stream",
     "text": [
      "Aspect  0: <unk>, around, death, star, form, want, country, home\n",
      "Aspect  1: set, le, family, night, great, part, la, come\n",
      "Aspect  2: end, well, band, take, never, much, work, would\n",
      "Aspect  3: view, since, end, form, made, album, third, bit\n",
      "Aspect  4: even, pop, second, many, lyric, leave, le, london\n",
      "Aspect  5: album, style, one, moment, return, blue, vocal, man\n",
      "Aspect  6: black, also, film, old, however, still, life, music\n",
      "Aspect  7: family, guitar, indie, title, feel, best, star, always\n",
      "Aspect  8: work, com, family, well, album, time, like, love\n",
      "Aspect  9: john, month, new, character, make, song, letter, hear\n",
      "Aspect 10: early, since, question, soul, long, could, tell, co\n",
      "Aspect 11: even, john, voice, rather, working, last, anxiety, rock\n",
      "Aspect 12: like, end, story, day, first, week, review, singer\n",
      "Aspect 13: week, day, two, said, death, experience, com, old\n",
      "Aspect 14: album, go, question, see, play, together, hit, way\n"
     ]
    },
    {
     "name": "stderr",
     "output_type": "stream",
     "text": [
      "TRAIN EPOCH: 33 | LR: 0.00005 | MEAN-TRAIN-LOSS: 61.69604: 100%|██████████| 100/100 [00:01<00:00, 66.06it/s]\n",
      "VAL BATCH: 100 | MEAN-VAL-LOSS: 66.63764: 100%|██████████| 100/100 [00:01<00:00, 83.25it/s]\n",
      "TRAIN EPOCH: 34 | LR: 0.00010 | MEAN-TRAIN-LOSS: 65.10231:   0%|          | 0/100 [00:00<?, ?it/s]"
     ]
    },
    {
     "name": "stdout",
     "output_type": "stream",
     "text": [
      "Aspect  0: <unk>, around, death, star, form, want, country, home\n",
      "Aspect  1: set, le, family, night, great, part, la, come\n",
      "Aspect  2: end, well, band, take, never, much, work, would\n",
      "Aspect  3: view, since, end, form, made, album, third, bit\n",
      "Aspect  4: even, pop, second, many, lyric, leave, le, london\n",
      "Aspect  5: album, style, moment, one, return, blue, vocal, man\n",
      "Aspect  6: black, also, film, old, however, still, life, music\n",
      "Aspect  7: family, guitar, indie, title, feel, best, star, always\n",
      "Aspect  8: work, com, family, well, album, time, like, love\n",
      "Aspect  9: john, month, new, character, make, song, letter, hear\n",
      "Aspect 10: early, since, question, soul, long, could, tell, co\n",
      "Aspect 11: even, john, voice, rather, working, last, anxiety, rock\n",
      "Aspect 12: like, end, story, day, first, week, review, singer\n",
      "Aspect 13: week, day, two, said, death, experience, com, old\n",
      "Aspect 14: album, go, question, see, play, together, hit, way\n"
     ]
    },
    {
     "name": "stderr",
     "output_type": "stream",
     "text": [
      "TRAIN EPOCH: 34 | LR: 0.00005 | MEAN-TRAIN-LOSS: 56.93385: 100%|██████████| 100/100 [00:01<00:00, 66.97it/s]\n",
      "VAL BATCH: 100 | MEAN-VAL-LOSS: 66.27044: 100%|██████████| 100/100 [00:01<00:00, 78.50it/s]\n",
      "TRAIN EPOCH: 35 | LR: 0.00010 | MEAN-TRAIN-LOSS: 65.13764:   0%|          | 0/100 [00:00<?, ?it/s]"
     ]
    },
    {
     "name": "stdout",
     "output_type": "stream",
     "text": [
      "Aspect  0: <unk>, around, death, star, form, want, country, home\n",
      "Aspect  1: set, le, family, night, great, part, la, come\n",
      "Aspect  2: end, well, band, take, never, much, work, would\n",
      "Aspect  3: view, since, end, form, made, album, third, bit\n",
      "Aspect  4: even, pop, second, many, lyric, leave, le, london\n",
      "Aspect  5: album, style, moment, one, return, blue, vocal, man\n",
      "Aspect  6: black, also, film, old, still, however, life, music\n",
      "Aspect  7: family, guitar, indie, title, feel, best, star, always\n",
      "Aspect  8: work, com, family, well, album, time, like, love\n",
      "Aspect  9: john, month, new, character, make, song, letter, hear\n",
      "Aspect 10: early, since, question, soul, long, could, tell, co\n",
      "Aspect 11: like, john, voice, rather, last, working, anxiety, rock\n",
      "Aspect 12: story, like, end, day, first, week, review, singer\n",
      "Aspect 13: week, day, two, said, death, experience, com, old\n",
      "Aspect 14: album, go, question, see, play, together, hit, way\n"
     ]
    },
    {
     "name": "stderr",
     "output_type": "stream",
     "text": [
      "TRAIN EPOCH: 35 | LR: 0.00005 | MEAN-TRAIN-LOSS: 63.58741: 100%|██████████| 100/100 [00:01<00:00, 72.51it/s]\n",
      "VAL BATCH: 100 | MEAN-VAL-LOSS: 66.18876: 100%|██████████| 100/100 [00:01<00:00, 81.11it/s]\n",
      "TRAIN EPOCH: 36 | LR: 0.00010 | MEAN-TRAIN-LOSS: 71.13472:   0%|          | 0/100 [00:00<?, ?it/s]"
     ]
    },
    {
     "name": "stdout",
     "output_type": "stream",
     "text": [
      "Aspect  0: <unk>, around, death, star, form, want, country, home\n",
      "Aspect  1: set, le, family, night, great, part, la, come\n",
      "Aspect  2: end, well, band, take, never, much, work, would\n",
      "Aspect  3: view, since, end, form, made, album, third, bit\n",
      "Aspect  4: even, pop, second, many, lyric, leave, le, london\n",
      "Aspect  5: album, style, moment, one, return, blue, vocal, man\n",
      "Aspect  6: black, also, film, old, still, however, life, music\n",
      "Aspect  7: family, guitar, indie, title, feel, best, star, always\n",
      "Aspect  8: com, work, family, well, album, time, like, love\n",
      "Aspect  9: john, month, new, character, make, song, letter, hear\n",
      "Aspect 10: early, since, question, soul, long, could, tell, co\n",
      "Aspect 11: like, john, voice, rather, working, last, anxiety, rock\n",
      "Aspect 12: story, like, end, day, first, week, review, singer\n",
      "Aspect 13: week, day, two, said, death, experience, com, old\n",
      "Aspect 14: album, go, see, question, play, together, hit, way\n"
     ]
    },
    {
     "name": "stderr",
     "output_type": "stream",
     "text": [
      "TRAIN EPOCH: 36 | LR: 0.00005 | MEAN-TRAIN-LOSS: 62.89072: 100%|██████████| 100/100 [00:01<00:00, 68.16it/s]\n",
      "VAL BATCH: 100 | MEAN-VAL-LOSS: 66.45903: 100%|██████████| 100/100 [00:01<00:00, 74.79it/s]\n",
      "TRAIN EPOCH: 37 | LR: 0.00010 | MEAN-TRAIN-LOSS: 63.97426:   0%|          | 0/100 [00:00<?, ?it/s]"
     ]
    },
    {
     "name": "stdout",
     "output_type": "stream",
     "text": [
      "Aspect  0: <unk>, around, death, star, form, want, country, home\n",
      "Aspect  1: set, le, family, night, great, part, la, come\n",
      "Aspect  2: end, well, band, take, never, much, work, would\n",
      "Aspect  3: view, since, end, form, made, album, third, bit\n",
      "Aspect  4: even, pop, second, many, lyric, leave, le, london\n",
      "Aspect  5: album, style, moment, one, return, blue, vocal, man\n",
      "Aspect  6: black, also, film, old, still, however, life, music\n",
      "Aspect  7: family, guitar, indie, title, feel, best, star, always\n",
      "Aspect  8: com, work, family, well, album, time, like, love\n",
      "Aspect  9: john, month, new, character, make, song, letter, hear\n",
      "Aspect 10: early, since, question, soul, long, could, tell, co\n",
      "Aspect 11: like, john, voice, rather, working, last, anxiety, rock\n",
      "Aspect 12: story, end, like, day, first, week, review, singer\n",
      "Aspect 13: week, day, two, said, death, experience, com, old\n",
      "Aspect 14: album, go, see, question, play, together, hit, way\n"
     ]
    },
    {
     "name": "stderr",
     "output_type": "stream",
     "text": [
      "TRAIN EPOCH: 37 | LR: 0.00004 | MEAN-TRAIN-LOSS: 57.24907: 100%|██████████| 100/100 [00:01<00:00, 67.56it/s]\n",
      "VAL BATCH: 100 | MEAN-VAL-LOSS: 66.09344: 100%|██████████| 100/100 [00:01<00:00, 74.20it/s]\n",
      "TRAIN EPOCH: 38 | LR: 0.00010 | MEAN-TRAIN-LOSS: 66.33440:   0%|          | 0/100 [00:00<?, ?it/s]"
     ]
    },
    {
     "name": "stdout",
     "output_type": "stream",
     "text": [
      "Aspect  0: <unk>, around, death, star, form, want, country, home\n",
      "Aspect  1: set, le, family, night, great, part, la, come\n",
      "Aspect  2: end, well, band, take, never, much, work, would\n",
      "Aspect  3: view, since, end, form, made, album, third, bit\n",
      "Aspect  4: even, pop, second, many, lyric, leave, le, london\n",
      "Aspect  5: album, style, moment, one, return, blue, vocal, man\n",
      "Aspect  6: black, also, film, old, still, however, life, music\n",
      "Aspect  7: family, guitar, indie, title, feel, best, star, always\n",
      "Aspect  8: com, work, family, well, album, time, like, love\n",
      "Aspect  9: john, month, new, character, make, song, letter, hear\n",
      "Aspect 10: early, since, question, soul, long, could, tell, co\n",
      "Aspect 11: like, john, voice, rather, working, last, anxiety, rock\n",
      "Aspect 12: story, end, like, day, first, week, review, singer\n",
      "Aspect 13: week, day, two, said, death, experience, com, old\n",
      "Aspect 14: album, go, see, question, play, together, hit, way\n"
     ]
    },
    {
     "name": "stderr",
     "output_type": "stream",
     "text": [
      "TRAIN EPOCH: 38 | LR: 0.00004 | MEAN-TRAIN-LOSS: 67.56400: 100%|██████████| 100/100 [00:01<00:00, 69.50it/s]\n",
      "VAL BATCH: 100 | MEAN-VAL-LOSS: 66.46391: 100%|██████████| 100/100 [00:01<00:00, 78.68it/s]\n",
      "TRAIN EPOCH: 39 | LR: 0.00010 | MEAN-TRAIN-LOSS: 64.23486:   0%|          | 0/100 [00:00<?, ?it/s]"
     ]
    },
    {
     "name": "stdout",
     "output_type": "stream",
     "text": [
      "Aspect  0: <unk>, around, death, star, form, want, country, home\n",
      "Aspect  1: set, le, family, night, great, part, la, come\n",
      "Aspect  2: end, well, band, take, never, much, work, would\n",
      "Aspect  3: view, since, end, form, made, album, third, bit\n",
      "Aspect  4: even, pop, second, many, lyric, leave, le, london\n",
      "Aspect  5: album, style, moment, one, return, blue, vocal, man\n",
      "Aspect  6: black, also, film, old, still, however, life, music\n",
      "Aspect  7: family, guitar, indie, title, feel, best, star, always\n",
      "Aspect  8: com, work, family, well, album, time, like, love\n",
      "Aspect  9: john, month, new, character, make, song, letter, hear\n",
      "Aspect 10: early, since, question, soul, long, could, tell, co\n",
      "Aspect 11: john, like, voice, rather, working, last, anxiety, rock\n",
      "Aspect 12: story, end, like, day, first, week, review, singer\n",
      "Aspect 13: week, day, two, said, death, experience, com, old\n",
      "Aspect 14: album, go, see, question, play, together, hit, way\n"
     ]
    },
    {
     "name": "stderr",
     "output_type": "stream",
     "text": [
      "TRAIN EPOCH: 39 | LR: 0.00004 | MEAN-TRAIN-LOSS: 65.04755: 100%|██████████| 100/100 [00:01<00:00, 68.26it/s]\n",
      "VAL BATCH: 100 | MEAN-VAL-LOSS: 66.09834: 100%|██████████| 100/100 [00:01<00:00, 77.85it/s]\n",
      "TRAIN EPOCH: 40 | LR: 0.00010 | MEAN-TRAIN-LOSS: 67.22170:   0%|          | 0/100 [00:00<?, ?it/s]"
     ]
    },
    {
     "name": "stdout",
     "output_type": "stream",
     "text": [
      "Aspect  0: <unk>, around, death, star, form, want, country, home\n",
      "Aspect  1: set, le, family, night, great, part, la, come\n",
      "Aspect  2: end, well, band, take, never, much, work, would\n",
      "Aspect  3: view, since, end, form, made, album, third, bit\n",
      "Aspect  4: even, pop, second, many, lyric, leave, le, london\n",
      "Aspect  5: album, style, moment, one, return, blue, vocal, man\n",
      "Aspect  6: black, also, film, old, still, however, life, music\n",
      "Aspect  7: family, guitar, indie, title, feel, best, star, always\n",
      "Aspect  8: com, work, family, well, album, time, like, love\n",
      "Aspect  9: john, month, new, character, make, song, letter, hear\n",
      "Aspect 10: early, since, question, soul, long, could, tell, co\n",
      "Aspect 11: john, like, voice, rather, working, last, anxiety, rock\n",
      "Aspect 12: story, end, like, day, first, week, review, singer\n",
      "Aspect 13: week, day, two, said, death, experience, com, old\n",
      "Aspect 14: album, go, see, question, play, together, hit, way\n"
     ]
    },
    {
     "name": "stderr",
     "output_type": "stream",
     "text": [
      "TRAIN EPOCH: 40 | LR: 0.00004 | MEAN-TRAIN-LOSS: 58.50409: 100%|██████████| 100/100 [00:01<00:00, 68.04it/s]\n",
      "VAL BATCH: 100 | MEAN-VAL-LOSS: 66.35651: 100%|██████████| 100/100 [00:01<00:00, 76.99it/s]\n",
      "TRAIN EPOCH: 41 | LR: 0.00010 | MEAN-TRAIN-LOSS: 62.82326:   0%|          | 0/100 [00:00<?, ?it/s]"
     ]
    },
    {
     "name": "stdout",
     "output_type": "stream",
     "text": [
      "Aspect  0: <unk>, around, death, star, form, want, country, home\n",
      "Aspect  1: set, le, family, night, great, part, la, come\n",
      "Aspect  2: end, well, band, take, never, much, work, would\n",
      "Aspect  3: view, since, end, form, made, album, third, bit\n",
      "Aspect  4: even, pop, second, many, lyric, leave, le, london\n",
      "Aspect  5: album, style, moment, one, return, blue, vocal, man\n",
      "Aspect  6: black, also, film, old, still, however, life, music\n",
      "Aspect  7: family, guitar, indie, title, feel, best, star, always\n",
      "Aspect  8: com, work, family, well, album, time, like, love\n",
      "Aspect  9: john, month, new, character, make, song, letter, hear\n",
      "Aspect 10: early, since, question, soul, long, could, tell, co\n",
      "Aspect 11: john, like, voice, rather, working, last, anxiety, rock\n",
      "Aspect 12: story, end, like, day, first, week, review, singer\n",
      "Aspect 13: week, day, two, said, death, experience, com, old\n",
      "Aspect 14: album, go, see, question, play, together, hit, way\n"
     ]
    },
    {
     "name": "stderr",
     "output_type": "stream",
     "text": [
      "TRAIN EPOCH: 41 | LR: 0.00004 | MEAN-TRAIN-LOSS: 60.12488: 100%|██████████| 100/100 [00:01<00:00, 60.75it/s]\n",
      "VAL BATCH: 100 | MEAN-VAL-LOSS: 66.11106: 100%|██████████| 100/100 [00:01<00:00, 69.23it/s]\n",
      "TRAIN EPOCH: 42 | LR: 0.00010 | MEAN-TRAIN-LOSS: 67.17409:   0%|          | 0/100 [00:00<?, ?it/s]"
     ]
    },
    {
     "name": "stdout",
     "output_type": "stream",
     "text": [
      "Aspect  0: <unk>, around, death, star, form, want, country, home\n",
      "Aspect  1: set, le, family, night, great, part, la, come\n",
      "Aspect  2: end, well, band, take, never, much, work, would\n",
      "Aspect  3: view, since, end, form, made, album, third, bit\n",
      "Aspect  4: even, pop, second, many, lyric, leave, le, london\n",
      "Aspect  5: album, style, moment, one, return, blue, vocal, man\n",
      "Aspect  6: black, also, film, old, still, however, life, music\n",
      "Aspect  7: family, guitar, indie, title, feel, best, star, always\n",
      "Aspect  8: com, work, family, well, album, time, like, love\n",
      "Aspect  9: john, month, new, character, make, song, letter, hear\n",
      "Aspect 10: early, since, question, soul, long, could, tell, co\n",
      "Aspect 11: john, like, voice, rather, working, last, anxiety, rock\n",
      "Aspect 12: story, end, like, day, first, week, review, singer\n",
      "Aspect 13: week, day, two, said, death, experience, com, old\n",
      "Aspect 14: album, go, see, question, play, together, hit, way\n"
     ]
    },
    {
     "name": "stderr",
     "output_type": "stream",
     "text": [
      "TRAIN EPOCH: 42 | LR: 0.00004 | MEAN-TRAIN-LOSS: 65.85450: 100%|██████████| 100/100 [00:01<00:00, 61.89it/s]\n",
      "VAL BATCH: 100 | MEAN-VAL-LOSS: 66.17074: 100%|██████████| 100/100 [00:01<00:00, 67.06it/s]\n",
      "TRAIN EPOCH: 43 | LR: 0.00010 | MEAN-TRAIN-LOSS: 62.10353:   0%|          | 0/100 [00:00<?, ?it/s]"
     ]
    },
    {
     "name": "stdout",
     "output_type": "stream",
     "text": [
      "Aspect  0: <unk>, around, death, star, form, want, country, home\n",
      "Aspect  1: set, le, family, night, great, part, la, come\n",
      "Aspect  2: end, well, band, take, never, much, work, would\n",
      "Aspect  3: view, since, end, form, made, album, third, bit\n",
      "Aspect  4: even, pop, second, many, lyric, leave, le, london\n",
      "Aspect  5: album, style, moment, one, return, blue, vocal, man\n",
      "Aspect  6: black, also, film, old, still, however, life, music\n",
      "Aspect  7: family, guitar, indie, title, feel, best, star, always\n",
      "Aspect  8: com, work, family, well, album, time, like, love\n",
      "Aspect  9: john, month, new, character, make, song, letter, hear\n",
      "Aspect 10: early, since, question, soul, long, could, tell, co\n",
      "Aspect 11: john, like, voice, rather, working, last, anxiety, rock\n",
      "Aspect 12: story, end, like, day, first, week, review, singer\n",
      "Aspect 13: week, day, two, said, death, experience, com, old\n",
      "Aspect 14: album, go, see, question, play, together, hit, way\n"
     ]
    },
    {
     "name": "stderr",
     "output_type": "stream",
     "text": [
      "TRAIN EPOCH: 43 | LR: 0.00003 | MEAN-TRAIN-LOSS: 60.63328: 100%|██████████| 100/100 [00:01<00:00, 63.02it/s]\n",
      "VAL BATCH: 100 | MEAN-VAL-LOSS: 66.04942: 100%|██████████| 100/100 [00:00<00:00, 119.90it/s]\n",
      "TRAIN EPOCH: 44 | LR: 0.00010 | MEAN-TRAIN-LOSS: 63.40549:   0%|          | 0/100 [00:00<?, ?it/s]"
     ]
    },
    {
     "name": "stdout",
     "output_type": "stream",
     "text": [
      "Aspect  0: <unk>, around, death, star, form, want, country, home\n",
      "Aspect  1: set, le, family, night, great, part, la, come\n",
      "Aspect  2: end, well, band, take, never, much, work, would\n",
      "Aspect  3: view, since, end, form, made, album, third, bit\n",
      "Aspect  4: even, pop, second, many, lyric, leave, le, london\n",
      "Aspect  5: album, style, moment, one, return, blue, vocal, man\n",
      "Aspect  6: black, also, film, old, still, however, life, music\n",
      "Aspect  7: family, guitar, indie, title, feel, best, star, always\n",
      "Aspect  8: com, work, family, well, album, time, like, love\n",
      "Aspect  9: john, month, new, character, make, song, letter, hear\n",
      "Aspect 10: early, since, question, soul, long, could, tell, co\n",
      "Aspect 11: john, like, voice, rather, working, last, anxiety, rock\n",
      "Aspect 12: story, end, like, day, first, week, review, singer\n",
      "Aspect 13: week, day, two, said, death, experience, com, old\n",
      "Aspect 14: album, go, see, question, play, together, hit, way\n"
     ]
    },
    {
     "name": "stderr",
     "output_type": "stream",
     "text": [
      "TRAIN EPOCH: 44 | LR: 0.00003 | MEAN-TRAIN-LOSS: 64.31002: 100%|██████████| 100/100 [00:01<00:00, 99.76it/s]\n",
      "VAL BATCH: 100 | MEAN-VAL-LOSS: 66.18744: 100%|██████████| 100/100 [00:00<00:00, 126.42it/s]\n",
      "TRAIN EPOCH: 45 | LR: 0.00010 | MEAN-TRAIN-LOSS: 62.28286:   0%|          | 0/100 [00:00<?, ?it/s]"
     ]
    },
    {
     "name": "stdout",
     "output_type": "stream",
     "text": [
      "Aspect  0: <unk>, around, death, star, form, want, country, home\n",
      "Aspect  1: set, le, family, night, great, part, la, come\n",
      "Aspect  2: end, well, band, take, never, much, work, would\n",
      "Aspect  3: view, since, end, form, made, album, third, bit\n",
      "Aspect  4: even, pop, second, many, lyric, leave, le, london\n",
      "Aspect  5: album, style, moment, one, return, blue, vocal, man\n",
      "Aspect  6: black, also, film, old, still, however, life, music\n",
      "Aspect  7: family, guitar, indie, title, feel, star, best, always\n",
      "Aspect  8: com, work, family, well, album, time, like, love\n",
      "Aspect  9: john, month, character, new, make, song, letter, hear\n",
      "Aspect 10: early, since, question, soul, long, could, tell, co\n",
      "Aspect 11: john, like, voice, rather, working, last, anxiety, rock\n",
      "Aspect 12: story, end, like, day, first, week, review, singer\n",
      "Aspect 13: week, day, two, said, death, experience, com, old\n",
      "Aspect 14: album, go, see, question, play, together, hit, way\n"
     ]
    },
    {
     "name": "stderr",
     "output_type": "stream",
     "text": [
      "TRAIN EPOCH: 45 | LR: 0.00003 | MEAN-TRAIN-LOSS: 65.19306: 100%|██████████| 100/100 [00:01<00:00, 97.08it/s]\n",
      "VAL BATCH: 100 | MEAN-VAL-LOSS: 65.85415: 100%|██████████| 100/100 [00:00<00:00, 121.94it/s]\n",
      "TRAIN EPOCH: 46 | LR: 0.00010 | MEAN-TRAIN-LOSS: 65.89185:   0%|          | 0/100 [00:00<?, ?it/s]"
     ]
    },
    {
     "name": "stdout",
     "output_type": "stream",
     "text": [
      "Aspect  0: <unk>, around, death, star, form, want, country, home\n",
      "Aspect  1: set, le, family, night, great, part, la, come\n",
      "Aspect  2: end, well, band, take, never, much, work, would\n",
      "Aspect  3: view, since, end, form, made, album, third, bit\n",
      "Aspect  4: even, pop, second, many, lyric, leave, le, london\n",
      "Aspect  5: album, style, moment, one, return, blue, vocal, man\n",
      "Aspect  6: black, also, film, old, still, however, life, music\n",
      "Aspect  7: family, guitar, indie, title, feel, star, best, always\n",
      "Aspect  8: com, work, family, well, album, time, like, love\n",
      "Aspect  9: john, month, new, character, make, song, letter, hear\n",
      "Aspect 10: early, since, question, soul, long, could, tell, co\n",
      "Aspect 11: john, like, voice, rather, working, last, anxiety, rock\n",
      "Aspect 12: story, end, like, day, first, week, review, singer\n",
      "Aspect 13: week, day, two, said, death, experience, com, old\n",
      "Aspect 14: album, go, see, question, play, together, hit, way\n"
     ]
    },
    {
     "name": "stderr",
     "output_type": "stream",
     "text": [
      "TRAIN EPOCH: 46 | LR: 0.00003 | MEAN-TRAIN-LOSS: 68.33681: 100%|██████████| 100/100 [00:01<00:00, 87.96it/s]\n",
      "VAL BATCH: 100 | MEAN-VAL-LOSS: 65.84321: 100%|██████████| 100/100 [00:00<00:00, 123.69it/s]\n",
      "TRAIN EPOCH: 47 | LR: 0.00010 | MEAN-TRAIN-LOSS: 61.10813:   0%|          | 0/100 [00:00<?, ?it/s]"
     ]
    },
    {
     "name": "stdout",
     "output_type": "stream",
     "text": [
      "Aspect  0: <unk>, around, death, star, form, want, country, home\n",
      "Aspect  1: set, le, family, night, great, part, la, come\n",
      "Aspect  2: end, well, band, take, never, much, work, would\n",
      "Aspect  3: view, since, end, form, made, album, third, bit\n",
      "Aspect  4: even, pop, second, many, lyric, leave, le, london\n",
      "Aspect  5: album, style, moment, one, return, blue, vocal, man\n",
      "Aspect  6: black, also, film, old, still, however, life, music\n",
      "Aspect  7: family, guitar, indie, title, feel, star, best, always\n",
      "Aspect  8: com, family, work, well, album, time, like, love\n",
      "Aspect  9: john, month, character, new, make, song, letter, hear\n",
      "Aspect 10: early, since, question, soul, long, could, tell, co\n",
      "Aspect 11: john, like, voice, rather, working, last, anxiety, rock\n",
      "Aspect 12: story, end, like, day, first, week, review, singer\n",
      "Aspect 13: week, day, two, said, death, experience, com, old\n",
      "Aspect 14: album, go, see, question, play, together, hit, way\n"
     ]
    },
    {
     "name": "stderr",
     "output_type": "stream",
     "text": [
      "TRAIN EPOCH: 47 | LR: 0.00003 | MEAN-TRAIN-LOSS: 64.12395: 100%|██████████| 100/100 [00:01<00:00, 87.19it/s]\n",
      "VAL BATCH: 100 | MEAN-VAL-LOSS: 65.60259: 100%|██████████| 100/100 [00:00<00:00, 111.24it/s]\n",
      "TRAIN EPOCH: 48 | LR: 0.00010 | MEAN-TRAIN-LOSS: 60.84122:   0%|          | 0/100 [00:00<?, ?it/s]"
     ]
    },
    {
     "name": "stdout",
     "output_type": "stream",
     "text": [
      "Aspect  0: <unk>, around, death, star, form, want, country, home\n",
      "Aspect  1: set, le, family, night, great, part, la, come\n",
      "Aspect  2: end, well, band, take, never, much, work, would\n",
      "Aspect  3: view, since, end, form, made, album, third, bit\n",
      "Aspect  4: even, pop, second, many, lyric, leave, le, london\n",
      "Aspect  5: album, style, moment, one, return, blue, vocal, man\n",
      "Aspect  6: black, also, film, old, still, however, life, music\n",
      "Aspect  7: family, guitar, indie, title, feel, star, best, always\n",
      "Aspect  8: com, family, work, well, album, time, like, love\n",
      "Aspect  9: john, month, character, new, make, song, letter, hear\n",
      "Aspect 10: early, since, question, soul, long, could, tell, co\n",
      "Aspect 11: john, like, voice, rather, working, last, anxiety, rock\n",
      "Aspect 12: story, end, like, day, first, week, review, singer\n",
      "Aspect 13: week, day, two, said, death, experience, com, old\n",
      "Aspect 14: album, go, see, question, play, together, hit, way\n"
     ]
    },
    {
     "name": "stderr",
     "output_type": "stream",
     "text": [
      "TRAIN EPOCH: 48 | LR: 0.00003 | MEAN-TRAIN-LOSS: 60.98797: 100%|██████████| 100/100 [00:01<00:00, 81.26it/s]\n",
      "VAL BATCH: 100 | MEAN-VAL-LOSS: 65.77150: 100%|██████████| 100/100 [00:00<00:00, 127.57it/s]\n",
      "TRAIN EPOCH: 49 | LR: 0.00010 | MEAN-TRAIN-LOSS: 66.20428:   0%|          | 0/100 [00:00<?, ?it/s]"
     ]
    },
    {
     "name": "stdout",
     "output_type": "stream",
     "text": [
      "Aspect  0: <unk>, death, around, star, form, want, country, home\n",
      "Aspect  1: set, le, family, night, great, part, la, come\n",
      "Aspect  2: end, well, band, take, never, much, work, would\n",
      "Aspect  3: view, since, end, form, made, album, third, bit\n",
      "Aspect  4: even, pop, second, many, lyric, leave, le, london\n",
      "Aspect  5: album, style, moment, one, return, blue, vocal, man\n",
      "Aspect  6: black, also, film, old, still, however, life, music\n",
      "Aspect  7: family, guitar, indie, title, feel, star, best, always\n",
      "Aspect  8: com, family, work, well, album, time, like, love\n",
      "Aspect  9: john, month, character, new, make, song, letter, hear\n",
      "Aspect 10: early, since, question, soul, long, could, tell, co\n",
      "Aspect 11: john, like, voice, rather, working, last, anxiety, rock\n",
      "Aspect 12: story, end, like, day, first, week, review, singer\n",
      "Aspect 13: week, day, two, said, death, experience, com, old\n",
      "Aspect 14: album, go, see, question, play, together, hit, way\n"
     ]
    },
    {
     "name": "stderr",
     "output_type": "stream",
     "text": [
      "TRAIN EPOCH: 49 | LR: 0.00003 | MEAN-TRAIN-LOSS: 68.88216: 100%|██████████| 100/100 [00:01<00:00, 96.70it/s]\n",
      "VAL BATCH: 100 | MEAN-VAL-LOSS: 65.66715: 100%|██████████| 100/100 [00:00<00:00, 116.79it/s]\n",
      "TRAIN EPOCH: 50 | LR: 0.00003 | MEAN-TRAIN-LOSS: 65.33442:   0%|          | 0/100 [00:00<?, ?it/s]"
     ]
    },
    {
     "name": "stdout",
     "output_type": "stream",
     "text": [
      "Aspect  0: <unk>, around, death, star, form, want, country, home\n",
      "Aspect  1: set, le, family, night, great, part, la, come\n",
      "Aspect  2: end, well, band, take, never, much, work, would\n",
      "Aspect  3: view, since, end, form, made, album, third, bit\n",
      "Aspect  4: even, pop, second, many, lyric, leave, le, london\n",
      "Aspect  5: album, style, moment, one, return, blue, vocal, man\n",
      "Aspect  6: black, also, film, old, still, however, life, music\n",
      "Aspect  7: family, guitar, indie, title, feel, star, best, always\n",
      "Aspect  8: com, family, work, well, album, time, like, love\n",
      "Aspect  9: john, month, character, new, make, song, letter, hear\n",
      "Aspect 10: early, since, question, soul, long, could, tell, co\n",
      "Aspect 11: john, like, voice, rather, working, last, anxiety, rock\n",
      "Aspect 12: story, end, like, day, first, week, review, singer\n",
      "Aspect 13: week, day, two, said, death, experience, com, old\n",
      "Aspect 14: album, go, see, question, play, together, hit, way\n"
     ]
    },
    {
     "name": "stderr",
     "output_type": "stream",
     "text": [
      "TRAIN EPOCH: 50 | LR: 0.00002 | MEAN-TRAIN-LOSS: 65.07245: 100%|██████████| 100/100 [00:01<00:00, 88.75it/s]\n",
      "VAL BATCH: 100 | MEAN-VAL-LOSS: 65.89549: 100%|██████████| 100/100 [00:00<00:00, 111.52it/s]\n"
     ]
    },
    {
     "name": "stdout",
     "output_type": "stream",
     "text": [
      "Aspect  0: <unk>, death, around, star, form, want, country, home\n",
      "Aspect  1: set, le, family, night, great, part, la, come\n",
      "Aspect  2: end, well, band, take, never, much, work, would\n",
      "Aspect  3: view, since, end, form, made, album, third, bit\n",
      "Aspect  4: even, pop, second, many, lyric, leave, le, london\n",
      "Aspect  5: album, style, moment, one, return, blue, vocal, man\n",
      "Aspect  6: black, also, film, old, still, however, life, music\n",
      "Aspect  7: family, guitar, indie, title, feel, star, best, always\n",
      "Aspect  8: com, family, work, well, album, time, like, love\n",
      "Aspect  9: john, month, character, new, make, song, letter, hear\n",
      "Aspect 10: early, since, question, soul, long, could, tell, co\n",
      "Aspect 11: even, like, rather, voice, working, last, anxiety, rock\n",
      "Aspect 12: story, end, like, day, first, week, review, singer\n",
      "Aspect 13: week, day, two, said, death, experience, com, old\n",
      "Aspect 14: album, go, see, question, play, together, hit, way\n",
      "saving abae model: \"./data/data.txt.prep.abae.pt\"\n"
     ]
    },
    {
     "data": {
      "image/png": "[encoded data removed]",
      "text/plain": [
       "<Figure size 576x288 with 1 Axes>"
      ]
     },
     "metadata": {
      "needs_background": "light"
     },
     "output_type": "display_data"
    }
   ],
   "source": [
    "import os\n",
    "import time\n",
    "\n",
    "\n",
    "data = './data/data.txt'\n",
    "prep = data + '.prep'\n",
    "if not os.path.isfile(prep):\n",
    "    preprocess(data, prep)\n",
    "\n",
    "\n",
    "min_count = 10\n",
    "d_embed = 200\n",
    "n_aspects = 15\n",
    "w2v = prep + '.w2v'\n",
    "\n",
    "abae_path = prep + '.abae.pt'\n",
    "device = 'cpu'\n",
    "\n",
    "aspector = aspect_model(prep, w2v, min_count, d_embed, n_aspects, device)\n",
    "if os.path.isfile(abae_path):\n",
    "    aspector.load_abae(abae_path)\n",
    "\n",
    "\n",
    "x = (aspector.w2v.n_vocab, aspector.w2v.d_embed, aspector.w2v.n_aspects)\n",
    "print('n_vocab: %d | d_embed: %d | n_aspects: %d' % x)\n",
    "\n",
    "\n",
    "split = {'train': 0.9, 'val': 0.05, 'test': 0.05}\n",
    "with dataloader(aspector.w2v.w2i, prep, split=split) as dl:\n",
    "\n",
    "    epochs = 50\n",
    "    epochsize = 100\n",
    "    batchsize = 4\n",
    "    negsize = 20\n",
    "    initial_lr = 0.0001\n",
    "\n",
    "    if epochs > 0:\n",
    "        train(aspector.ab, dl, \n",
    "              device=device,\n",
    "              epochs=epochs, \n",
    "              epochsize=epochsize,\n",
    "              batchsize=batchsize,\n",
    "              negsize=negsize,\n",
    "              initial_lr=initial_lr)\n",
    "\n",
    "        aspector.save_abae(abae_path)"
   ]
  },
  {
   "cell_type": "code",
   "execution_count": null,
   "metadata": {},
   "outputs": [],
   "source": []
  },
  {
   "cell_type": "code",
   "execution_count": null,
   "metadata": {},
   "outputs": [],
   "source": []
  },
  {
   "cell_type": "code",
   "execution_count": null,
   "metadata": {},
   "outputs": [],
   "source": []
  },
  {
   "cell_type": "code",
   "execution_count": null,
   "metadata": {},
   "outputs": [],
   "source": []
  },
  {
   "cell_type": "code",
   "execution_count": null,
   "metadata": {},
   "outputs": [],
   "source": []
  }
 ],
 "metadata": {
  "kernelspec": {
   "display_name": "Python 3",
   "language": "python",
   "name": "python3"
  }
 },
 "nbformat": 4,
 "nbformat_minor": 4
}
